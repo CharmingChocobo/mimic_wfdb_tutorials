{
 "cells": [
  {
   "cell_type": "markdown",
   "id": "5d037743",
   "metadata": {},
   "source": [
    "# Data Extraction\n",
    "\n",
    "Extract data from a MIMIC Waveform record."
   ]
  },
  {
   "cell_type": "markdown",
   "id": "1afcdef9",
   "metadata": {},
   "source": [
    "## Identify a record"
   ]
  },
  {
   "cell_type": "code",
   "execution_count": 1,
   "id": "ce3cdfde",
   "metadata": {},
   "outputs": [],
   "source": [
    "# setup\n",
    "import sys\n",
    "import wfdb"
   ]
  },
  {
   "cell_type": "code",
   "execution_count": 2,
   "id": "e2d42258",
   "metadata": {},
   "outputs": [
    {
     "name": "stdout",
     "output_type": "stream",
     "text": [
      "List of records loaded for bidmc database\n"
     ]
    }
   ],
   "source": [
    "# get a list of records in the database\n",
    "database_name = 'bidmc'\n",
    "records = wfdb.get_record_list(database_name)\n",
    "print(\"List of records loaded for {} database\".format(database_name))"
   ]
  },
  {
   "cell_type": "code",
   "execution_count": 3,
   "id": "bb5745a7",
   "metadata": {},
   "outputs": [
    {
     "name": "stdout",
     "output_type": "stream",
     "text": [
      "Selected record: bidmc01\n"
     ]
    }
   ],
   "source": [
    "# Select the first record\n",
    "selected_record = records[0]\n",
    "print(\"Selected record: {}\".format(selected_record))"
   ]
  },
  {
   "cell_type": "markdown",
   "id": "3b2e6adb",
   "metadata": {},
   "source": [
    "## Extract data from this record"
   ]
  },
  {
   "cell_type": "code",
   "execution_count": 4,
   "id": "8626ebac",
   "metadata": {},
   "outputs": [
    {
     "name": "stdout",
     "output_type": "stream",
     "text": [
      "Data loaded from record: bidmc01\n"
     ]
    }
   ],
   "source": [
    "# load data from this record\n",
    "record_data = wfdb.rdrecord(record_name=selected_record, pn_dir=database_name) \n",
    "print(\"Data loaded from record: {}\".format(selected_record))"
   ]
  },
  {
   "cell_type": "code",
   "execution_count": 5,
   "id": "967fa4ef",
   "metadata": {},
   "outputs": [
    {
     "name": "stdout",
     "output_type": "stream",
     "text": [
      "Data stored in class of type: <class 'wfdb.io.record.Record'>\n"
     ]
    }
   ],
   "source": [
    "# Look at class type of the object in which the data are stored:\n",
    "print(\"Data stored in class of type: {}\".format(type(record_data)))"
   ]
  },
  {
   "cell_type": "code",
   "execution_count": 6,
   "id": "8d955073",
   "metadata": {},
   "outputs": [
    {
     "name": "stdout",
     "output_type": "stream",
     "text": [
      "{'adc_gain': [65534.0, 138229.4494, 32670.9091, 42414.137, 32670.9091],\n",
      " 'adc_res': [0, 0, 0, 0, 0],\n",
      " 'adc_zero': [0, 0, 0, 0, 0],\n",
      " 'base_counter': None,\n",
      " 'base_date': None,\n",
      " 'base_time': None,\n",
      " 'baseline': [-32767, -63710, -16367, -11643, -16367],\n",
      " 'block_size': [0, 0, 0, 0, 0],\n",
      " 'byte_offset': [None, None, None, None, None],\n",
      " 'checksum': [5854, 29272, -17810, -20589, 23277],\n",
      " 'comments': ['<age>: 88 <sex>: M <location>: micu <source>: '\n",
      "              'https://physionet.org/physiobank/database/mimic2wdb/matched/s01182/ '\n",
      "              '<data segment>: 2688-03-25-23-14<modifications>: this is not a '\n",
      "              'verbatim copy of an original file. Please see the accompanying '\n",
      "              'LICENSE.txt file for further details.'],\n",
      " 'counter_freq': None,\n",
      " 'd_signal': None,\n",
      " 'e_d_signal': None,\n",
      " 'e_p_signal': None,\n",
      " 'file_name': ['bidmc01.dat',\n",
      "               'bidmc01.dat',\n",
      "               'bidmc01.dat',\n",
      "               'bidmc01.dat',\n",
      "               'bidmc01.dat'],\n",
      " 'fmt': ['16', '16', '16', '16', '16'],\n",
      " 'fs': 125,\n",
      " 'init_value': [-9577, -3446, 801, 1248, 7335],\n",
      " 'n_sig': 5,\n",
      " 'p_signal': array([[0.35386212, 0.43597077, 0.52548278, 0.30393168, 0.72547721],\n",
      "       [0.35679189, 0.43206423, 0.51960599, 0.33528915, 0.67059658],\n",
      "       [0.35874508, 0.42815044, 0.51568813, 0.37452135, 0.60980856],\n",
      "       ...,\n",
      "       [0.14662618, 0.40175954, 0.49998609, 0.53529322, 0.38431744],\n",
      "       [0.14174322, 0.40175954, 0.49998609, 0.53920701, 0.38039958],\n",
      "       [0.13783685, 0.40273618, 0.4941093 , 0.53529322, 0.38039958]]),\n",
      " 'record_name': 'bidmc01',\n",
      " 'samps_per_frame': [1, 1, 1, 1, 1],\n",
      " 'sig_len': 60001,\n",
      " 'sig_name': ['RESP,', 'PLETH,', 'V,', 'AVR,', 'II,'],\n",
      " 'skew': [None, None, None, None, None],\n",
      " 'units': ['pm', 'NU', 'mV', 'mV', 'mV']}\n"
     ]
    }
   ],
   "source": [
    "# look at variables contained within the object\n",
    "from pprint import pprint\n",
    "pprint(vars(record_data))"
   ]
  },
  {
   "cell_type": "code",
   "execution_count": null,
   "id": "d5bdaed6",
   "metadata": {},
   "outputs": [],
   "source": []
  },
  {
   "cell_type": "code",
   "execution_count": null,
   "id": "86eed39f",
   "metadata": {},
   "outputs": [],
   "source": []
  }
 ],
 "metadata": {
  "kernelspec": {
   "display_name": "Python 3",
   "language": "python",
   "name": "python3"
  },
  "language_info": {
   "codemirror_mode": {
    "name": "ipython",
    "version": 3
   },
   "file_extension": ".py",
   "mimetype": "text/x-python",
   "name": "python",
   "nbconvert_exporter": "python",
   "pygments_lexer": "ipython3",
   "version": "3.8.8"
  },
  "toc": {
   "base_numbering": 1,
   "nav_menu": {},
   "number_sections": true,
   "sideBar": true,
   "skip_h1_title": false,
   "title_cell": "Table of Contents",
   "title_sidebar": "Contents",
   "toc_cell": false,
   "toc_position": {},
   "toc_section_display": true,
   "toc_window_display": false
  }
 },
 "nbformat": 4,
 "nbformat_minor": 5
}