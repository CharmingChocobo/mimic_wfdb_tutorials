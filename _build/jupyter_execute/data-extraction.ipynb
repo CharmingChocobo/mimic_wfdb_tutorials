{
 "cells": [
  {
   "cell_type": "markdown",
   "id": "5d037743",
   "metadata": {},
   "source": [
    "# Data Extraction\n",
    "\n",
    "Extract data from a MIMIC Waveform record."
   ]
  },
  {
   "cell_type": "markdown",
   "id": "1afcdef9",
   "metadata": {},
   "source": [
    "## Identify a record"
   ]
  },
  {
   "cell_type": "code",
   "execution_count": 1,
   "id": "ce3cdfde",
   "metadata": {},
   "outputs": [],
   "source": [
    "# setup\n",
    "import sys\n",
    "import wfdb"
   ]
  },
  {
   "cell_type": "code",
   "execution_count": 2,
   "id": "bb5745a7",
   "metadata": {},
   "outputs": [
    {
     "name": "stdout",
     "output_type": "stream",
     "text": [
      "Selected record: 3000063_0013\n"
     ]
    }
   ],
   "source": [
    "# Select the first record\n",
    "selected_record = '3000063_0013'\n",
    "print(\"Selected record: {}\".format(selected_record))"
   ]
  },
  {
   "cell_type": "markdown",
   "id": "3b2e6adb",
   "metadata": {},
   "source": [
    "## Extract data from this record"
   ]
  },
  {
   "cell_type": "code",
   "execution_count": 3,
   "id": "8626ebac",
   "metadata": {},
   "outputs": [
    {
     "name": "stdout",
     "output_type": "stream",
     "text": [
      "Data loaded from record: 3000063_0013\n"
     ]
    }
   ],
   "source": [
    "# load data from this record\n",
    "database_name = 'mimic3wdb/1.0/30/3000063/'\n",
    "record_data = wfdb.rdrecord(record_name=selected_record, pn_dir=database_name) \n",
    "print(\"Data loaded from record: {}\".format(selected_record))"
   ]
  },
  {
   "cell_type": "code",
   "execution_count": 4,
   "id": "967fa4ef",
   "metadata": {},
   "outputs": [
    {
     "name": "stdout",
     "output_type": "stream",
     "text": [
      "Data stored in class of type: <class 'wfdb.io.record.Record'>\n"
     ]
    }
   ],
   "source": [
    "# Look at class type of the object in which the data are stored:\n",
    "print(\"Data stored in class of type: {}\".format(type(record_data)))"
   ]
  },
  {
   "cell_type": "code",
   "execution_count": 5,
   "id": "8d955073",
   "metadata": {},
   "outputs": [
    {
     "name": "stdout",
     "output_type": "stream",
     "text": [
      "{'adc_gain': [127.0, 3.2, 255.0],\n",
      " 'adc_res': [8, 8, 8],\n",
      " 'adc_zero': [0, 0, 0],\n",
      " 'base_counter': None,\n",
      " 'base_date': None,\n",
      " 'base_time': datetime.time(1, 2, 14, 320000),\n",
      " 'baseline': [-64, -237, -128],\n",
      " 'block_size': [0, 0, 0],\n",
      " 'byte_offset': [None, None, None],\n",
      " 'checksum': [22097, 20512, -25943],\n",
      " 'comments': [],\n",
      " 'counter_freq': None,\n",
      " 'd_signal': None,\n",
      " 'e_d_signal': None,\n",
      " 'e_p_signal': None,\n",
      " 'file_name': ['3000063_0013.dat', '3000063_0013.dat', '3000063_0013.dat'],\n",
      " 'fmt': ['80', '80', '80'],\n",
      " 'fs': 125,\n",
      " 'init_value': [-67, -128, -3],\n",
      " 'n_sig': 3,\n",
      " 'p_signal': array([[-2.36220472e-02,             nan,  4.90196078e-01],\n",
      "       [-1.57480315e-02,             nan,  4.82352941e-01],\n",
      "       [-7.87401575e-03,             nan,  4.74509804e-01],\n",
      "       ...,\n",
      "       [ 7.87401575e-03,  9.78125000e+01,  4.39215686e-01],\n",
      "       [-7.87401575e-03,  9.56250000e+01,  4.58823529e-01],\n",
      "       [-7.87401575e-03,  9.43750000e+01,  4.82352941e-01]]),\n",
      " 'record_name': '3000063_0013',\n",
      " 'samps_per_frame': [1, 1, 1],\n",
      " 'sig_len': 120448,\n",
      " 'sig_name': ['II', 'ABP', 'PLETH'],\n",
      " 'skew': [None, None, None],\n",
      " 'units': ['mV', 'mmHg', 'NU']}\n"
     ]
    }
   ],
   "source": [
    "# look at variables contained within the object\n",
    "from pprint import pprint\n",
    "pprint(vars(record_data))"
   ]
  },
  {
   "cell_type": "code",
   "execution_count": null,
   "id": "86eed39f",
   "metadata": {},
   "outputs": [],
   "source": []
  }
 ],
 "metadata": {
  "kernelspec": {
   "display_name": "Python 3",
   "language": "python",
   "name": "python3"
  },
  "language_info": {
   "codemirror_mode": {
    "name": "ipython",
    "version": 3
   },
   "file_extension": ".py",
   "mimetype": "text/x-python",
   "name": "python",
   "nbconvert_exporter": "python",
   "pygments_lexer": "ipython3",
   "version": "3.8.8"
  },
  "toc": {
   "base_numbering": 1,
   "nav_menu": {},
   "number_sections": true,
   "sideBar": true,
   "skip_h1_title": false,
   "title_cell": "Table of Contents",
   "title_sidebar": "Contents",
   "toc_cell": false,
   "toc_position": {},
   "toc_section_display": true,
   "toc_window_display": false
  }
 },
 "nbformat": 4,
 "nbformat_minor": 5
}