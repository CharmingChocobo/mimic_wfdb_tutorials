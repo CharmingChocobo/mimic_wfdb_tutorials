{
 "cells": [
  {
   "cell_type": "markdown",
   "id": "5d037743",
   "metadata": {},
   "source": [
    "# Data Exploration\n",
    "\n",
    "Exploring MIMIC waveform data.\n",
    "\n",
    "## Identify records\n",
    "\n",
    "Identify the records in the MIMIC III Waveform Database"
   ]
  },
  {
   "cell_type": "code",
   "execution_count": 1,
   "id": "ce3cdfde",
   "metadata": {},
   "outputs": [],
   "source": [
    "# setup\n",
    "import sys\n",
    "import wfdb"
   ]
  },
  {
   "cell_type": "code",
   "execution_count": 2,
   "id": "e2d42258",
   "metadata": {},
   "outputs": [
    {
     "name": "stdout",
     "output_type": "stream",
     "text": [
      "Loaded list of records for mimic3wdb database\n"
     ]
    }
   ],
   "source": [
    "# get a list of records in the database\n",
    "database_name = 'mimic3wdb'\n",
    "records = wfdb.get_record_list(database_name)\n",
    "print(\"Loaded list of records for {} database\".format(database_name))"
   ]
  },
  {
   "cell_type": "code",
   "execution_count": 3,
   "id": "bb5745a7",
   "metadata": {},
   "outputs": [
    {
     "name": "stdout",
     "output_type": "stream",
     "text": [
      " - First ten records: ['30/3000003/', '30/3000031/', '30/3000051/', '30/3000060/', '30/3000063/', '30/3000065/', '30/3000086/', '30/3000100/', '30/3000103/', '30/3000105/']\n"
     ]
    }
   ],
   "source": [
    "# Display the first few records\n",
    "print(\" - First ten records: {}\".format(records[0:10]))\n",
    "# print(\" - Last ten records: {}\".format(records[-10:]))"
   ]
  },
  {
   "cell_type": "markdown",
   "id": "3b2e6adb",
   "metadata": {},
   "source": [
    "## Look at files in a record\n",
    "Inspect the files that make up a record"
   ]
  },
  {
   "cell_type": "code",
   "execution_count": null,
   "id": "86eed39f",
   "metadata": {},
   "outputs": [],
   "source": []
  },
  {
   "cell_type": "code",
   "execution_count": null,
   "id": "298e87ff",
   "metadata": {},
   "outputs": [],
   "source": []
  }
 ],
 "metadata": {
  "kernelspec": {
   "display_name": "Python 3",
   "language": "python",
   "name": "python3"
  },
  "language_info": {
   "codemirror_mode": {
    "name": "ipython",
    "version": 3
   },
   "file_extension": ".py",
   "mimetype": "text/x-python",
   "name": "python",
   "nbconvert_exporter": "python",
   "pygments_lexer": "ipython3",
   "version": "3.8.8"
  },
  "toc": {
   "base_numbering": 1,
   "nav_menu": {},
   "number_sections": true,
   "sideBar": true,
   "skip_h1_title": false,
   "title_cell": "Table of Contents",
   "title_sidebar": "Contents",
   "toc_cell": false,
   "toc_position": {},
   "toc_section_display": true,
   "toc_window_display": false
  }
 },
 "nbformat": 4,
 "nbformat_minor": 5
}