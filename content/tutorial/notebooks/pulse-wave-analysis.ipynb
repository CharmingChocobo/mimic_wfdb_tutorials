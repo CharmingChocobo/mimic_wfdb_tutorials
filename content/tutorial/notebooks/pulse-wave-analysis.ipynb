{
 "cells": [
  {
   "cell_type": "markdown",
   "id": "5d037743",
   "metadata": {},
   "source": [
    "# Pulse Wave Analysis\n",
    "In this tutorial we will learn how to extract features from PPG pulse waves.\n",
    "\n",
    "The **objectives** are:\n",
    "- To use a function to detect several fiducial points on PPG pulse waves\n",
    "- To calculate pulse wave features from the fiducial points"
   ]
  },
  {
   "cell_type": "markdown",
   "id": "cd0ac989",
   "metadata": {},
   "source": [
    "<div class=\"alert alert-block alert-warning\"> <b>Context:</b> One approach to estimating BP from PPG signals consists of extracting features from PPG pulse waves, and then using these as inputs to BP estimation model. This tutorial covers the first of these steps: extracting features from PPG pulse waves.</div>"
   ]
  },
  {
   "cell_type": "markdown",
   "id": "b38ec559",
   "metadata": {},
   "source": [
    "<div class=\"alert alert-block alert-info\"> <b>Resource:</b> You can read more about pulse wave analysis in Sections 3.2.2 and 3.2.3 of <a href=\"https://peterhcharlton.github.io/publication/ppg_sig_proc_chapter/\">this book</a>.</div>"
   ]
  },
  {
   "cell_type": "markdown",
   "id": "1afcdef9",
   "metadata": {},
   "source": [
    "---\n",
    "## Setup"
   ]
  },
  {
   "cell_type": "markdown",
   "id": "edd8e0c5",
   "metadata": {},
   "source": [
    "- Specify the required Python packages"
   ]
  },
  {
   "cell_type": "code",
   "execution_count": 1,
   "id": "ce3cdfde",
   "metadata": {},
   "outputs": [],
   "source": [
    "import sys\n",
    "import numpy as np\n",
    "import scipy.signal as sp\n",
    "\n",
    "from matplotlib import pyplot as plt\n",
    "\n",
    "import wfdb"
   ]
  },
  {
   "cell_type": "markdown",
   "id": "61a223f7",
   "metadata": {},
   "source": [
    "- Specify the settings for the MIMIC-III database"
   ]
  },
  {
   "cell_type": "code",
   "execution_count": 2,
   "id": "ee8532b2",
   "metadata": {},
   "outputs": [],
   "source": [
    "wfdb.set_db_index_url('https://physionet.org/files') # use the version of the WFDB toolbox which corresponds to MIMIC IV.\n",
    "database_name = 'mimic3wdb/1.0' # The name of the MIMIC III Waveform Database on Physionet (see URL: https://physionet.org/content/mimic3wdb/1.0/)"
   ]
  },
  {
   "cell_type": "markdown",
   "id": "61a9432c",
   "metadata": {},
   "source": [
    "- Provide a list of segments which meet the requirements for the study"
   ]
  },
  {
   "cell_type": "code",
   "execution_count": 3,
   "id": "bb5745a7",
   "metadata": {},
   "outputs": [],
   "source": [
    "segment_names = ['3000063_0013']\n",
    "segment_dirs = ['mimic3wdb/1.0/30/3000063/']"
   ]
  },
  {
   "cell_type": "markdown",
   "id": "8ed55718",
   "metadata": {},
   "source": [
    "- Specify a segment from which to extract data"
   ]
  },
  {
   "cell_type": "code",
   "execution_count": 4,
   "id": "7dbf9e3a",
   "metadata": {},
   "outputs": [
    {
     "name": "stdout",
     "output_type": "stream",
     "text": [
      "Specified segment '3000063_0013' in directory 'mimic3wdb/1.0/30/3000063/'\n"
     ]
    }
   ],
   "source": [
    "rel_segment_no = 0\n",
    "rel_segment_name = segment_names[rel_segment_no]\n",
    "rel_segment_dir = segment_dirs[rel_segment_no]\n",
    "print(\"Specified segment '{}' in directory '{}'\".format(rel_segment_name, rel_segment_dir))"
   ]
  },
  {
   "cell_type": "markdown",
   "id": "fda3cdf7",
   "metadata": {},
   "source": [
    "---\n",
    "## Extract data\n",
    "Extract data from this segment"
   ]
  },
  {
   "cell_type": "markdown",
   "id": "47a63ea6",
   "metadata": {},
   "source": [
    "- Specify the duration to be extracted"
   ]
  },
  {
   "cell_type": "code",
   "execution_count": 7,
   "id": "75fd6b99",
   "metadata": {},
   "outputs": [],
   "source": [
    "start_time = 60 # time since the start of the segment at which to begin extracting data\n",
    "no_seconds_to_load = 10"
   ]
  },
  {
   "cell_type": "markdown",
   "id": "bb71616e",
   "metadata": {},
   "source": [
    "- Find out the sampling frequency of the waveform data"
   ]
  },
  {
   "cell_type": "code",
   "execution_count": 8,
   "id": "ac21feb2",
   "metadata": {},
   "outputs": [
    {
     "name": "stdout",
     "output_type": "stream",
     "text": [
      "Sampling frequency is 125 Hz\n"
     ]
    }
   ],
   "source": [
    "segment_metadata = wfdb.rdheader(record_name=rel_segment_name, pn_dir=rel_segment_dir)\n",
    "fs = segment_metadata.fs\n",
    "print(\"Sampling frequency is {} Hz\".format(fs))"
   ]
  },
  {
   "cell_type": "markdown",
   "id": "cd93e67f",
   "metadata": {},
   "source": [
    "- Extract this duration of signals from the longer segment"
   ]
  },
  {
   "cell_type": "code",
   "execution_count": 9,
   "id": "8626ebac",
   "metadata": {},
   "outputs": [
    {
     "name": "stdout",
     "output_type": "stream",
     "text": [
      "10 seconds of data loaded from segment '3000063_0013'\n"
     ]
    }
   ],
   "source": [
    "segment_data = wfdb.rdrecord(record_name = rel_segment_name, sampfrom = fs*start_time, sampto = fs*(start_time + no_seconds_to_load), pn_dir = rel_segment_dir) \n",
    "print(\"{} seconds of data loaded from segment '{}'\".format(no_seconds_to_load, rel_segment_name))"
   ]
  },
  {
   "cell_type": "markdown",
   "id": "bf5032c8",
   "metadata": {},
   "source": [
    "- Extract the PPG signal"
   ]
  },
  {
   "cell_type": "code",
   "execution_count": 11,
   "id": "f73c3d9b",
   "metadata": {},
   "outputs": [
    {
     "name": "stdout",
     "output_type": "stream",
     "text": [
      "Extracted the PPG signal from column 2 of the matrix of waveform data.\n",
      "Sampled at 125 Hz.\n"
     ]
    }
   ],
   "source": [
    "abp_col = []\n",
    "for sig_no in range(0,len(segment_data.sig_name)):\n",
    "    if \"PLETH\" in segment_data.sig_name[sig_no]:\n",
    "        ppg_col = sig_no\n",
    "ppg = segment_data.p_signal[:,ppg_col]\n",
    "fs = segment_data.fs\n",
    "print(\"Extracted the PPG signal from column {} of the matrix of waveform data.\".format(ppg_col))\n",
    "print(\"Sampled at {} Hz.\".format(segment_data.fs))"
   ]
  },
  {
   "cell_type": "markdown",
   "id": "3b79a329",
   "metadata": {},
   "source": [
    "---\n",
    "## Filter the PPG signal"
   ]
  },
  {
   "cell_type": "code",
   "execution_count": 12,
   "id": "cea96b6f",
   "metadata": {},
   "outputs": [],
   "source": [
    "import scipy.signal as sp\n",
    "sos_filter = sp.butter(10, [0.7, 10], btype = 'bp', analog = False, output = 'sos', fs = segment_data.fs)\n",
    "ppg_filt = sp.sosfiltfilt(sos_filter, ppg)"
   ]
  },
  {
   "cell_type": "markdown",
   "id": "1705ff48",
   "metadata": {},
   "source": [
    "---\n",
    "## Beat Detection"
   ]
  },
  {
   "cell_type": "code",
   "execution_count": 15,
   "id": "506473f0",
   "metadata": {},
   "outputs": [
    {
     "name": "stdout",
     "output_type": "stream",
     "text": [
      "Detected 17 beats in the PPG signal using the D2max algorithm\n"
     ]
    }
   ],
   "source": [
    "%run beat_detection_functions\n",
    "ibis = pulse_detect(ppg_filt,fs,5,'d2max')\n",
    "print(\"Detected {} beats in the PPG signal using the {} algorithm\".format(len(ibis), \"D2max\"))"
   ]
  },
  {
   "cell_type": "markdown",
   "id": "cd7b9456",
   "metadata": {},
   "source": [
    "---\n",
    "---\n",
    "**... Pete to continue from here ...**\n",
    "\n",
    "---\n",
    "---"
   ]
  },
  {
   "cell_type": "markdown",
   "id": "1699442c",
   "metadata": {},
   "source": [
    "## Identify fiducial points on pulse waves"
   ]
  },
  {
   "cell_type": "markdown",
   "id": "71c17d51",
   "metadata": {},
   "source": [
    "- Define the required functions"
   ]
  },
  {
   "cell_type": "code",
   "execution_count": 194,
   "id": "82b8e899",
   "metadata": {},
   "outputs": [],
   "source": [
    "def fiducial_points(x,pks,fs,vis):\n",
    "    \"\"\"\n",
    "    Description: Pulse detection and correction from pulsatile signals\n",
    "    Inputs:  x, array with pulsatile signal [user defined units]\n",
    "             pks, array with the position of the peaks [number of samples]\n",
    "             fs, sampling rate of signal [Hz]\n",
    "             vis, visualisation option [True, False]\n",
    "    Outputs: fidp, dictionary with the positions of several fiducial points for the cardiac cycles [number of samples]\n",
    "    \n",
    "    Fiducial points:  1: Systolic peak (pks)\n",
    "                      2: Onset, as the minimum before the systolic peak (ons)\n",
    "                      3: Onset, using the tangent intersection method (ti) \n",
    "                      4: Diastolic peak (dpk)\n",
    "                      5: Maximum slope (m1d)\n",
    "                      6: a point from second derivative PPG (a2d)\n",
    "                      7: b point from second derivative PPG (b2d)\n",
    "                      8: c point from second derivative PPG (c2d)\n",
    "                      9: d point from second derivative PPG (d2d)\n",
    "                      10: e point from second derivative PPG (e2d)\n",
    "                      11: p1 from the third derivative PPG (p1)    \n",
    "                      12: p2 from the third derivative PPG (p2)\n",
    "    \n",
    "    Libraries: NumPy (as np), SciPy (Signal, as sp), Matplotlib (PyPlot, as plt)\n",
    "    \n",
    "    Version: 1.0 - June 2022\n",
    "    \n",
    "    Developed by: Elisa Mejía-Mejía\n",
    "                   City, University of London\n",
    "    \n",
    "    Edited by: Peter Charlton (see \"Added by PC\")\n",
    "    \n",
    "    \"\"\"    \n",
    "    # First, second and third derivatives\n",
    "    d1x = sp.savgol_filter(x, 9, 5, deriv = 1) \n",
    "    d2x = sp.savgol_filter(x, 9, 5, deriv = 2) \n",
    "    d3x = sp.savgol_filter(x, 9, 5, deriv = 3) \n",
    "    \n",
    "    #plt.figure()\n",
    "    #plt.plot(x/np.max(x))\n",
    "    #plt.plot(d1x/np.max(d1x))\n",
    "    #plt.plot(d2x/np.max(d2x))\n",
    "    #plt.plot(d3x/np.max(d3x))\n",
    "    \n",
    "    # Search in time series: Onsets between consecutive peaks\n",
    "    ons = np.empty(0)\n",
    "    for i in range(len(pks) - 1):\n",
    "        start = pks[i]\n",
    "        stop = pks[i + 1]\n",
    "        ibi = x[start:stop]\n",
    "        #plt.figure()\n",
    "        #plt.plot(ibi, color = 'black')\n",
    "        aux_ons, = np.where(ibi == np.min(ibi))\n",
    "        ind_ons = aux_ons.astype(int)\n",
    "        ons = np.append(ons, ind_ons + start)   \n",
    "        #plt.plot(ind_ons, ibi[ind_ons], marker = 'o', color = 'red') \n",
    "    ons = ons.astype(int)\n",
    "    #print('Onsets: ' + str(ons))\n",
    "    #plt.figure()\n",
    "    #plt.plot(x, color = 'black')\n",
    "    #plt.scatter(pks, x[pks], marker = 'o', color = 'red') \n",
    "    #plt.scatter(ons, x[ons], marker = 'o', color = 'blue') \n",
    "    \n",
    "    # Search in time series: Diastolic peak and dicrotic notch between consecutive onsets\n",
    "    dia = np.empty(0)\n",
    "    dic = np.empty(0)\n",
    "    for i in range(len(ons) - 1):\n",
    "        start = ons[i]\n",
    "        stop = ons[i + 1]\n",
    "        ind_pks, = np.intersect1d(np.where(pks < stop), np.where(pks > start))\n",
    "        ind_pks = pks[ind_pks]\n",
    "        ibi_portion = x[ind_pks:stop]\n",
    "        ibi_2d_portion = d2x[ind_pks:stop]\n",
    "        #plt.figure()\n",
    "        #plt.plot(ibi_portion/np.max(ibi_portion))\n",
    "        #plt.plot(ibi_2d_portion/np.max(ibi_2d_portion))\n",
    "        aux_dic, _ = sp.find_peaks(ibi_2d_portion)\n",
    "        aux_dic = aux_dic.astype(int)\n",
    "        aux_dia, _ = sp.find_peaks(-ibi_2d_portion)\n",
    "        aux_dia = aux_dia.astype(int)   \n",
    "        if len(aux_dic) != 0:\n",
    "            ind_max, = np.where(ibi_2d_portion[aux_dic] == np.max(ibi_2d_portion[aux_dic]))\n",
    "            aux_dic_max = aux_dic[ind_max]\n",
    "            if len(aux_dia) != 0:\n",
    "                nearest = aux_dia - aux_dic_max\n",
    "                aux_dic = aux_dic_max\n",
    "                dic = np.append(dic, (aux_dic + ind_pks).astype(int))\n",
    "                #plt.scatter(aux_dic, ibi_portion[aux_dic]/np.max(ibi_portion), marker = 'o')\n",
    "                ind_dia, = np.where(nearest > 0)\n",
    "                aux_dia = aux_dia[ind_dia]\n",
    "                nearest = nearest[ind_dia]\n",
    "                if len(nearest) != 0:\n",
    "                    ind_nearest, = np.where(nearest == np.min(nearest))\n",
    "                    aux_dia = aux_dia[ind_nearest]\n",
    "                    dia = np.append(dia, (aux_dia + ind_pks).astype(int))\n",
    "                    #plt.scatter(aux_dia, ibi_portion[aux_dia]/np.max(ibi_portion), marker = 'o')\n",
    "                    #break\n",
    "            else:\n",
    "                dic = np.append(dic, (aux_dic_max + ind_pks).astype(int))\n",
    "                #plt.scatter(aux_dia, ibi_portion[aux_dia]/np.max(ibi_portion), marker = 'o')     \n",
    "    dia = dia.astype(int)\n",
    "    dic = dic.astype(int)\n",
    "    #plt.scatter(dia, x[dia], marker = 'o', color = 'orange')\n",
    "    #plt.scatter(dic, x[dic], marker = 'o', color = 'green')\n",
    "    \n",
    "    # Search in D1: Maximum slope point\n",
    "    m1d = np.empty(0)\n",
    "    for i in range(len(ons) - 1):\n",
    "        start = ons[i]\n",
    "        stop = ons[i + 1]\n",
    "        ind_pks, = np.intersect1d(np.where(pks < stop), np.where(pks > start))\n",
    "        ind_pks = pks[ind_pks]\n",
    "        ibi_portion = x[start:ind_pks]\n",
    "        ibi_1d_portion = d1x[start:ind_pks]\n",
    "        #plt.figure()\n",
    "        #plt.plot(ibi_portion/np.max(ibi_portion))\n",
    "        #plt.plot(ibi_1d_portion/np.max(ibi_1d_portion))\n",
    "        aux_m1d, _ = sp.find_peaks(ibi_1d_portion)\n",
    "        aux_m1d = aux_m1d.astype(int)  \n",
    "        if len(aux_m1d) != 0:\n",
    "            ind_max, = np.where(ibi_1d_portion[aux_m1d] == np.max(ibi_1d_portion[aux_m1d]))\n",
    "            aux_m1d_max = aux_m1d[ind_max]\n",
    "            if len(aux_m1d_max) > 1:\n",
    "                aux_m1d_max = aux_m1d_max[0]\n",
    "            m1d = np.append(m1d, (aux_m1d_max + start).astype(int))\n",
    "            #plt.scatter(aux_m1d, ibi_portion[aux_dic]/np.max(ibi_portion), marker = 'o')\n",
    "            #break    \n",
    "    m1d = m1d.astype(int)\n",
    "    #plt.scatter(m1d, x[m1d], marker = 'o', color = 'purple')\n",
    "    \n",
    "    # Search in time series: Tangent intersection points\n",
    "    tip = np.empty(0)\n",
    "    for i in range(len(ons) - 1):\n",
    "        start = ons[i]\n",
    "        stop = ons[i + 1]\n",
    "        ibi_portion = x[start:stop]\n",
    "        ibi_1d_portion = d1x[start:stop]\n",
    "        ind_m1d, = np.intersect1d(np.where(m1d < stop), np.where(m1d > start))\n",
    "        ind_m1d = m1d[ind_m1d] - start\n",
    "        #plt.figure()\n",
    "        #plt.plot(ibi_portion/np.max(ibi_portion))\n",
    "        #plt.plot(ibi_1d_portion/np.max(ibi_1d_portion))\n",
    "        #plt.scatter(ind_m1d, ibi_portion[ind_m1d]/np.max(ibi_portion), marker = 'o')\n",
    "        #plt.scatter(ind_m1d, ibi_1d_portion[ind_m1d]/np.max(ibi_1d_portion), marker = 'o')\n",
    "        aux_tip = np.round(((ibi_portion[0] - ibi_portion[ind_m1d])/ibi_1d_portion[ind_m1d]) + ind_m1d)\n",
    "        aux_tip = aux_tip.astype(int)\n",
    "        tip = np.append(tip, (aux_tip + start).astype(int))        \n",
    "        #plt.scatter(aux_tip, ibi_portion[aux_tip]/np.max(ibi_portion), marker = 'o')\n",
    "        #break\n",
    "    tip = tip.astype(int)\n",
    "    #plt.scatter(tip, x[tip], marker = 'o', color = 'aqua')\n",
    "    \n",
    "    # Search in D2: A, B, C, D and E points\n",
    "    a2d = np.empty(0)\n",
    "    b2d = np.empty(0)\n",
    "    c2d = np.empty(0)\n",
    "    d2d = np.empty(0)\n",
    "    e2d = np.empty(0)\n",
    "    for i in range(len(ons) - 1):\n",
    "        start = ons[i]\n",
    "        stop = ons[i + 1]\n",
    "        ibi_portion = x[start:stop]\n",
    "        ibi_1d_portion = d1x[start:stop]\n",
    "        ibi_2d_portion = d2x[start:stop]\n",
    "        ind_m1d = np.intersect1d(np.where(m1d > start),np.where(m1d < stop))\n",
    "        ind_m1d = m1d[ind_m1d]\n",
    "        #plt.figure()\n",
    "        #plt.plot(ibi_portion/np.max(ibi_portion))\n",
    "        #plt.plot(ibi_1d_portion/np.max(ibi_1d_portion))\n",
    "        #plt.plot(ibi_2d_portion/np.max(ibi_2d_portion))\n",
    "        aux_m2d_pks, _ = sp.find_peaks(ibi_2d_portion)\n",
    "        aux_m2d_ons, _ = sp.find_peaks(-ibi_2d_portion)\n",
    "        # a point:\n",
    "        ind_a, = np.where(ibi_2d_portion[aux_m2d_pks] == np.max(ibi_2d_portion[aux_m2d_pks]))\n",
    "        ind_a = aux_m2d_pks[ind_a]\n",
    "        if (ind_a < ind_m1d):\n",
    "            a2d = np.append(a2d, ind_a + start)\n",
    "            #plt.scatter(ind_a, ibi_2d_portion[ind_a]/np.max(ibi_2d_portion), marker = 'o')\n",
    "            # b point:\n",
    "            ind_b = np.where(ibi_2d_portion[aux_m2d_ons] == np.min(ibi_2d_portion[aux_m2d_ons]))\n",
    "            ind_b = aux_m2d_ons[ind_b]\n",
    "            if (ind_b > ind_a) and (ind_b < len(ibi_2d_portion)):\n",
    "                b2d = np.append(b2d, ind_b + start)\n",
    "                #plt.scatter(ind_b, ibi_2d_portion[ind_b]/np.max(ibi_2d_portion), marker = 'o')\n",
    "        # e point:\n",
    "        ind_e, = np.where(aux_m2d_pks > ind_m1d - start)\n",
    "        aux_m2d_pks = aux_m2d_pks[ind_e]\n",
    "        ind_e, = np.where(aux_m2d_pks < 0.6*len(ibi_2d_portion))\n",
    "        ind_e = aux_m2d_pks[ind_e]\n",
    "        if len(ind_e) >= 1:\n",
    "            if len(ind_e) >= 2:\n",
    "                ind_e = ind_e[1]\n",
    "            e2d = np.append(e2d, ind_e + start)\n",
    "            #plt.scatter(ind_e, ibi_2d_portion[ind_e]/np.max(ibi_2d_portion), marker = 'o')\n",
    "            # c point:\n",
    "            ind_c, = np.where(aux_m2d_pks < ind_e)\n",
    "            if len(ind_c) != 0:\n",
    "                ind_c_aux = aux_m2d_pks[ind_c]\n",
    "                ind_c, = np.where(ibi_2d_portion[ind_c_aux] == np.max(ibi_2d_portion[ind_c_aux]))\n",
    "                ind_c = ind_c_aux[ind_c]\n",
    "                if len(ind_c) != 0:\n",
    "                    c2d = np.append(c2d, ind_c + start)\n",
    "                    #plt.scatter(ind_c, ibi_2d_portion[ind_c]/np.max(ibi_2d_portion), marker = 'o')\n",
    "            else:\n",
    "                aux_m1d_ons, _ = sp.find_peaks(-ibi_1d_portion)\n",
    "                ind_c, = np.where(aux_m1d_ons < ind_e)\n",
    "                ind_c_aux = aux_m1d_ons[ind_c]\n",
    "                if len(ind_c) != 0:\n",
    "                    ind_c, = np.where(ind_c_aux > ind_b)\n",
    "                    ind_c = ind_c_aux[ind_c]\n",
    "                    if len(ind_c) > 1:\n",
    "                        ind_c = ind_c[0]\n",
    "                    c2d = np.append(c2d, ind_c + start)\n",
    "                    #plt.scatter(ind_c, ibi_2d_portion[ind_c]/np.max(ibi_2d_portion), marker = 'o')\n",
    "            # d point:\n",
    "            if len(ind_c) != 0:\n",
    "                ind_d = np.intersect1d(np.where(aux_m2d_ons < ind_e), np.where(aux_m2d_ons > ind_c))\n",
    "                if len(ind_d) != 0:\n",
    "                    ind_d_aux = aux_m2d_ons[ind_d]\n",
    "                    ind_d, = np.where(ibi_2d_portion[ind_d_aux] == np.min(ibi_2d_portion[ind_d_aux]))\n",
    "                    ind_d = ind_d_aux[ind_d]\n",
    "                    if len(ind_d) != 0:\n",
    "                        d2d = np.append(d2d, ind_d + start)\n",
    "                        #plt.scatter(ind_d, ibi_2d_portion[ind_d]/np.max(ibi_2d_portion), marker = 'o')                \n",
    "                else:\n",
    "                    ind_d = ind_c\n",
    "                    d2d = np.append(d2d, ind_d + start)\n",
    "                    #plt.scatter(ind_d, ibi_2d_portion[ind_d]/np.max(ibi_2d_portion), marker = 'o')\n",
    "    a2d = a2d.astype(int)\n",
    "    b2d = b2d.astype(int)\n",
    "    c2d = c2d.astype(int)\n",
    "    d2d = d2d.astype(int)\n",
    "    e2d = e2d.astype(int)\n",
    "    #plt.figure()\n",
    "    #plt.plot(d2x, color = 'black')\n",
    "    #plt.scatter(a2d, d2x[a2d], marker = 'o', color = 'red') \n",
    "    #plt.scatter(b2d, d2x[b2d], marker = 'o', color = 'blue')\n",
    "    #plt.scatter(c2d, d2x[c2d], marker = 'o', color = 'green')\n",
    "    #plt.scatter(d2d, d2x[d2d], marker = 'o', color = 'orange')\n",
    "    #plt.scatter(e2d, d2x[e2d], marker = 'o', color = 'purple')\n",
    "    \n",
    "    # Search in D3: P1 and P2 points\n",
    "    p1p = np.empty(0)\n",
    "    p2p = np.empty(0)\n",
    "    for i in range(len(ons) - 1):\n",
    "        start = ons[i]\n",
    "        stop = ons[i + 1]\n",
    "        ibi_portion = x[start:stop]\n",
    "        ibi_1d_portion = d1x[start:stop]\n",
    "        ibi_2d_portion = d2x[start:stop]\n",
    "        ibi_3d_portion = d3x[start:stop]\n",
    "        ind_b = np.intersect1d(np.where(b2d > start),np.where(b2d < stop))\n",
    "        ind_b = b2d[ind_b]\n",
    "        ind_c = np.intersect1d(np.where(c2d > start),np.where(c2d < stop))\n",
    "        ind_c = c2d[ind_c]\n",
    "        ind_d = np.intersect1d(np.where(d2d > start),np.where(d2d < stop))\n",
    "        ind_d = d2d[ind_d]\n",
    "        ind_dic = np.intersect1d(np.where(dic > start),np.where(dic < stop))\n",
    "        ind_dic = dic[ind_dic]\n",
    "        #plt.figure()\n",
    "        #plt.plot(ibi_portion/np.max(ibi_portion))\n",
    "        #plt.plot(ibi_1d_portion/np.max(ibi_1d_portion))\n",
    "        #plt.plot(ibi_2d_portion/np.max(ibi_2d_portion))\n",
    "        #plt.plot(ibi_3d_portion/np.max(ibi_3d_portion))\n",
    "        #plt.scatter(ind_b - start, ibi_3d_portion[ind_b - start]/np.max(ibi_3d_portion), marker = 'o')\n",
    "        #plt.scatter(ind_c - start, ibi_3d_portion[ind_c - start]/np.max(ibi_3d_portion), marker = 'o')\n",
    "        #plt.scatter(ind_d - start, ibi_3d_portion[ind_d - start]/np.max(ibi_3d_portion), marker = 'o')\n",
    "        #plt.scatter(ind_dic - start, ibi_3d_portion[ind_dic - start]/np.max(ibi_3d_portion), marker = 'o')\n",
    "        aux_p3d_pks, _ = sp.find_peaks(ibi_3d_portion)\n",
    "        aux_p3d_ons, _ = sp.find_peaks(-ibi_3d_portion)\n",
    "        # P1:\n",
    "        if (len(aux_p3d_pks) != 0 and len(ind_b) != 0):\n",
    "            ind_p1, = np.where(aux_p3d_pks > ind_b - start)\n",
    "            if len(ind_p1) != 0:\n",
    "                ind_p1 = aux_p3d_pks[ind_p1[0]]\n",
    "                p1p = np.append(p1p, ind_p1 + start)\n",
    "                #plt.scatter(ind_p1, ibi_3d_portion[ind_p1]/np.max(ibi_3d_portion), marker = 'o')\n",
    "        # P2:\n",
    "        if (len(aux_p3d_ons) != 0 and len(ind_c) != 0 and len(ind_d) != 0):\n",
    "            if ind_c == ind_d:\n",
    "                ind_p2, = np.where(aux_p3d_ons > ind_d - start)\n",
    "                ind_p2 = aux_p3d_ons[ind_p2[0]]\n",
    "            else:\n",
    "                ind_p2, = np.where(aux_p3d_ons < ind_d - start)\n",
    "                ind_p2 = aux_p3d_ons[ind_p2[-1]]\n",
    "            if len(ind_dic) != 0:\n",
    "                aux_x_pks, _ = sp.find_peaks(ibi_portion)\n",
    "                if ind_p2 > ind_dic - start:\n",
    "                    ind_between = np.intersect1d(np.where(aux_x_pks < ind_p2), np.where(aux_x_pks > ind_dic - start))\n",
    "                else:\n",
    "                    ind_between = np.intersect1d(np.where(aux_x_pks > ind_p2), np.where(aux_x_pks < ind_dic - start))\n",
    "                if len(ind_between) != 0:\n",
    "                    ind_p2 = aux_x_pks[ind_between[0]]\n",
    "            p2p = np.append(p2p, ind_p2 + start)\n",
    "            #plt.scatter(ind_p2, ibi_3d_portion[ind_p2]/np.max(ibi_3d_portion), marker = 'o')\n",
    "    p1p = p1p.astype(int)\n",
    "    p2p = p2p.astype(int)\n",
    "    #plt.figure()\n",
    "    #plt.plot(d3x, color = 'black')\n",
    "    #plt.scatter(p1p, d3x[p1p], marker = 'o', color = 'green') \n",
    "    #plt.scatter(p2p, d3x[p2p], marker = 'o', color = 'orange')\n",
    "    \n",
    "    # Added by PC: Magnitudes of second derivative points\n",
    "    bmag2d = np.zeros(len(b2d))\n",
    "    cmag2d = np.zeros(len(b2d))\n",
    "    dmag2d = np.zeros(len(b2d))\n",
    "    emag2d = np.zeros(len(b2d))\n",
    "    for beat_no in range(0,len(b2d)):\n",
    "        bmag2d[beat_no] = d2x[b2d[beat_no]]/d2x[a2d[beat_no]]\n",
    "        cmag2d[beat_no] = d2x[c2d[beat_no]]/d2x[a2d[beat_no]]\n",
    "        dmag2d[beat_no] = d2x[d2d[beat_no]]/d2x[a2d[beat_no]]        \n",
    "        emag2d[beat_no] = d2x[e2d[beat_no]]/d2x[a2d[beat_no]]    \n",
    "        \n",
    "     # Added by PC: Refine the list of fiducial points to only include those corresponding to beats for which a full set of points is available\n",
    "    off = ons[1:]\n",
    "    ons = ons[:-1]\n",
    "    if pks[0] < ons[0]:\n",
    "        pks = pks[1:]\n",
    "    if pks[-1] > off[-1]:\n",
    "        pks = pks[:-1]\n",
    "    \n",
    "    # Visualise results\n",
    "    if vis == True:\n",
    "        fig, (ax1,ax2,ax3,ax4) = plt.subplots(4, 1, sharex = True, sharey = False, figsize=(10,10))\n",
    "        fig.suptitle('Fiducial points') \n",
    "\n",
    "        ax1.plot(x, color = 'black')\n",
    "        ax1.scatter(pks, x[pks.astype(int)], color = 'orange', label = 'pks')\n",
    "        ax1.scatter(ons, x[ons.astype(int)], color = 'green', label = 'ons')\n",
    "        ax1.scatter(off, x[off.astype(int)], marker = '*', color = 'green', label = 'off')\n",
    "        ax1.scatter(dia, x[dia.astype(int)], color = 'yellow', label = 'dia')\n",
    "        ax1.scatter(dic, x[dic.astype(int)], color = 'blue', label = 'dic')\n",
    "        ax1.scatter(tip, x[tip.astype(int)], color = 'purple', label = 'dic')\n",
    "        ax1.legend()\n",
    "        ax1.set_ylabel('x')\n",
    "\n",
    "        ax2.plot(d1x, color = 'black')\n",
    "        ax2.scatter(m1d, d1x[m1d.astype(int)], color = 'orange', label = 'm1d')\n",
    "        ax2.legend()\n",
    "        ax2.set_ylabel('d1x')\n",
    "\n",
    "        ax3.plot(d2x, color = 'black')\n",
    "        ax3.scatter(a2d, d2x[a2d.astype(int)], color = 'orange', label = 'a')\n",
    "        ax3.scatter(b2d, d2x[b2d.astype(int)], color = 'green', label = 'b')\n",
    "        ax3.scatter(c2d, d2x[c2d.astype(int)], color = 'yellow', label = 'c')\n",
    "        ax3.scatter(d2d, d2x[d2d.astype(int)], color = 'blue', label = 'd')\n",
    "        ax3.scatter(e2d, d2x[e2d.astype(int)], color = 'purple', label = 'e')\n",
    "        ax3.legend()\n",
    "        ax3.set_ylabel('d2x')\n",
    "\n",
    "        ax4.plot(d3x, color = 'black')\n",
    "        ax4.scatter(p1p, d3x[p1p.astype(int)], color = 'orange', label = 'p1')\n",
    "        ax4.scatter(p2p, d3x[p2p.astype(int)], color = 'green', label = 'p2')\n",
    "        ax4.legend()\n",
    "        ax4.set_ylabel('d3x')\n",
    "\n",
    "        plt.subplots_adjust(left = 0.1,\n",
    "                            bottom = 0.1, \n",
    "                            right = 0.9, \n",
    "                            top = 0.9, \n",
    "                            wspace = 0.4, \n",
    "                            hspace = 0.4)\n",
    "        \n",
    "    # Creation of dictionary\n",
    "    fidp = {'pks': pks.astype(int),\n",
    "            'ons': ons.astype(int),\n",
    "            'off': off.astype(int),  # Added by PC\n",
    "            'tip': tip.astype(int),\n",
    "            'dia': dia.astype(int),\n",
    "            'dic': dic.astype(int),\n",
    "            'm1d': m1d.astype(int),\n",
    "            'a2d': a2d.astype(int),\n",
    "            'b2d': b2d.astype(int),\n",
    "            'c2d': c2d.astype(int),\n",
    "            'd2d': d2d.astype(int),\n",
    "            'e2d': e2d.astype(int),\n",
    "            'bmag2d': bmag2d,\n",
    "            'cmag2d': cmag2d,\n",
    "            'dmag2d': dmag2d,\n",
    "            'emag2d': emag2d,\n",
    "            'p1p': p1p.astype(int),\n",
    "            'p2p': p2p.astype(int)\n",
    "            }\n",
    "    \n",
    "    return fidp"
   ]
  },
  {
   "cell_type": "markdown",
   "id": "559e4f56",
   "metadata": {},
   "source": [
    "- Identify and visualise fiducial points"
   ]
  },
  {
   "cell_type": "code",
   "execution_count": 195,
   "id": "d48a919e",
   "metadata": {},
   "outputs": [
    {
     "data": {
      "image/png": "[encoded data removed]",
      "text/plain": [
       "<Figure size 720x720 with 4 Axes>"
      ]
     },
     "metadata": {
      "needs_background": "light"
     },
     "output_type": "display_data"
    }
   ],
   "source": [
    "fidp = fiducial_points(ppg_filt,ibis,fs,vis = True)"
   ]
  },
  {
   "cell_type": "markdown",
   "id": "3ff20391",
   "metadata": {},
   "source": [
    "## Calculate pulse wave features\n",
    "We will now calculate pulse wave features from the amplitudes and timings of the fiducial points on each pulse wave"
   ]
  },
  {
   "cell_type": "markdown",
   "id": "36bdf3a9",
   "metadata": {},
   "source": [
    "- Note how the data are stored in the variable `fidp`:"
   ]
  },
  {
   "cell_type": "code",
   "execution_count": 196,
   "id": "da4015c8",
   "metadata": {},
   "outputs": [
    {
     "name": "stdout",
     "output_type": "stream",
     "text": [
      "{'a2d': array([189, 271, 353, 433, 519]),\n",
      " 'b2d': array([200, 292, 363, 443, 528]),\n",
      " 'bmag2d': array([-1.07086351, -0.5696967 , -0.85134426, -0.63233677, -0.76560773]),\n",
      " 'c2d': array([208, 286, 372, 449, 535]),\n",
      " 'cmag2d': array([-0.22573998, -0.43480793, -0.33363513, -0.33525452, -0.2759608 ]),\n",
      " 'd2d': array([213, 292, 374, 453, 540]),\n",
      " 'dia': array([230, 310, 393, 471, 557]),\n",
      " 'dic': array([222, 302, 384, 462, 549]),\n",
      " 'dmag2d': array([-0.35968829, -0.5696967 , -0.34558544, -0.39701305, -0.46525541]),\n",
      " 'e2d': array([222, 302, 384, 462, 549]),\n",
      " 'emag2d': array([0.27544615, 0.24510258, 0.18867102, 0.23560275, 0.30114416]),\n",
      " 'm1d': array([195, 277, 358, 438, 524]),\n",
      " 'off': array([268, 347, 429, 514, 578]),\n",
      " 'ons': array([168, 268, 347, 429, 514]),\n",
      " 'p1p': array([204, 297, 367, 446, 532]),\n",
      " 'p2p': array([211, 292, 373, 454, 538]),\n",
      " 'pks': array([209, 292, 372, 454, 538]),\n",
      " 'tip': array([187, 272, 352, 433, 519])}\n"
     ]
    }
   ],
   "source": [
    "from pprint import pprint\n",
    "pprint(fidp)"
   ]
  },
  {
   "cell_type": "markdown",
   "id": "a90b579b",
   "metadata": {},
   "source": [
    "- `fidp` is a dictionary consisting of several arrays (one per fiducial point), with each array containing the indices of that fiducial point for all of the pulse waves. For instance, we can inspect the indices of the dicrotic notches (`dic`) using:"
   ]
  },
  {
   "cell_type": "code",
   "execution_count": 197,
   "id": "ce142493",
   "metadata": {},
   "outputs": [
    {
     "name": "stdout",
     "output_type": "stream",
     "text": [
      "Indices of dicrotic notches:\n",
      "[222 302 384 462 549]\n"
     ]
    }
   ],
   "source": [
    "print(\"Indices of dicrotic notches:\")\n",
    "print(fidp[\"dic\"])"
   ]
  },
  {
   "cell_type": "markdown",
   "id": "abe3e963",
   "metadata": {},
   "source": [
    "- We'll start off by calculating $\\Delta$T, the time delay between systolic and diastolic peaks (`pks` and `dia`):"
   ]
  },
  {
   "cell_type": "code",
   "execution_count": 198,
   "id": "bed1d512",
   "metadata": {},
   "outputs": [
    {
     "name": "stdout",
     "output_type": "stream",
     "text": [
      "Values of Delta T:\n",
      "[0.168 0.144 0.168 0.136 0.152]\n"
     ]
    }
   ],
   "source": [
    "delta_t = np.zeros(len(fidp[\"dia\"]))\n",
    "for beat_no in range(len(fidp[\"dia\"])):\n",
    "    delta_t[beat_no] = (fidp[\"dia\"][beat_no]-fidp[\"pks\"][beat_no])/fs\n",
    "print(\"Values of Delta T:\")\n",
    "print(delta_t)"
   ]
  },
  {
   "cell_type": "markdown",
   "id": "75aebd4f",
   "metadata": {},
   "source": [
    "- Now we'll calculate a second pulse wave feature, the aging index:"
   ]
  },
  {
   "cell_type": "code",
   "execution_count": 199,
   "id": "75a10857",
   "metadata": {},
   "outputs": [
    {
     "name": "stdout",
     "output_type": "stream",
     "text": [
      "Values of Aging Index:\n",
      "[-0.00608705  0.00151764 -0.00288636 -0.00108538 -0.00260429]\n"
     ]
    }
   ],
   "source": [
    "agi = np.zeros(len(fidp[\"dia\"]))\n",
    "for beat_no in range(len(fidp[\"dia\"])):\n",
    "    agi[beat_no] = (fidp[\"bmag2d\"][beat_no]-fidp[\"cmag2d\"][beat_no]-fidp[\"dmag2d\"][beat_no]-fidp[\"emag2d\"][beat_no])/fs\n",
    "print(\"Values of Aging Index:\")\n",
    "print(agi)"
   ]
  },
  {
   "cell_type": "code",
   "execution_count": null,
   "id": "25a79eab",
   "metadata": {},
   "outputs": [],
   "source": []
  }
 ],
 "metadata": {
  "kernelspec": {
   "display_name": "Python 3",
   "language": "python",
   "name": "python3"
  },
  "language_info": {
   "codemirror_mode": {
    "name": "ipython",
    "version": 3
   },
   "file_extension": ".py",
   "mimetype": "text/x-python",
   "name": "python",
   "nbconvert_exporter": "python",
   "pygments_lexer": "ipython3",
   "version": "3.8.8"
  },
  "toc": {
   "base_numbering": 1,
   "nav_menu": {},
   "number_sections": true,
   "sideBar": true,
   "skip_h1_title": true,
   "title_cell": "Table of Contents",
   "title_sidebar": "Contents",
   "toc_cell": false,
   "toc_position": {},
   "toc_section_display": true,
   "toc_window_display": false
  }
 },
 "nbformat": 4,
 "nbformat_minor": 5
}
