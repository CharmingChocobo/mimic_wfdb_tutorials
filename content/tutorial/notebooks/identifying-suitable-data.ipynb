{
 "cells": [
  {
   "cell_type": "markdown",
   "id": "5d037743",
   "metadata": {},
   "source": [
    "# Identifying suitable data\n",
    "\n",
    "Identify suitable waveform data to be included in a study"
   ]
  },
  {
   "cell_type": "markdown",
   "id": "1afcdef9",
   "metadata": {},
   "source": [
    "---\n",
    "## Specify an ICU stay\n",
    "\n",
    "<div class=\"alert alert-block alert-warning\"> <b>Resource:</b> These steps are taken from the <a href=\"https://wfdb.io/mimic_wfdb_tutorials/tutorial/notebooks/data-extraction.html\">Data Extraction</a> tutorial. </div>"
   ]
  },
  {
   "cell_type": "markdown",
   "id": "edd8e0c5",
   "metadata": {},
   "source": [
    "- Specify the required Python packages"
   ]
  },
  {
   "cell_type": "code",
   "execution_count": 22,
   "id": "ce3cdfde",
   "metadata": {},
   "outputs": [],
   "source": [
    "import sys\n",
    "import wfdb"
   ]
  },
  {
   "cell_type": "markdown",
   "id": "61a223f7",
   "metadata": {},
   "source": [
    "- Get a list of ICU stays in the database"
   ]
  },
  {
   "cell_type": "code",
   "execution_count": 23,
   "id": "ee8532b2",
   "metadata": {},
   "outputs": [
    {
     "name": "stdout",
     "output_type": "stream",
     "text": [
      "There are 67830 ICU stays in the database\n"
     ]
    }
   ],
   "source": [
    "database_name = 'mimic3wdb/1.0' # The name of the MIMIC III Waveform Database on Physionet (see URL: https://physionet.org/content/mimic3wdb/1.0/)\n",
    "icustay_records = wfdb.get_record_list(database_name)\n",
    "print(\"There are {} ICU stays in the database\".format(len(icustay_records)))"
   ]
  },
  {
   "cell_type": "markdown",
   "id": "61a9432c",
   "metadata": {},
   "source": [
    "- Specify an ICU stay"
   ]
  },
  {
   "cell_type": "code",
   "execution_count": 24,
   "id": "bb5745a7",
   "metadata": {},
   "outputs": [
    {
     "name": "stdout",
     "output_type": "stream",
     "text": [
      "Specified ICU stay: 3000125\n"
     ]
    }
   ],
   "source": [
    "icustay_no = 10 # specify the first record (noting that in Python the first index is 0)\n",
    "icustay_record = icustay_records[icustay_no]\n",
    "icustay_record_dir = database_name + '/' + icustay_record\n",
    "icustay_record_name = icustay_record.split(\"/\")[1]\n",
    "print(\"Specified ICU stay: {}\".format(icustay_record_name))"
   ]
  },
  {
   "cell_type": "markdown",
   "id": "9de06c77",
   "metadata": {},
   "source": [
    "---\n",
    "## Check whether each segment of this ICU stay meets the requirements"
   ]
  },
  {
   "cell_type": "markdown",
   "id": "8ed55718",
   "metadata": {},
   "source": [
    "- Identify the segments of this ICU stay"
   ]
  },
  {
   "cell_type": "code",
   "execution_count": 25,
   "id": "7dbf9e3a",
   "metadata": {},
   "outputs": [
    {
     "name": "stdout",
     "output_type": "stream",
     "text": [
      "Identified 36 segments in ICU stay: 3000125\n"
     ]
    }
   ],
   "source": [
    "icustay_files = wfdb.get_record_list(icustay_record_dir)\n",
    "icustay_segments = [s for s in icustay_files if \"_\" in s]\n",
    "print(\"Identified {} segments in ICU stay: {}\".format(len(icustay_segments), icustay_record_name))"
   ]
  },
  {
   "cell_type": "markdown",
   "id": "dd9dcc9c",
   "metadata": {},
   "source": [
    "- Specify the requirements"
   ]
  },
  {
   "cell_type": "code",
   "execution_count": 26,
   "id": "4bb330a9",
   "metadata": {},
   "outputs": [],
   "source": [
    "required_duration = 10*60 # in secs\n",
    "required_signals = [\"II\", \"PLETH\"]"
   ]
  },
  {
   "cell_type": "markdown",
   "id": "c8dffcc3",
   "metadata": {},
   "source": [
    "- Cycle through each segment in turn, finding out whether it contains the required signals and required duration of signals"
   ]
  },
  {
   "cell_type": "code",
   "execution_count": 27,
   "id": "7a4567a1",
   "metadata": {},
   "outputs": [
    {
     "name": "stdout",
     "output_type": "stream",
     "text": [
      " ~~~ Cycling through 36 segments ~~~\n",
      "\n",
      " - Segment 3000125_0001 contains ['II', 'III'] for 1.0 seconds. Therefore, it doesn't contain the required signals for the required duration\n",
      " - Segment 3000125_0002 contains ['PLETH'] for 3.0 seconds. Therefore, it doesn't contain the required signals for the required duration\n",
      " - Segment 3000125_0003 contains ['II', 'III', 'PLETH'] for 13095.0 seconds. Therefore, it contains the required signals for the required duration\n",
      " - Segment 3000125_0004 contains ['III', 'PLETH'] for 1.0 seconds. Therefore, it doesn't contain the required signals for the required duration\n",
      " - Segment 3000125_0005 contains ['II', 'III', 'PLETH'] for 136666.0 seconds. Therefore, it contains the required signals for the required duration\n",
      " - Segment 3000125_0006 contains ['II', 'V'] for 1.0 seconds. Therefore, it doesn't contain the required signals for the required duration\n",
      " - Segment 3000125_0007 contains ['PLETH'] for 4.0 seconds. Therefore, it doesn't contain the required signals for the required duration\n",
      " - Segment 3000125_0008 contains ['II', 'V', 'PLETH'] for 33562.0 seconds. Therefore, it contains the required signals for the required duration\n",
      " - Segment 3000125_0009 contains ['V', 'PLETH'] for 1.0 seconds. Therefore, it doesn't contain the required signals for the required duration\n",
      " - Segment 3000125_0010 contains ['II', 'V', 'PLETH'] for 220085.0 seconds. Therefore, it contains the required signals for the required duration\n",
      " - Segment 3000125_0011 contains ['II', 'V'] for 1.0 seconds. Therefore, it doesn't contain the required signals for the required duration\n",
      " - Segment 3000125_0012 contains ['PLETH'] for 3.0 seconds. Therefore, it doesn't contain the required signals for the required duration\n",
      " - Segment 3000125_0013 contains ['II', 'V', 'PLETH'] for 20809.0 seconds. Therefore, it contains the required signals for the required duration\n",
      " - Segment 3000125_0014 contains ['II', 'V'] for 1.0 seconds. Therefore, it doesn't contain the required signals for the required duration\n",
      " - Segment 3000125_0015 contains ['PLETH'] for 3.0 seconds. Therefore, it doesn't contain the required signals for the required duration\n",
      " - Segment 3000125_0016 contains ['II', 'V', 'PLETH'] for 44828.0 seconds. Therefore, it contains the required signals for the required duration\n",
      " - Segment 3000125_0017 contains ['V', 'PLETH'] for 1.0 seconds. Therefore, it doesn't contain the required signals for the required duration\n",
      " - Segment 3000125_0018 contains ['II', 'V', 'PLETH'] for 61149.0 seconds. Therefore, it contains the required signals for the required duration\n",
      " - Segment 3000125_0019 contains ['V', 'PLETH'] for 1.0 seconds. Therefore, it doesn't contain the required signals for the required duration\n",
      " - Segment 3000125_0020 contains ['II', 'V', 'PLETH'] for 9230.0 seconds. Therefore, it contains the required signals for the required duration\n",
      " - Segment 3000125_0021 contains ['V', 'PLETH'] for 1.0 seconds. Therefore, it doesn't contain the required signals for the required duration\n",
      " - Segment 3000125_0022 contains ['II', 'V', 'PLETH'] for 2709.0 seconds. Therefore, it contains the required signals for the required duration\n",
      " - Segment 3000125_0023 contains ['V', 'PLETH'] for 1.0 seconds. Therefore, it doesn't contain the required signals for the required duration\n",
      " - Segment 3000125_0024 contains ['II', 'V', 'PLETH'] for 760.0 seconds. Therefore, it contains the required signals for the required duration\n",
      " - Segment 3000125_0025 contains ['V', 'PLETH'] for 1.0 seconds. Therefore, it doesn't contain the required signals for the required duration\n",
      " - Segment 3000125_0026 contains ['II', 'V', 'PLETH'] for 25969.0 seconds. Therefore, it contains the required signals for the required duration\n",
      " - Segment 3000125_0027 contains ['V', 'PLETH'] for 1.0 seconds. Therefore, it doesn't contain the required signals for the required duration\n",
      " - Segment 3000125_0028 contains ['II', 'V', 'PLETH'] for 3377.6 seconds. Therefore, it contains the required signals for the required duration\n",
      " - Segment 3000125_0029 contains ['II', 'V', 'PLETH'] for 1.4 seconds. Therefore, it doesn't contain the required signals for the required duration\n",
      " - Segment 3000125_0030 contains ['V', 'PLETH'] for 1.0 seconds. Therefore, it doesn't contain the required signals for the required duration\n",
      " - Segment 3000125_0031 contains ['II', 'V', 'PLETH'] for 6689.4 seconds. Therefore, it contains the required signals for the required duration\n",
      " - Segment 3000125_0032 contains ['II', 'V', 'PLETH'] for 68518.6 seconds. Therefore, it contains the required signals for the required duration\n",
      " - Segment 3000125_0033 contains ['V', 'PLETH'] for 1.0 seconds. Therefore, it doesn't contain the required signals for the required duration\n",
      " - Segment 3000125_0034 contains ['II', 'V', 'PLETH'] for 4459.0 seconds. Therefore, it contains the required signals for the required duration\n",
      " - Segment 3000125_0035 contains ['V', 'PLETH'] for 1.0 seconds. Therefore, it doesn't contain the required signals for the required duration\n",
      " - Segment 3000125_0036 contains ['II', 'V', 'PLETH'] for 27984.0 seconds. Therefore, it contains the required signals for the required duration\n",
      " ~~~ Finished cycling through segments ~~~\n",
      "\n",
      " - Found 16 segments containing required signals:\n",
      "[['30/3000125/', '3000125_0003'], ['30/3000125/', '3000125_0005'], ['30/3000125/', '3000125_0008'], ['30/3000125/', '3000125_0010'], ['30/3000125/', '3000125_0013'], ['30/3000125/', '3000125_0016'], ['30/3000125/', '3000125_0018'], ['30/3000125/', '3000125_0020'], ['30/3000125/', '3000125_0022'], ['30/3000125/', '3000125_0024'], ['30/3000125/', '3000125_0026'], ['30/3000125/', '3000125_0028'], ['30/3000125/', '3000125_0031'], ['30/3000125/', '3000125_0032'], ['30/3000125/', '3000125_0034'], ['30/3000125/', '3000125_0036']]\n"
     ]
    }
   ],
   "source": [
    "icu_stays_and_segments_meeting_requirements = []\n",
    "do_verbose = True\n",
    "print(\" ~~~ Cycling through {} segments ~~~\".format(len(icustay_segments)))\n",
    "for seg_no in range(0, len(icustay_segments)):\n",
    "    # - extract the metadata for this segment\n",
    "    icustay_segment_name = icustay_segments[seg_no]\n",
    "    segment_metadata = wfdb.rdheader(record_name=icustay_segment_name, pn_dir=icustay_record_dir)\n",
    "    # - find out whether this segment contains the required signals\n",
    "    segment_contains_signals_log = True\n",
    "    for sig_no in range(0, len(required_signals)):\n",
    "        segment_contains_signals_log = segment_contains_signals_log and (required_signals[sig_no] in segment_metadata.sig_name)\n",
    "    # - find out whether this segment lasts long enough\n",
    "    segment_duration = segment_metadata.sig_len/segment_metadata.fs # in secs\n",
    "    segment_signals_long_enough_log = segment_duration>=required_duration\n",
    "    # - if this meets the requirements, then add this icu stay and segment to the list of ones meeting the requirements\n",
    "    if segment_contains_signals_log and segment_signals_long_enough_log:\n",
    "        # - add this icu stay and segment to the list of ones meeting the requirements\n",
    "        icu_stays_and_segments_meeting_requirements.append([icustay_record,icustay_segment_name])\n",
    "    if do_verbose:\n",
    "        print(\"\\n - Segment {} contains {} for {:.1f} seconds.\".format(icustay_segments[seg_no], segment_metadata.sig_name, segment_duration), end=\"\", flush=True)\n",
    "        if segment_contains_signals_log and segment_signals_long_enough_log:\n",
    "            print(' Therefore, it contains the required signals for the required duration', end=\"\", flush=True)\n",
    "        else:\n",
    "            print(' Therefore, it doesn\\'t contain the required signals for the required duration', end=\"\", flush=True)\n",
    "    else:\n",
    "        print(\".\", end=\"\", flush=True)\n",
    "print(\"\\n ~~~ Finished cycling through segments ~~~\")\n",
    "print(\"\\n - Found {} segments containing required signals:\".format(len(icu_stays_and_segments_meeting_requirements)))\n",
    "print(icu_stays_and_segments_meeting_requirements)"
   ]
  },
  {
   "cell_type": "markdown",
   "id": "564be050",
   "metadata": {},
   "source": [
    "- Look at the segments which met the requirements:"
   ]
  },
  {
   "cell_type": "code",
   "execution_count": 28,
   "id": "60cec0c2",
   "metadata": {},
   "outputs": [
    {
     "name": "stdout",
     "output_type": "stream",
     "text": [
      "[ ICU stay    ,  segment      ]\n",
      "['30/3000125/', '3000125_0003']\n",
      "['30/3000125/', '3000125_0005']\n",
      "['30/3000125/', '3000125_0008']\n",
      "['30/3000125/', '3000125_0010']\n",
      "['30/3000125/', '3000125_0013']\n",
      "['30/3000125/', '3000125_0016']\n",
      "['30/3000125/', '3000125_0018']\n",
      "['30/3000125/', '3000125_0020']\n",
      "['30/3000125/', '3000125_0022']\n",
      "['30/3000125/', '3000125_0024']\n",
      "['30/3000125/', '3000125_0026']\n",
      "['30/3000125/', '3000125_0028']\n",
      "['30/3000125/', '3000125_0031']\n",
      "['30/3000125/', '3000125_0032']\n",
      "['30/3000125/', '3000125_0034']\n",
      "['30/3000125/', '3000125_0036']\n"
     ]
    }
   ],
   "source": [
    "print(\"[ ICU stay    ,  segment      ]\")\n",
    "for seg_no in range(0, len(icu_stays_and_segments_meeting_requirements)):\n",
    "    print(icu_stays_and_segments_meeting_requirements[seg_no])"
   ]
  },
  {
   "cell_type": "markdown",
   "id": "82607f73",
   "metadata": {},
   "source": [
    "---\n",
    "## Check entire ICU stays\n",
    "The approach of cycling through segments shown above takes quite a long time. Here's a quicker approach to eliminate entire ICU stays which don't contain the required signals:"
   ]
  },
  {
   "cell_type": "markdown",
   "id": "4b57f582",
   "metadata": {},
   "source": [
    "- Specify the requirements (this time, we'll insist on having the ABP and PPG signals)"
   ]
  },
  {
   "cell_type": "code",
   "execution_count": 29,
   "id": "0f919867",
   "metadata": {},
   "outputs": [],
   "source": [
    "required_duration = 10*60 # in secs\n",
    "required_signals = [\"ABP\", \"PLETH\"]"
   ]
  },
  {
   "cell_type": "markdown",
   "id": "226c4d87",
   "metadata": {},
   "source": [
    "- Check whether this stay contains the required signals:"
   ]
  },
  {
   "cell_type": "code",
   "execution_count": 30,
   "id": "69af9b51",
   "metadata": {},
   "outputs": [
    {
     "name": "stdout",
     "output_type": "stream",
     "text": [
      "\n",
      " - ICU stay 3000125 contains the following signals: ['II', 'III', 'PLETH', 'V']  Therefore, it doesn't contain the required signals"
     ]
    }
   ],
   "source": [
    "# - load metadata for entire ICU stay\n",
    "icustay_layout_filename = icustay_record_name + \"_layout\"\n",
    "icustay_metadata = wfdb.rdheader(record_name=icustay_layout_filename, pn_dir=icustay_record_dir)\n",
    "print(\"\\n - ICU stay {} contains the following signals: {}\".format(icustay_record_name, icustay_metadata.sig_name), end=\"\", flush=True)\n",
    "# - check whether the stay contains the required signals\n",
    "icustay_contains_signals_log = True\n",
    "for sig_no in range(0, len(required_signals)):\n",
    "    icustay_contains_signals_log = icustay_contains_signals_log and (required_signals[sig_no] in icustay_metadata.sig_name)\n",
    "if icustay_contains_signals_log:\n",
    "    print(\"  Therefore, it contains the required signals, so it's worth checking whether any individual segments meet the requirements\", end=\"\", flush=True)\n",
    "else:\n",
    "    print(\"  Therefore, it doesn't contain the required signals\", end=\"\", flush=True)"
   ]
  },
  {
   "cell_type": "markdown",
   "id": "cd07d65a",
   "metadata": {},
   "source": [
    "- Try cycling through a few ICU stays:"
   ]
  },
  {
   "cell_type": "code",
   "execution_count": 74,
   "id": "e1d0de28",
   "metadata": {},
   "outputs": [
    {
     "name": "stdout",
     "output_type": "stream",
     "text": [
      " ~~~ Cycling through 27 ICU stays ~~~\n",
      "\n",
      " - ICU stay 3000003 contains the following signals: ['I', 'II', 'V', 'ABP', 'V+']. Therefore, it doesn't contain the required signals.\n",
      " - ICU stay 3000031 didn't appear to contain any waveform data\n",
      " - ICU stay 3000051 contains the following signals: ['II', 'III', 'AVR', 'V', 'RESP', 'PLETH']. Therefore, it doesn't contain the required signals.\n",
      " - ICU stay 3000060 contains the following signals: ['II', 'PLETH']. Therefore, it doesn't contain the required signals.\n",
      " - ICU stay 3000063 contains the following signals: ['PLETH', 'III', 'II', 'ABP']. Therefore, it contains the required signals, so it's worth checking whether any individual segments meet the requirements.\n",
      " - ICU stay 3000065 contains the following signals: ['II', 'MCL1', 'ABP']. Therefore, it doesn't contain the required signals.\n",
      " - ICU stay 3000086 contains the following signals: ['II', 'III', 'AVR', 'V', 'RESP', 'PLETH']. Therefore, it doesn't contain the required signals.\n",
      " - ICU stay 3000100 contains the following signals: ['II', 'AVR', 'V', 'RESP', 'PLETH']. Therefore, it doesn't contain the required signals.\n",
      " - ICU stay 3000103 contains the following signals: ['V']. Therefore, it doesn't contain the required signals.\n",
      " - ICU stay 3000105 contains the following signals: ['II', 'MCL1', 'ABP', 'PAP']. Therefore, it doesn't contain the required signals.\n",
      " - ICU stay 3000125 contains the following signals: ['II', 'III', 'PLETH', 'V']. Therefore, it doesn't contain the required signals.\n",
      " - ICU stay 3000126 contains the following signals: ['II', 'AVF', 'MCL1', 'ABP', 'PAP']. Therefore, it doesn't contain the required signals.\n",
      " - ICU stay 3000142 contains the following signals: ['PLETH', 'II']. Therefore, it doesn't contain the required signals.\n",
      " - ICU stay 3000154 contains the following signals: ['PLETH', 'II', 'MCL']. Therefore, it doesn't contain the required signals.\n",
      " - ICU stay 3000189 contains the following signals: ['I', 'II', 'III', 'MCL1', 'ABP', 'PAP']. Therefore, it doesn't contain the required signals.\n",
      " - ICU stay 3000190 contains the following signals: ['II', 'III', 'AVR', 'V', 'RESP', 'PLETH']. Therefore, it doesn't contain the required signals.\n",
      " - ICU stay 3000203 contains the following signals: ['II', 'III', 'AVR', 'AVL', 'V', 'MCL', 'RESP', 'PLETH']. Therefore, it doesn't contain the required signals.\n",
      " - ICU stay 3000221 contains the following signals: ['III', 'II']. Therefore, it doesn't contain the required signals.\n",
      " - ICU stay 3000282 contains the following signals: ['II', 'III', 'AVR', 'AVF', 'ABP', 'PAP']. Therefore, it doesn't contain the required signals.\n",
      " - ICU stay 3000336 contains the following signals: ['II']. Therefore, it doesn't contain the required signals.\n",
      " - ICU stay 3000358 contains the following signals: ['II', 'AVR', 'V', 'RESP', 'PLETH']. Therefore, it doesn't contain the required signals.\n",
      " - ICU stay 3000386 contains the following signals: ['II', 'III', 'RESP', 'PLETH']. Therefore, it doesn't contain the required signals.\n",
      " - ICU stay 3000393 contains the following signals: ['II', 'AVR', 'V', 'RESP', 'PLETH', 'ABP']. Therefore, it contains the required signals, so it's worth checking whether any individual segments meet the requirements.\n",
      " - ICU stay 3000397 contains the following signals: ['II', 'PLETH', 'ABP']. Therefore, it contains the required signals, so it's worth checking whether any individual segments meet the requirements.\n",
      " - ICU stay 3000428 contains the following signals: ['II', 'AVR', 'V', 'RESP', 'PLETH', 'ABP']. Therefore, it contains the required signals, so it's worth checking whether any individual segments meet the requirements.\n",
      " - ICU stay 3000435 contains the following signals: ['II', 'PLETH', 'ABP']. Therefore, it contains the required signals, so it's worth checking whether any individual segments meet the requirements.\n",
      " - ICU stay 3000458 contains the following signals: ['II', 'V']. Therefore, it doesn't contain the required signals.\n",
      " ~~~ Finished cycling through ICU stays ~~~\n",
      "\n",
      " - Found 5 ICU stays containing required signals:\n",
      "['30/3000063/', '30/3000393/', '30/3000397/', '30/3000428/', '30/3000435/']\n"
     ]
    }
   ],
   "source": [
    "do_verbose = True\n",
    "no_icustays = 27\n",
    "icustay_records_with_signals = []\n",
    "print(\" ~~~ Cycling through {} ICU stays ~~~\".format(no_icustays))\n",
    "for icustay_no in range(0,no_icustays):\n",
    "    icustay_record = icustay_records[icustay_no]\n",
    "    icustay_record_dir = database_name + '/' + icustay_record\n",
    "    icustay_record_name = icustay_record.split(\"/\")[1]\n",
    "    # - load metadata for this ICU stay\n",
    "    icustay_layout_filename = icustay_record_name + \"_layout\"\n",
    "    try:\n",
    "        icustay_metadata = wfdb.rdheader(record_name=icustay_layout_filename, pn_dir=icustay_record_dir)\n",
    "        if do_verbose:\n",
    "            print(\"\\n - ICU stay {} contains the following signals: {}.\".format(icustay_record_name, icustay_metadata.sig_name), end=\"\", flush=True)\n",
    "    except:\n",
    "        if do_verbose:\n",
    "            print(\"\\n - ICU stay {} didn't appear to contain any waveform data\".format(icustay_record_name), end=\"\", flush=True) # If the file can't be downloaded then it doesn't exist, which indicates there were no waveform data\n",
    "        continue\n",
    "    # - check whether the stay contains the required signals\n",
    "    icustay_contains_signals_log = True\n",
    "    for sig_no in range(0, len(required_signals)):\n",
    "        icustay_contains_signals_log = icustay_contains_signals_log and (required_signals[sig_no] in icustay_metadata.sig_name)\n",
    "    if icustay_contains_signals_log:\n",
    "        icustay_records_with_signals.append(icustay_record)\n",
    "        if do_verbose:\n",
    "            print(\" Therefore, it contains the required signals, so it's worth checking whether any individual segments meet the requirements.\", end=\"\", flush=True)\n",
    "    else:\n",
    "        if do_verbose:\n",
    "            print(\" Therefore, it doesn't contain the required signals.\", end=\"\", flush=True)\n",
    "print(\"\\n ~~~ Finished cycling through ICU stays ~~~\")\n",
    "print(\"\\n - Found {} ICU stays containing required signals:\".format(len(icustay_records_with_signals)))\n",
    "print(icustay_records_with_signals)"
   ]
  },
  {
   "cell_type": "markdown",
   "id": "fda3cdf7",
   "metadata": {},
   "source": [
    "---\n",
    "## See whether any segments in this ICU stay meet the requirements"
   ]
  },
  {
   "cell_type": "markdown",
   "id": "ccb2f677",
   "metadata": {},
   "source": [
    "- Specify an ICU stay"
   ]
  },
  {
   "cell_type": "code",
   "execution_count": 75,
   "id": "1b14d5f6",
   "metadata": {},
   "outputs": [
    {
     "name": "stdout",
     "output_type": "stream",
     "text": [
      "Specified ICU stay: 3000435\n"
     ]
    }
   ],
   "source": [
    "icustay_no = 4\n",
    "icustay_record = icustay_records_with_signals[icustay_no]\n",
    "icustay_record_dir = database_name + '/' + icustay_record\n",
    "icustay_record_name = icustay_record.split(\"/\")[1]\n",
    "print(\"Specified ICU stay: {}\".format(icustay_record_name))"
   ]
  },
  {
   "cell_type": "markdown",
   "id": "eb353270",
   "metadata": {},
   "source": [
    "- Identify the segments of this ICU stay"
   ]
  },
  {
   "cell_type": "code",
   "execution_count": 76,
   "id": "3985ad26",
   "metadata": {},
   "outputs": [
    {
     "name": "stdout",
     "output_type": "stream",
     "text": [
      "Identified 5 segments in ICU stay: 3000435\n"
     ]
    }
   ],
   "source": [
    "icustay_files = wfdb.get_record_list(icustay_record_dir)\n",
    "icustay_segments = [s for s in icustay_files if \"_\" in s]\n",
    "print(\"Identified {} segments in ICU stay: {}\".format(len(icustay_segments), icustay_record_name))"
   ]
  },
  {
   "cell_type": "markdown",
   "id": "8aa41b4f",
   "metadata": {},
   "source": [
    "- Cycle through a maximum of 10 segments in turn, finding out whether it contains the required signals and required duration of signals"
   ]
  },
  {
   "cell_type": "code",
   "execution_count": 77,
   "id": "7974d2a8",
   "metadata": {},
   "outputs": [
    {
     "name": "stdout",
     "output_type": "stream",
     "text": [
      " ~~~ Cycling through 5 segments ~~~\n",
      "Segment 3000435_0001 contains ['II', 'PLETH'] for 1.0 seconds\n",
      " - i.e. It doesn't contain the required signals for the required duration\n",
      "Segment 3000435_0002 contains ['II', 'ABP', 'PLETH'] for 65276.0 seconds\n",
      " - i.e. It contains the required signals for the required duration\n",
      "Segment 3000435_0003 contains ['II', 'PLETH'] for 8108.0 seconds\n",
      " - i.e. It doesn't contain the required signals for the required duration\n",
      "Segment 3000435_0004 contains ['II'] for 410.0 seconds\n",
      " - i.e. It doesn't contain the required signals for the required duration\n",
      "Segment 3000435_0005 contains ['II', 'PLETH'] for 11236.0 seconds\n",
      " - i.e. It doesn't contain the required signals for the required duration\n",
      "\n",
      " ~~~ Finished cycling through segments ~~~\n",
      "\n",
      " - Found 1 segments containing required signals:\n",
      "[['30/3000435/', '3000435_0002']]\n"
     ]
    }
   ],
   "source": [
    "icu_stays_and_segments_meeting_requirements = []\n",
    "do_verbose = True\n",
    "no_segments = min(10, len(icustay_segments))\n",
    "print(\" ~~~ Cycling through {} segments ~~~\".format(no_segments))\n",
    "for seg_no in range(0, no_segments):\n",
    "    # - extract the metadata for this segment\n",
    "    icustay_segment_name = icustay_segments[seg_no]\n",
    "    segment_metadata = wfdb.rdheader(record_name=icustay_segment_name, pn_dir=icustay_record_dir)\n",
    "    # - find out whether this segment contains the required signals\n",
    "    segment_contains_signals_log = True\n",
    "    for sig_no in range(0, len(required_signals)):\n",
    "        segment_contains_signals_log = segment_contains_signals_log and (required_signals[sig_no] in segment_metadata.sig_name)\n",
    "    # - find out whether this segment lasts long enough\n",
    "    segment_duration = segment_metadata.sig_len/segment_metadata.fs # in secs\n",
    "    segment_signals_long_enough_log = segment_duration>=required_duration\n",
    "    # - if this meets the requirements, then add this icu stay and segment to the list of ones meeting the requirements\n",
    "    if segment_contains_signals_log and segment_signals_long_enough_log:\n",
    "        # - add this icu stay and segment to the list of ones meeting the requirements\n",
    "        icu_stays_and_segments_meeting_requirements.append([icustay_record,icustay_segment_name])\n",
    "    if do_verbose:\n",
    "        print(\"Segment {} contains {} for {:.1f} seconds\".format(icustay_segments[seg_no], segment_metadata.sig_name, segment_duration))\n",
    "        if segment_contains_signals_log and segment_signals_long_enough_log:\n",
    "            print(' - i.e. It contains the required signals for the required duration')\n",
    "        else:\n",
    "            print(' - i.e. It doesn\\'t contain the required signals for the required duration')\n",
    "    else:\n",
    "        print(\".\", end=\"\", flush=True)\n",
    "print(\"\\n ~~~ Finished cycling through segments ~~~\")\n",
    "print(\"\\n - Found {} segments containing required signals:\".format(len(icu_stays_and_segments_meeting_requirements)))\n",
    "print(icu_stays_and_segments_meeting_requirements)"
   ]
  },
  {
   "cell_type": "markdown",
   "id": "a1342ad5",
   "metadata": {},
   "source": [
    "---\n",
    "## Extract data for a segment meeting the requirements"
   ]
  },
  {
   "cell_type": "markdown",
   "id": "bac3866e",
   "metadata": {},
   "source": [
    "- Specify the segment"
   ]
  },
  {
   "cell_type": "code",
   "execution_count": 78,
   "id": "6f55e772",
   "metadata": {},
   "outputs": [
    {
     "name": "stdout",
     "output_type": "stream",
     "text": [
      "Specified segment 3000435_0002 in ICU stay 3000435\n"
     ]
    }
   ],
   "source": [
    "segment_no = 0\n",
    "icustay_segment_name = icu_stays_and_segments_meeting_requirements[segment_no][1]\n",
    "icustay_record = icu_stays_and_segments_meeting_requirements[segment_no][0]\n",
    "icustay_record_dir = database_name + '/' + icustay_record\n",
    "icustay_record_name = icustay_record.split(\"/\")[1]\n",
    "print(\"Specified segment {} in ICU stay {}\".format(icustay_segment_name, icustay_record_name))"
   ]
  },
  {
   "cell_type": "markdown",
   "id": "bb71616e",
   "metadata": {},
   "source": [
    "- Find out the sampling frequency of the waveform data"
   ]
  },
  {
   "cell_type": "code",
   "execution_count": 79,
   "id": "ac21feb2",
   "metadata": {},
   "outputs": [],
   "source": [
    "segment_metadata = wfdb.rdheader(record_name=icustay_segment_name, pn_dir=icustay_record_dir)\n",
    "fs = segment_metadata.fs"
   ]
  },
  {
   "cell_type": "markdown",
   "id": "cd93e67f",
   "metadata": {},
   "source": [
    "- Extract the specified data"
   ]
  },
  {
   "cell_type": "code",
   "execution_count": 80,
   "id": "8626ebac",
   "metadata": {},
   "outputs": [
    {
     "name": "stdout",
     "output_type": "stream",
     "text": [
      "600 seconds of data extracted from: 3000435_0002\n"
     ]
    }
   ],
   "source": [
    "required_duration = 10*60 # duration in seconds\n",
    "start_seconds = 0 # time since the start of the segment at which to begin extracting data\n",
    "sampfrom = fs*start_seconds\n",
    "sampto = fs*(start_seconds+required_duration)\n",
    "segment_data = wfdb.rdrecord(record_name=icustay_segment_name, sampfrom=sampfrom, sampto=sampto, pn_dir=icustay_record_dir) \n",
    "print(\"{} seconds of data extracted from: {}\".format(required_duration, icustay_segment_name))"
   ]
  },
  {
   "cell_type": "markdown",
   "id": "20a17e39",
   "metadata": {},
   "source": [
    "---\n",
    "## Plot signals in this segment\n",
    "Plot the signals contained in this segment"
   ]
  },
  {
   "cell_type": "code",
   "execution_count": 81,
   "id": "62850216",
   "metadata": {},
   "outputs": [
    {
     "data": {
      "image/png": "[encoded data removed]",
      "text/plain": [
       "<Figure size 432x288 with 3 Axes>"
      ]
     },
     "metadata": {
      "needs_background": "light"
     },
     "output_type": "display_data"
    }
   ],
   "source": [
    "title_text = \"Segment \" + icustay_segment_name\n",
    "wfdb.plot_wfdb(record=segment_data, title=title_text, time_units='seconds') "
   ]
  },
  {
   "cell_type": "markdown",
   "id": "61ee444f",
   "metadata": {},
   "source": [
    "- Let's have a closer look at 10 seconds of data"
   ]
  },
  {
   "cell_type": "code",
   "execution_count": 82,
   "id": "cf4c2328",
   "metadata": {},
   "outputs": [
    {
     "name": "stdout",
     "output_type": "stream",
     "text": [
      "10 seconds of data extracted from: 3000435_0002\n"
     ]
    },
    {
     "data": {
      "image/png": "[encoded data removed]",
      "text/plain": [
       "<Figure size 432x288 with 3 Axes>"
      ]
     },
     "metadata": {
      "needs_background": "light"
     },
     "output_type": "display_data"
    }
   ],
   "source": [
    "required_duration = 10 # duration in seconds\n",
    "start_seconds = 400 # time since the start of the segment at which to begin extracting data\n",
    "sampfrom = fs*start_seconds\n",
    "sampto = fs*(start_seconds+required_duration)\n",
    "segment_data = wfdb.rdrecord(record_name=icustay_segment_name, sampfrom=sampfrom, sampto=sampto, pn_dir=icustay_record_dir) \n",
    "print(\"{} seconds of data extracted from: {}\".format(required_duration, icustay_segment_name))\n",
    "wfdb.plot_wfdb(record=segment_data, title=title_text, time_units='seconds') "
   ]
  },
  {
   "cell_type": "markdown",
   "id": "cc5cd339",
   "metadata": {},
   "source": [
    "<div class=\"alert alert-block alert-info\"> <b>Q:</b> How suitable were the signals for the other four ICU stays identified which met these requirements? Could we use all of these ICU stays in a study? <br> <b>Hint:</b> Above, try changing 'icustay_no' from '4' to a value between '0' and '3'. </div>"
   ]
  },
  {
   "cell_type": "code",
   "execution_count": null,
   "id": "b74c9b20",
   "metadata": {},
   "outputs": [],
   "source": []
  }
 ],
 "metadata": {
  "kernelspec": {
   "display_name": "Python 3",
   "language": "python",
   "name": "python3"
  },
  "language_info": {
   "codemirror_mode": {
    "name": "ipython",
    "version": 3
   },
   "file_extension": ".py",
   "mimetype": "text/x-python",
   "name": "python",
   "nbconvert_exporter": "python",
   "pygments_lexer": "ipython3",
   "version": "3.8.8"
  },
  "toc": {
   "base_numbering": 1,
   "nav_menu": {},
   "number_sections": true,
   "sideBar": true,
   "skip_h1_title": false,
   "title_cell": "Table of Contents",
   "title_sidebar": "Contents",
   "toc_cell": false,
   "toc_position": {},
   "toc_section_display": true,
   "toc_window_display": false
  }
 },
 "nbformat": 4,
 "nbformat_minor": 5
}
