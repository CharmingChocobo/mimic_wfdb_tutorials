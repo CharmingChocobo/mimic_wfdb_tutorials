{
 "cells": [
  {
   "cell_type": "markdown",
   "id": "5d037743",
   "metadata": {},
   "source": [
    "# Data Extraction\n",
    "\n",
    "Extract data from the MIMIC-IV Waveform Database.\n",
    "\n",
    "The **objectives** are:\n",
    "- To extract the signals from one segment of a record\n",
    "- To extract only the required duration of the required signals from this segment (_i.e._ 10 minutes of photoplethysmography and blood presure signals) "
   ]
  },
  {
   "cell_type": "markdown",
   "id": "fe20dd08",
   "metadata": {},
   "source": [
    "<div class=\"alert alert-block alert-warning\"> <b>Context:</b>\n",
    "    In the <a href=\"https://wfdb.io/mimic_wfdb_tutorials/tutorial/notebooks/data-exploration.html\">Data Exploration</a> tutorial we learnt how to identify segments of waveform data which are suitable for a particular research study (i.e. which have the required duration of the required signals). We extracted metadata for such a segment, providing high-level details of what is contained in the segment (e.g. which signals, their sampling frequency, and their duration). In this tutorial we will go a step further and extract signals in preparation for analysis.\n",
    "</div>"
   ]
  },
  {
   "cell_type": "markdown",
   "id": "fd8a0055",
   "metadata": {},
   "source": [
    "---\n",
    "## Setup\n",
    "<div class=\"alert alert-block alert-warning\"> <b>Resource:</b> These steps are taken from the <a href=\"https://wfdb.io/mimic_wfdb_tutorials/tutorial/notebooks/data-exploration.html\">Data Exploration</a> tutorial. </div>"
   ]
  },
  {
   "cell_type": "markdown",
   "id": "f4e37777",
   "metadata": {},
   "source": [
    "- Specify the required Python packages"
   ]
  },
  {
   "cell_type": "code",
   "execution_count": 7,
   "id": "10fdf08b",
   "metadata": {},
   "outputs": [],
   "source": [
    "import sys\n",
    "from pathlib import Path"
   ]
  },
  {
   "cell_type": "markdown",
   "id": "ccce3426",
   "metadata": {},
   "source": [
    "- Specify a particular version of the WFDB toolbox"
   ]
  },
  {
   "cell_type": "code",
   "execution_count": 9,
   "id": "06c8cc1f",
   "metadata": {},
   "outputs": [
    {
     "name": "stdout",
     "output_type": "stream",
     "text": [
      "Collecting wfdb==4.0.0\n",
      "  Using cached wfdb-4.0.0-py3-none-any.whl (161 kB)\n",
      "Requirement already satisfied: pandas<2.0.0,>=1.0.0 in /Users/petercharlton/anaconda3/lib/python3.8/site-packages (from wfdb==4.0.0) (1.2.4)\n",
      "Collecting SoundFile<0.12.0,>=0.10.0\n",
      "  Downloading SoundFile-0.10.3.post1-py2.py3.cp26.cp27.cp32.cp33.cp34.cp35.cp36.pp27.pp32.pp33-none-macosx_10_5_x86_64.macosx_10_6_intel.macosx_10_9_intel.macosx_10_9_x86_64.whl (613 kB)\n",
      "\u001b[K     |███▏                            | 61 kB 546 kB/s eta 0:00:021\u001b[31mERROR: Exception:\n",
      "Traceback (most recent call last):\n",
      "  File \"/Users/petercharlton/anaconda3/lib/python3.8/site-packages/pip/_vendor/resolvelib/resolvers.py\", line 171, in _merge_into_criterion\n",
      "    crit = self.state.criteria[name]\n",
      "KeyError: 'soundfile'\n",
      "\n",
      "During handling of the above exception, another exception occurred:\n",
      "\n",
      "Traceback (most recent call last):\n",
      "  File \"/Users/petercharlton/anaconda3/lib/python3.8/site-packages/pip/_vendor/urllib3/response.py\", line 438, in _error_catcher\n",
      "    yield\n",
      "  File \"/Users/petercharlton/anaconda3/lib/python3.8/site-packages/pip/_vendor/urllib3/response.py\", line 519, in read\n",
      "    data = self._fp.read(amt) if not fp_closed else b\"\"\n",
      "  File \"/Users/petercharlton/anaconda3/lib/python3.8/site-packages/pip/_vendor/cachecontrol/filewrapper.py\", line 62, in read\n",
      "    data = self.__fp.read(amt)\n",
      "  File \"/Users/petercharlton/anaconda3/lib/python3.8/http/client.py\", line 458, in read\n",
      "    n = self.readinto(b)\n",
      "  File \"/Users/petercharlton/anaconda3/lib/python3.8/http/client.py\", line 502, in readinto\n",
      "    n = self.fp.readinto(b)\n",
      "  File \"/Users/petercharlton/anaconda3/lib/python3.8/socket.py\", line 669, in readinto\n",
      "    return self._sock.recv_into(b)\n",
      "  File \"/Users/petercharlton/anaconda3/lib/python3.8/ssl.py\", line 1241, in recv_into\n",
      "    return self.read(nbytes, buffer)\n",
      "  File \"/Users/petercharlton/anaconda3/lib/python3.8/ssl.py\", line 1099, in read\n",
      "    return self._sslobj.read(len, buffer)\n",
      "socket.timeout: The read operation timed out\n",
      "\n",
      "During handling of the above exception, another exception occurred:\n",
      "\n",
      "Traceback (most recent call last):\n",
      "  File \"/Users/petercharlton/anaconda3/lib/python3.8/site-packages/pip/_internal/cli/base_command.py\", line 189, in _main\n",
      "    status = self.run(options, args)\n",
      "  File \"/Users/petercharlton/anaconda3/lib/python3.8/site-packages/pip/_internal/cli/req_command.py\", line 178, in wrapper\n",
      "    return func(self, options, args)\n",
      "  File \"/Users/petercharlton/anaconda3/lib/python3.8/site-packages/pip/_internal/commands/install.py\", line 316, in run\n",
      "    requirement_set = resolver.resolve(\n",
      "  File \"/Users/petercharlton/anaconda3/lib/python3.8/site-packages/pip/_internal/resolution/resolvelib/resolver.py\", line 121, in resolve\n",
      "    self._result = resolver.resolve(\n",
      "  File \"/Users/petercharlton/anaconda3/lib/python3.8/site-packages/pip/_vendor/resolvelib/resolvers.py\", line 453, in resolve\n",
      "    state = resolution.resolve(requirements, max_rounds=max_rounds)\n",
      "  File \"/Users/petercharlton/anaconda3/lib/python3.8/site-packages/pip/_vendor/resolvelib/resolvers.py\", line 347, in resolve\n",
      "    failure_causes = self._attempt_to_pin_criterion(name, criterion)\n",
      "  File \"/Users/petercharlton/anaconda3/lib/python3.8/site-packages/pip/_vendor/resolvelib/resolvers.py\", line 207, in _attempt_to_pin_criterion\n",
      "    criteria = self._get_criteria_to_update(candidate)\n",
      "  File \"/Users/petercharlton/anaconda3/lib/python3.8/site-packages/pip/_vendor/resolvelib/resolvers.py\", line 199, in _get_criteria_to_update\n",
      "    name, crit = self._merge_into_criterion(r, parent=candidate)\n",
      "  File \"/Users/petercharlton/anaconda3/lib/python3.8/site-packages/pip/_vendor/resolvelib/resolvers.py\", line 173, in _merge_into_criterion\n",
      "    crit = Criterion.from_requirement(self._p, requirement, parent)\n",
      "  File \"/Users/petercharlton/anaconda3/lib/python3.8/site-packages/pip/_vendor/resolvelib/resolvers.py\", line 82, in from_requirement\n",
      "    if not cands:\n",
      "  File \"/Users/petercharlton/anaconda3/lib/python3.8/site-packages/pip/_vendor/resolvelib/structs.py\", line 124, in __bool__\n",
      "    return bool(self._sequence)\n",
      "  File \"/Users/petercharlton/anaconda3/lib/python3.8/site-packages/pip/_internal/resolution/resolvelib/found_candidates.py\", line 143, in __bool__\n",
      "    return any(self)\n",
      "  File \"/Users/petercharlton/anaconda3/lib/python3.8/site-packages/pip/_internal/resolution/resolvelib/found_candidates.py\", line 38, in _iter_built\n",
      "    candidate = func()\n",
      "  File \"/Users/petercharlton/anaconda3/lib/python3.8/site-packages/pip/_internal/resolution/resolvelib/factory.py\", line 167, in _make_candidate_from_link\n",
      "    self._link_candidate_cache[link] = LinkCandidate(\n",
      "  File \"/Users/petercharlton/anaconda3/lib/python3.8/site-packages/pip/_internal/resolution/resolvelib/candidates.py\", line 300, in __init__\n",
      "    super().__init__(\n",
      "  File \"/Users/petercharlton/anaconda3/lib/python3.8/site-packages/pip/_internal/resolution/resolvelib/candidates.py\", line 144, in __init__\n",
      "    self.dist = self._prepare()\n",
      "  File \"/Users/petercharlton/anaconda3/lib/python3.8/site-packages/pip/_internal/resolution/resolvelib/candidates.py\", line 226, in _prepare\n",
      "    dist = self._prepare_distribution()\n",
      "  File \"/Users/petercharlton/anaconda3/lib/python3.8/site-packages/pip/_internal/resolution/resolvelib/candidates.py\", line 311, in _prepare_distribution\n",
      "    return self._factory.preparer.prepare_linked_requirement(\n",
      "  File \"/Users/petercharlton/anaconda3/lib/python3.8/site-packages/pip/_internal/operations/prepare.py\", line 457, in prepare_linked_requirement\n",
      "    return self._prepare_linked_requirement(req, parallel_builds)\n",
      "  File \"/Users/petercharlton/anaconda3/lib/python3.8/site-packages/pip/_internal/operations/prepare.py\", line 480, in _prepare_linked_requirement\n",
      "    local_file = unpack_url(\n",
      "  File \"/Users/petercharlton/anaconda3/lib/python3.8/site-packages/pip/_internal/operations/prepare.py\", line 230, in unpack_url\n",
      "    file = get_http_url(\n",
      "  File \"/Users/petercharlton/anaconda3/lib/python3.8/site-packages/pip/_internal/operations/prepare.py\", line 108, in get_http_url\n",
      "    from_path, content_type = download(link, temp_dir.path)\n",
      "  File \"/Users/petercharlton/anaconda3/lib/python3.8/site-packages/pip/_internal/network/download.py\", line 163, in __call__\n",
      "    for chunk in chunks:\n",
      "  File \"/Users/petercharlton/anaconda3/lib/python3.8/site-packages/pip/_internal/cli/progress_bars.py\", line 159, in iter\n",
      "    for x in it:\n",
      "  File \"/Users/petercharlton/anaconda3/lib/python3.8/site-packages/pip/_internal/network/utils.py\", line 64, in response_chunks\n",
      "    for chunk in response.raw.stream(\n",
      "  File \"/Users/petercharlton/anaconda3/lib/python3.8/site-packages/pip/_vendor/urllib3/response.py\", line 576, in stream\n",
      "    data = self.read(amt=amt, decode_content=decode_content)\n",
      "  File \"/Users/petercharlton/anaconda3/lib/python3.8/site-packages/pip/_vendor/urllib3/response.py\", line 541, in read\n",
      "    raise IncompleteRead(self._fp_bytes_read, self.length_remaining)\n",
      "  File \"/Users/petercharlton/anaconda3/lib/python3.8/contextlib.py\", line 131, in __exit__\n",
      "    self.gen.throw(type, value, traceback)\n",
      "  File \"/Users/petercharlton/anaconda3/lib/python3.8/site-packages/pip/_vendor/urllib3/response.py\", line 443, in _error_catcher\n",
      "    raise ReadTimeoutError(self._pool, None, \"Read timed out.\")\n",
      "pip._vendor.urllib3.exceptions.ReadTimeoutError: HTTPSConnectionPool(host='files.pythonhosted.org', port=443): Read timed out.\u001b[0m\n"
     ]
    }
   ],
   "source": [
    "!pip install wfdb==4.0.0"
   ]
  },
  {
   "cell_type": "markdown",
   "id": "524ed046",
   "metadata": {},
   "source": [
    "- Specify the settings for the MIMIC-IV database"
   ]
  },
  {
   "cell_type": "code",
   "execution_count": 2,
   "id": "2915e121",
   "metadata": {},
   "outputs": [],
   "source": [
    "wfdb.set_db_index_url('https://challenge.physionet.org/benjamin/db') # use the version of the WFDB toolbox which corresponds to MIMIC IV.\n",
    "database_name = 'mimic4wdb/0.1.0' # The name of the MIMIC IV Waveform Demo Database on Physionet"
   ]
  },
  {
   "cell_type": "markdown",
   "id": "3ea79319",
   "metadata": {},
   "source": [
    "- Provide a list of segments which meet the requirements for the study (NB: these are copied from the end of the [Data Exploration Tutorial](https://wfdb.io/mimic_wfdb_tutorials/tutorial/notebooks/data-exploration.html))."
   ]
  },
  {
   "cell_type": "code",
   "execution_count": 3,
   "id": "0ee58931",
   "metadata": {},
   "outputs": [],
   "source": [
    "segment_names = ['83404654_0005']\n",
    "segment_dirs = ['mimic4wdb/0.1.0/p100/p10020306/83404654']"
   ]
  },
  {
   "cell_type": "markdown",
   "id": "0e90110a",
   "metadata": {},
   "source": [
    "- Specify a segment from which to extract data"
   ]
  },
  {
   "cell_type": "code",
   "execution_count": 4,
   "id": "05fb68d0",
   "metadata": {},
   "outputs": [
    {
     "name": "stdout",
     "output_type": "stream",
     "text": [
      "Specified segment '83404654_0005' in directory 'mimic4wdb/0.1.0/p100/p10020306/83404654'\n"
     ]
    }
   ],
   "source": [
    "rel_segment_no = 0\n",
    "rel_segment_name = segment_names[rel_segment_no]\n",
    "rel_segment_dir = segment_dirs[rel_segment_no]\n",
    "print(\"Specified segment '{}' in directory '{}'\".format(rel_segment_name, rel_segment_dir))"
   ]
  },
  {
   "cell_type": "markdown",
   "id": "3b2e6adb",
   "metadata": {},
   "source": [
    "---\n",
    "## Extract data for this segment"
   ]
  },
  {
   "cell_type": "markdown",
   "id": "e8810358",
   "metadata": {},
   "source": [
    "- Use the [`rdrecord`](https://wfdb.readthedocs.io/en/latest/io.html#wfdb.io.rdrecord) function from the WFDB toolbox to read the data for this segment."
   ]
  },
  {
   "cell_type": "code",
   "execution_count": 6,
   "id": "8626ebac",
   "metadata": {},
   "outputs": [
    {
     "ename": "KeyError",
     "evalue": "'516'",
     "output_type": "error",
     "traceback": [
      "\u001b[0;31m---------------------------------------------------------------------------\u001b[0m",
      "\u001b[0;31mKeyError\u001b[0m                                  Traceback (most recent call last)",
      "\u001b[0;32m<ipython-input-6-6d17efab823c>\u001b[0m in \u001b[0;36m<module>\u001b[0;34m\u001b[0m\n\u001b[0;32m----> 1\u001b[0;31m \u001b[0mrecord_data\u001b[0m \u001b[0;34m=\u001b[0m \u001b[0mwfdb\u001b[0m\u001b[0;34m.\u001b[0m\u001b[0mrdrecord\u001b[0m\u001b[0;34m(\u001b[0m\u001b[0mrecord_name\u001b[0m\u001b[0;34m=\u001b[0m\u001b[0;34m'83411188'\u001b[0m\u001b[0;34m,\u001b[0m\u001b[0mpn_dir\u001b[0m\u001b[0;34m=\u001b[0m\u001b[0;34m'mimic4wdb/0.1.0/p100/p10039708/83411188'\u001b[0m\u001b[0;34m)\u001b[0m\u001b[0;34m\u001b[0m\u001b[0;34m\u001b[0m\u001b[0m\n\u001b[0m\u001b[1;32m      2\u001b[0m \u001b[0;31m#record_data = wfdb.rdrecord(record_name=rel_segment_name, pn_dir=rel_segment_dir)\u001b[0m\u001b[0;34m\u001b[0m\u001b[0;34m\u001b[0m\u001b[0;34m\u001b[0m\u001b[0m\n\u001b[1;32m      3\u001b[0m \u001b[0;31m#print(\"Data loaded from segment: {}\".format(rel_segment_name))\u001b[0m\u001b[0;34m\u001b[0m\u001b[0;34m\u001b[0m\u001b[0;34m\u001b[0m\u001b[0m\n",
      "\u001b[0;32m~/anaconda3/lib/python3.8/site-packages/wfdb/io/record.py\u001b[0m in \u001b[0;36mrdrecord\u001b[0;34m(record_name, sampfrom, sampto, channels, physical, pn_dir, m2s, smooth_frames, ignore_skew, return_res, force_channels, channel_names, warn_empty)\u001b[0m\n\u001b[1;32m   3616\u001b[0m                 \u001b[0mrecord\u001b[0m\u001b[0;34m.\u001b[0m\u001b[0msegments\u001b[0m\u001b[0;34m[\u001b[0m\u001b[0mseg_num\u001b[0m\u001b[0;34m]\u001b[0m \u001b[0;34m=\u001b[0m \u001b[0;32mNone\u001b[0m\u001b[0;34m\u001b[0m\u001b[0;34m\u001b[0m\u001b[0m\n\u001b[1;32m   3617\u001b[0m             \u001b[0;32melse\u001b[0m\u001b[0;34m:\u001b[0m\u001b[0;34m\u001b[0m\u001b[0;34m\u001b[0m\u001b[0m\n\u001b[0;32m-> 3618\u001b[0;31m                 record.segments[seg_num] = rdrecord(\n\u001b[0m\u001b[1;32m   3619\u001b[0m                     \u001b[0mos\u001b[0m\u001b[0;34m.\u001b[0m\u001b[0mpath\u001b[0m\u001b[0;34m.\u001b[0m\u001b[0mjoin\u001b[0m\u001b[0;34m(\u001b[0m\u001b[0mdir_name\u001b[0m\u001b[0;34m,\u001b[0m \u001b[0mrecord\u001b[0m\u001b[0;34m.\u001b[0m\u001b[0mseg_name\u001b[0m\u001b[0;34m[\u001b[0m\u001b[0mseg_num\u001b[0m\u001b[0;34m]\u001b[0m\u001b[0;34m)\u001b[0m\u001b[0;34m,\u001b[0m\u001b[0;34m\u001b[0m\u001b[0;34m\u001b[0m\u001b[0m\n\u001b[1;32m   3620\u001b[0m                     \u001b[0msampfrom\u001b[0m\u001b[0;34m=\u001b[0m\u001b[0mseg_ranges\u001b[0m\u001b[0;34m[\u001b[0m\u001b[0mi\u001b[0m\u001b[0;34m]\u001b[0m\u001b[0;34m[\u001b[0m\u001b[0;36m0\u001b[0m\u001b[0;34m]\u001b[0m\u001b[0;34m,\u001b[0m \u001b[0msampto\u001b[0m\u001b[0;34m=\u001b[0m\u001b[0mseg_ranges\u001b[0m\u001b[0;34m[\u001b[0m\u001b[0mi\u001b[0m\u001b[0;34m]\u001b[0m\u001b[0;34m[\u001b[0m\u001b[0;36m1\u001b[0m\u001b[0;34m]\u001b[0m\u001b[0;34m,\u001b[0m\u001b[0;34m\u001b[0m\u001b[0;34m\u001b[0m\u001b[0m\n",
      "\u001b[0;32m~/anaconda3/lib/python3.8/site-packages/wfdb/io/record.py\u001b[0m in \u001b[0;36mrdrecord\u001b[0;34m(record_name, sampfrom, sampto, channels, physical, pn_dir, m2s, smooth_frames, ignore_skew, return_res, force_channels, channel_names, warn_empty)\u001b[0m\n\u001b[1;32m   3518\u001b[0m                                                       return_res=return_res)\n\u001b[1;32m   3519\u001b[0m             \u001b[0;32melse\u001b[0m\u001b[0;34m:\u001b[0m\u001b[0;34m\u001b[0m\u001b[0;34m\u001b[0m\u001b[0m\n\u001b[0;32m-> 3520\u001b[0;31m                 record.d_signal = _signal._rd_segment(record.file_name,\n\u001b[0m\u001b[1;32m   3521\u001b[0m                                                       \u001b[0mdir_name\u001b[0m\u001b[0;34m,\u001b[0m \u001b[0mpn_dir\u001b[0m\u001b[0;34m,\u001b[0m\u001b[0;34m\u001b[0m\u001b[0;34m\u001b[0m\u001b[0m\n\u001b[1;32m   3522\u001b[0m                                                       \u001b[0mrecord\u001b[0m\u001b[0;34m.\u001b[0m\u001b[0mfmt\u001b[0m\u001b[0;34m,\u001b[0m\u001b[0;34m\u001b[0m\u001b[0;34m\u001b[0m\u001b[0m\n",
      "\u001b[0;32m~/anaconda3/lib/python3.8/site-packages/wfdb/io/_signal.py\u001b[0m in \u001b[0;36m_rd_segment\u001b[0;34m(file_name, dir_name, pn_dir, fmt, n_sig, sig_len, byte_offset, samps_per_frame, skew, sampfrom, sampto, channels, smooth_frames, ignore_skew, no_file, sig_data, return_res)\u001b[0m\n\u001b[1;32m    991\u001b[0m     \u001b[0;32mif\u001b[0m \u001b[0msmooth_frames\u001b[0m \u001b[0;32mor\u001b[0m \u001b[0msum\u001b[0m\u001b[0;34m(\u001b[0m\u001b[0msamps_per_frame\u001b[0m\u001b[0;34m)\u001b[0m \u001b[0;34m==\u001b[0m \u001b[0mn_sig\u001b[0m\u001b[0;34m:\u001b[0m\u001b[0;34m\u001b[0m\u001b[0;34m\u001b[0m\u001b[0m\n\u001b[1;32m    992\u001b[0m         \u001b[0;31m# Figure out the largest required dtype for the segment to minimize memory usage\u001b[0m\u001b[0;34m\u001b[0m\u001b[0;34m\u001b[0m\u001b[0;34m\u001b[0m\u001b[0m\n\u001b[0;32m--> 993\u001b[0;31m         \u001b[0mmax_dtype\u001b[0m \u001b[0;34m=\u001b[0m \u001b[0m_np_dtype\u001b[0m\u001b[0;34m(\u001b[0m\u001b[0m_fmt_res\u001b[0m\u001b[0;34m(\u001b[0m\u001b[0mfmt\u001b[0m\u001b[0;34m,\u001b[0m \u001b[0mmax_res\u001b[0m\u001b[0;34m=\u001b[0m\u001b[0;32mTrue\u001b[0m\u001b[0;34m)\u001b[0m\u001b[0;34m,\u001b[0m \u001b[0mdiscrete\u001b[0m\u001b[0;34m=\u001b[0m\u001b[0;32mTrue\u001b[0m\u001b[0;34m)\u001b[0m\u001b[0;34m\u001b[0m\u001b[0;34m\u001b[0m\u001b[0m\n\u001b[0m\u001b[1;32m    994\u001b[0m         \u001b[0;31m# Allocate signal array. Minimize dtype\u001b[0m\u001b[0;34m\u001b[0m\u001b[0;34m\u001b[0m\u001b[0;34m\u001b[0m\u001b[0m\n\u001b[1;32m    995\u001b[0m         \u001b[0msignals\u001b[0m \u001b[0;34m=\u001b[0m \u001b[0mnp\u001b[0m\u001b[0;34m.\u001b[0m\u001b[0mzeros\u001b[0m\u001b[0;34m(\u001b[0m\u001b[0;34m[\u001b[0m\u001b[0msampto\u001b[0m\u001b[0;34m-\u001b[0m\u001b[0msampfrom\u001b[0m\u001b[0;34m,\u001b[0m \u001b[0mlen\u001b[0m\u001b[0;34m(\u001b[0m\u001b[0mchannels\u001b[0m\u001b[0;34m)\u001b[0m\u001b[0;34m]\u001b[0m\u001b[0;34m,\u001b[0m \u001b[0mdtype\u001b[0m\u001b[0;34m=\u001b[0m\u001b[0mmax_dtype\u001b[0m\u001b[0;34m)\u001b[0m\u001b[0;34m\u001b[0m\u001b[0;34m\u001b[0m\u001b[0m\n",
      "\u001b[0;32m~/anaconda3/lib/python3.8/site-packages/wfdb/io/_signal.py\u001b[0m in \u001b[0;36m_fmt_res\u001b[0;34m(fmt, max_res)\u001b[0m\n\u001b[1;32m   1824\u001b[0m         \u001b[0;32mif\u001b[0m \u001b[0mmax_res\u001b[0m\u001b[0;34m:\u001b[0m\u001b[0;34m\u001b[0m\u001b[0;34m\u001b[0m\u001b[0m\n\u001b[1;32m   1825\u001b[0m             \u001b[0;31m# Allow None\u001b[0m\u001b[0;34m\u001b[0m\u001b[0;34m\u001b[0m\u001b[0;34m\u001b[0m\u001b[0m\n\u001b[0;32m-> 1826\u001b[0;31m             \u001b[0mbit_res\u001b[0m \u001b[0;34m=\u001b[0m \u001b[0mnp\u001b[0m\u001b[0;34m.\u001b[0m\u001b[0mmax\u001b[0m\u001b[0;34m(\u001b[0m\u001b[0;34m[\u001b[0m\u001b[0m_fmt_res\u001b[0m\u001b[0;34m(\u001b[0m\u001b[0mf\u001b[0m\u001b[0;34m)\u001b[0m \u001b[0;32mfor\u001b[0m \u001b[0mf\u001b[0m \u001b[0;32min\u001b[0m \u001b[0mfmt\u001b[0m \u001b[0;32mif\u001b[0m \u001b[0mf\u001b[0m \u001b[0;32mis\u001b[0m \u001b[0;32mnot\u001b[0m \u001b[0;32mNone\u001b[0m\u001b[0;34m]\u001b[0m\u001b[0;34m)\u001b[0m\u001b[0;34m\u001b[0m\u001b[0;34m\u001b[0m\u001b[0m\n\u001b[0m\u001b[1;32m   1827\u001b[0m         \u001b[0;32melse\u001b[0m\u001b[0;34m:\u001b[0m\u001b[0;34m\u001b[0m\u001b[0;34m\u001b[0m\u001b[0m\n\u001b[1;32m   1828\u001b[0m             \u001b[0mbit_res\u001b[0m \u001b[0;34m=\u001b[0m \u001b[0;34m[\u001b[0m\u001b[0m_fmt_res\u001b[0m\u001b[0;34m(\u001b[0m\u001b[0mf\u001b[0m\u001b[0;34m)\u001b[0m \u001b[0;32mfor\u001b[0m \u001b[0mf\u001b[0m \u001b[0;32min\u001b[0m \u001b[0mfmt\u001b[0m\u001b[0;34m]\u001b[0m\u001b[0;34m\u001b[0m\u001b[0;34m\u001b[0m\u001b[0m\n",
      "\u001b[0;32m~/anaconda3/lib/python3.8/site-packages/wfdb/io/_signal.py\u001b[0m in \u001b[0;36m<listcomp>\u001b[0;34m(.0)\u001b[0m\n\u001b[1;32m   1824\u001b[0m         \u001b[0;32mif\u001b[0m \u001b[0mmax_res\u001b[0m\u001b[0;34m:\u001b[0m\u001b[0;34m\u001b[0m\u001b[0;34m\u001b[0m\u001b[0m\n\u001b[1;32m   1825\u001b[0m             \u001b[0;31m# Allow None\u001b[0m\u001b[0;34m\u001b[0m\u001b[0;34m\u001b[0m\u001b[0;34m\u001b[0m\u001b[0m\n\u001b[0;32m-> 1826\u001b[0;31m             \u001b[0mbit_res\u001b[0m \u001b[0;34m=\u001b[0m \u001b[0mnp\u001b[0m\u001b[0;34m.\u001b[0m\u001b[0mmax\u001b[0m\u001b[0;34m(\u001b[0m\u001b[0;34m[\u001b[0m\u001b[0m_fmt_res\u001b[0m\u001b[0;34m(\u001b[0m\u001b[0mf\u001b[0m\u001b[0;34m)\u001b[0m \u001b[0;32mfor\u001b[0m \u001b[0mf\u001b[0m \u001b[0;32min\u001b[0m \u001b[0mfmt\u001b[0m \u001b[0;32mif\u001b[0m \u001b[0mf\u001b[0m \u001b[0;32mis\u001b[0m \u001b[0;32mnot\u001b[0m \u001b[0;32mNone\u001b[0m\u001b[0;34m]\u001b[0m\u001b[0;34m)\u001b[0m\u001b[0;34m\u001b[0m\u001b[0;34m\u001b[0m\u001b[0m\n\u001b[0m\u001b[1;32m   1827\u001b[0m         \u001b[0;32melse\u001b[0m\u001b[0;34m:\u001b[0m\u001b[0;34m\u001b[0m\u001b[0;34m\u001b[0m\u001b[0m\n\u001b[1;32m   1828\u001b[0m             \u001b[0mbit_res\u001b[0m \u001b[0;34m=\u001b[0m \u001b[0;34m[\u001b[0m\u001b[0m_fmt_res\u001b[0m\u001b[0;34m(\u001b[0m\u001b[0mf\u001b[0m\u001b[0;34m)\u001b[0m \u001b[0;32mfor\u001b[0m \u001b[0mf\u001b[0m \u001b[0;32min\u001b[0m \u001b[0mfmt\u001b[0m\u001b[0;34m]\u001b[0m\u001b[0;34m\u001b[0m\u001b[0;34m\u001b[0m\u001b[0m\n",
      "\u001b[0;32m~/anaconda3/lib/python3.8/site-packages/wfdb/io/_signal.py\u001b[0m in \u001b[0;36m_fmt_res\u001b[0;34m(fmt, max_res)\u001b[0m\n\u001b[1;32m   1829\u001b[0m         \u001b[0;32mreturn\u001b[0m \u001b[0mbit_res\u001b[0m\u001b[0;34m\u001b[0m\u001b[0;34m\u001b[0m\u001b[0m\n\u001b[1;32m   1830\u001b[0m \u001b[0;34m\u001b[0m\u001b[0m\n\u001b[0;32m-> 1831\u001b[0;31m     \u001b[0;32mreturn\u001b[0m \u001b[0mBIT_RES\u001b[0m\u001b[0;34m[\u001b[0m\u001b[0mfmt\u001b[0m\u001b[0;34m]\u001b[0m\u001b[0;34m\u001b[0m\u001b[0;34m\u001b[0m\u001b[0m\n\u001b[0m\u001b[1;32m   1832\u001b[0m \u001b[0;34m\u001b[0m\u001b[0m\n\u001b[1;32m   1833\u001b[0m \u001b[0;34m\u001b[0m\u001b[0m\n",
      "\u001b[0;31mKeyError\u001b[0m: '516'"
     ]
    }
   ],
   "source": [
    "# e.g. record_data = wfdb.rdrecord(record_name='83411188',pn_dir='mimic4wdb/0.1.0/p100/p10039708/83411188')\n",
    "record_data = wfdb.rdrecord(record_name=rel_segment_name, pn_dir=rel_segment_dir) \n",
    "print(\"Data loaded from segment: {}\".format(rel_segment_name))"
   ]
  },
  {
   "cell_type": "markdown",
   "id": "5032d6c4",
   "metadata": {},
   "source": [
    "- Look at class type of the object in which the data are stored:"
   ]
  },
  {
   "cell_type": "code",
   "execution_count": 31,
   "id": "967fa4ef",
   "metadata": {},
   "outputs": [
    {
     "name": "stdout",
     "output_type": "stream",
     "text": [
      "Data stored in class of type: <class 'wfdb.io.record.Record'>\n"
     ]
    }
   ],
   "source": [
    "print(\"Data stored in class of type: {}\".format(type(record_data)))"
   ]
  },
  {
   "cell_type": "markdown",
   "id": "cf2d5ed7",
   "metadata": {},
   "source": [
    "<div class=\"alert alert-block alert-warning\"> <b>Resource:</b> You can find out more about the class representing single segment WFDB records <a href=\"https://wfdb.readthedocs.io/en/stable/io.html?highlight=class#wfdb.io.Record\">here</a>. </div>"
   ]
  },
  {
   "cell_type": "markdown",
   "id": "85a0d656",
   "metadata": {},
   "source": [
    "- Find out about the signals which have been extracted"
   ]
  },
  {
   "cell_type": "code",
   "execution_count": 32,
   "id": "6d5416b6",
   "metadata": {},
   "outputs": [
    {
     "name": "stdout",
     "output_type": "stream",
     "text": [
      "This segment contains waveform data for the following 2 signals: ['II', 'V']\n",
      "The signals are sampled at 125 Hz\n",
      "They last for 2.3 minutes\n"
     ]
    }
   ],
   "source": [
    "print(\"This segment contains waveform data for the following {} signals: {}\".format(record_data.n_sig, record_data.sig_name))\n",
    "print(\"The signals are sampled at {} Hz\".format(record_data.fs))\n",
    "print(\"They last for {:.1f} minutes\".format(record_data.sig_len/(60*record_data.fs)))"
   ]
  }
 ],
 "metadata": {
  "kernelspec": {
   "display_name": "Python 3",
   "language": "python",
   "name": "python3"
  },
  "language_info": {
   "codemirror_mode": {
    "name": "ipython",
    "version": 3
   },
   "file_extension": ".py",
   "mimetype": "text/x-python",
   "name": "python",
   "nbconvert_exporter": "python",
   "pygments_lexer": "ipython3",
   "version": "3.8.8"
  },
  "toc": {
   "base_numbering": 1,
   "nav_menu": {},
   "number_sections": true,
   "sideBar": true,
   "skip_h1_title": true,
   "title_cell": "Table of Contents",
   "title_sidebar": "Contents",
   "toc_cell": false,
   "toc_position": {},
   "toc_section_display": true,
   "toc_window_display": false
  }
 },
 "nbformat": 4,
 "nbformat_minor": 5
}
