{
 "cells": [
  {
   "cell_type": "markdown",
   "id": "5d037743",
   "metadata": {},
   "source": [
    "# Data Exploration\n",
    "\n",
    "Exploring MIMIC waveform data.\n",
    "\n",
    "---\n",
    "\n",
    "## Identify records\n",
    "\n",
    "Identify the records in the MIMIC IV Waveform Database\n",
    "\n",
    "### Specify the required Python packages\n",
    "- The WFDB package is imported using `import wfdb`"
   ]
  },
  {
   "cell_type": "code",
   "execution_count": 1,
   "id": "ce3cdfde",
   "metadata": {},
   "outputs": [],
   "source": [
    "# Setup\n",
    "import sys\n",
    "from pathlib import Path\n",
    "\n",
    "import wfdb # The WFDB Toolbox\n",
    "\n",
    "wfdb.set_db_index_url('https://challenge.physionet.org/benjamin/db')"
   ]
  },
  {
   "cell_type": "markdown",
   "id": "e11ce5b6",
   "metadata": {},
   "source": [
    "<div class=\"alert alert-block alert-warning\"> <b>Resource:</b> You can find out more about the WFDB package <a href=\"https://physionet.org/content/wfdb-python/3.4.1/\">here</a>. </div>"
   ]
  },
  {
   "cell_type": "markdown",
   "id": "a2292ae0",
   "metadata": {},
   "source": [
    "### Get a list of records in the database\n",
    "- Use the [`get_record_list`](https://wfdb.readthedocs.io/en/latest/io.html#wfdb.io.get_record_list) function from the WFDB toolbox to get a list records in the database."
   ]
  },
  {
   "cell_type": "code",
   "execution_count": 2,
   "id": "e2d42258",
   "metadata": {},
   "outputs": [
    {
     "name": "stdout",
     "output_type": "stream",
     "text": [
      "Done: Loaded list of 200 records for 'mimic4wdb/0.1.0' database\n"
     ]
    }
   ],
   "source": [
    "records = []\n",
    "database_name = 'mimic4wdb/0.1.0' # The name of the MIMIC IV Waveform Demo Database on Physionet (see URL: )\n",
    "subjects = wfdb.get_record_list(f'{database_name}')\n",
    "for subject in subjects:\n",
    "    studies = wfdb.get_record_list(f'{database_name}/{subject}')\n",
    "    for study in studies:\n",
    "        records.append(Path(f'{subject}{study}'))\n",
    "print(\"Done: Loaded list of {} records for '{}' database\".format(len(records), database_name))"
   ]
  },
  {
   "cell_type": "markdown",
   "id": "29552f5a",
   "metadata": {},
   "source": [
    "- Display the first few records"
   ]
  },
  {
   "cell_type": "code",
   "execution_count": 3,
   "id": "bb5745a7",
   "metadata": {},
   "outputs": [
    {
     "name": "stdout",
     "output_type": "stream",
     "text": [
      "First five records: [PosixPath('p100/p10014354/81739927/81739927'), PosixPath('p100/p10019003/87033314/87033314'), PosixPath('p100/p10020306/83404654/83404654'), PosixPath('p100/p10039708/83411188/83411188'), PosixPath('p100/p10039708/85583557/85583557')]\n"
     ]
    }
   ],
   "source": [
    "print(\"First five records: {}\".format(str(records[0:5])))"
   ]
  },
  {
   "cell_type": "markdown",
   "id": "30b96273",
   "metadata": {},
   "source": [
    "Note the formatting of these records: each starts with an intermediate directory (\"p100\" in this case), followed by a subject identifier and a record identifier."
   ]
  },
  {
   "cell_type": "markdown",
   "id": "b56c29d5",
   "metadata": {},
   "source": [
    "<div class=\"alert alert-block alert-info\"> <b>Q:</b> Can you print the names of the last five records? <br> <b>Hint:</b> in Python, the last five elements can be specified using '[-5:]' </div>"
   ]
  },
  {
   "cell_type": "markdown",
   "id": "cb21a93b",
   "metadata": {},
   "source": [
    "---\n",
    "## Extract metadata for a record"
   ]
  },
  {
   "cell_type": "markdown",
   "id": "c39dc9f3",
   "metadata": {},
   "source": [
    "Each record contains metadata stored in a header file, named \"\\<record name\\>.hea\""
   ]
  },
  {
   "cell_type": "markdown",
   "id": "3b2e6adb",
   "metadata": {},
   "source": [
    "### Specify the online directory containing a records data"
   ]
  },
  {
   "cell_type": "code",
   "execution_count": 4,
   "id": "86eed39f",
   "metadata": {},
   "outputs": [
    {
     "name": "stdout",
     "output_type": "stream",
     "text": [
      "Physionet directory specified for this record: mimic4wdb/0.1.0/p100/p10039708/83411188\n"
     ]
    }
   ],
   "source": [
    "no = 3 # specify the first record (noting that in Python the first index is 0)\n",
    "record = records[no]\n",
    "record_dir = f'{database_name}/{record.parent}'\n",
    "print(\"Physionet directory specified for this record: {}\".format(record_dir))"
   ]
  },
  {
   "cell_type": "markdown",
   "id": "b5220ad3",
   "metadata": {},
   "source": [
    "### Specify the name of the record"
   ]
  },
  {
   "cell_type": "markdown",
   "id": "d7a5bbef",
   "metadata": {},
   "source": [
    "Extract the record name (e.g. '83411188') from the record directory (e.g. 'p100/p10039708/83411188/83411188'):"
   ]
  },
  {
   "cell_type": "code",
   "execution_count": 5,
   "id": "b4bc247b",
   "metadata": {},
   "outputs": [
    {
     "name": "stdout",
     "output_type": "stream",
     "text": [
      "Record name: 83411188\n"
     ]
    }
   ],
   "source": [
    "record_name = record.name\n",
    "print(\"Record name: {}\".format(record_name))"
   ]
  },
  {
   "cell_type": "markdown",
   "id": "742071da",
   "metadata": {},
   "source": [
    "### Load the metadata for this record\n",
    "- Use the [`rdheader`](https://wfdb.readthedocs.io/en/latest/io.html#wfdb.io.rdheader) function from the WFDB toolbox to load metadata from the record header file"
   ]
  },
  {
   "cell_type": "code",
   "execution_count": 6,
   "id": "c5a0afc5",
   "metadata": {},
   "outputs": [
    {
     "name": "stdout",
     "output_type": "stream",
     "text": [
      "Done: metadata loaded for record '83411188' from header file at URL: https://physionet.org/content/mimic4wdb/0.1.0/p100/p10039708/83411188/83411188.hea\n"
     ]
    }
   ],
   "source": [
    "record_data = wfdb.rdheader(record_name, pn_dir=record_dir, rd_segments=True)\n",
    "# NOTE \"https://physionet.org/content/\" won't be correct until the MIMIC-IV-Waveform is officially released\n",
    "print(\"Done: metadata loaded for record '{}' from header file at URL: {}\".format(record_name, \"https://physionet.org/content/\" + record_dir + \"/\" + record_name + \".hea\"))"
   ]
  },
  {
   "cell_type": "markdown",
   "id": "f7a4d25d",
   "metadata": {},
   "source": [
    "---\n",
    "## Inspect details of physiological signals recorded in this record\n",
    "- Printing a few details of the signals from the extracted metadata"
   ]
  },
  {
   "cell_type": "code",
   "execution_count": 7,
   "id": "58630149",
   "metadata": {},
   "outputs": [
    {
     "name": "stdout",
     "output_type": "stream",
     "text": [
      "- Number of signals: 6\n",
      "- Duration: 14.2 hours\n",
      "- Sampling frequency: 62.4725 Hz\n"
     ]
    }
   ],
   "source": [
    "print(\"- Number of signals: {}\".format(record_data.n_sig))\n",
    "print(\"- Duration: {:.1f} hours\".format(record_data.sig_len/(record_data.fs*60*60))) \n",
    "# NOTE fs isn't 125 Hz\n",
    "print(\"- Sampling frequency: {} Hz\".format(record_data.fs))"
   ]
  },
  {
   "cell_type": "markdown",
   "id": "79df2f77",
   "metadata": {},
   "source": [
    "Note that:\n",
    "- Not all signals may be present throughout the duration of the record\n",
    "- All signals in MIMIC are sampled at 125 Hz."
   ]
  },
  {
   "cell_type": "markdown",
   "id": "7b3da17f",
   "metadata": {},
   "source": [
    "---\n",
    "## Inspect the segments making up a record\n",
    "Each record is typically made up of several segments\n",
    "\n",
    "- Inspect the files in this record"
   ]
  },
  {
   "cell_type": "code",
   "execution_count": 8,
   "id": "a93390d0",
   "metadata": {},
   "outputs": [
    {
     "name": "stdout",
     "output_type": "stream",
     "text": [
      "Done: Loaded list of 2 records for subject 'p10039708'\n"
     ]
    }
   ],
   "source": [
    "files = wfdb.get_record_list(str(Path(record_dir).parent))\n",
    "print(\"Done: Loaded list of {} records for subject '{}'\".format(len(files), str(Path(record_dir).parent.parts[-1])))"
   ]
  },
  {
   "cell_type": "markdown",
   "id": "f8aae993",
   "metadata": {},
   "source": [
    "Inspect the contents of the first two files:"
   ]
  },
  {
   "cell_type": "code",
   "execution_count": 9,
   "id": "298e87ff",
   "metadata": {},
   "outputs": [
    {
     "name": "stdout",
     "output_type": "stream",
     "text": [
      "The first record is: '83411188/83411188'\n",
      "The second record is: '85583557/85583557'\n"
     ]
    }
   ],
   "source": [
    "print(\"The first record is: '{}'\".format(files[0]) )\n",
    "print(\"The second record is: '{}'\".format(files[1]) )"
   ]
  },
  {
   "cell_type": "markdown",
   "id": "0f57f512",
   "metadata": {},
   "source": [
    "The number before the / is the record number and the number after is for the multi-segment header file. This multi-segment header file provides general information about the record. \n",
    "\n",
    "The remaining files under a record contain the waveform data, split into segments, with one file per segment."
   ]
  },
  {
   "cell_type": "code",
   "execution_count": 10,
   "id": "b127c857",
   "metadata": {},
   "outputs": [
    {
     "name": "stdout",
     "output_type": "stream",
     "text": [
      "The 6 segments from study 83411188 are: ['83411188_0000', '83411188_0001', '83411188_0002', '83411188_0003', '83411188_0004', '83411188_0005']\n"
     ]
    }
   ],
   "source": [
    "segments = record_data.seg_name\n",
    "print(\"The {} segments from study {} are: {}\".format(len(segments), record_name, segments) )"
   ]
  },
  {
   "cell_type": "markdown",
   "id": "b379eaaf",
   "metadata": {},
   "source": [
    "Note the format of the names of the files containing waveform data for each segment: record directory, \"_\", segment number"
   ]
  },
  {
   "cell_type": "markdown",
   "id": "f19d231b",
   "metadata": {},
   "source": [
    "---\n",
    "## Inspect an individual segment\n",
    "### Read the metadata for this segment\n",
    "- Read the metadata from the header file"
   ]
  },
  {
   "cell_type": "code",
   "execution_count": 16,
   "id": "7f70d34f",
   "metadata": {},
   "outputs": [
    {
     "name": "stdout",
     "output_type": "stream",
     "text": [
      "Header metadata loaded for the segment '83411188_0001' in study '83411188' for subject 'p10039708'\n"
     ]
    }
   ],
   "source": [
    "segment_metadata = wfdb.rdheader(record_name=segments[2], pn_dir=record_dir) \n",
    "print(\"Header metadata loaded for the segment '{}' in study '{}' for subject '{}'\".format(segments[1], record_name, str(Path(record_dir).parent.parts[-1])))"
   ]
  },
  {
   "cell_type": "markdown",
   "id": "d28771ac",
   "metadata": {},
   "source": [
    "### Find out what signals are present, and for how long"
   ]
  },
  {
   "cell_type": "code",
   "execution_count": 17,
   "id": "324727df",
   "metadata": {},
   "outputs": [
    {
     "name": "stdout",
     "output_type": "stream",
     "text": [
      "This segment contains the following signals: ['II', 'V', 'aVR', 'ABP', 'Pleth', 'Resp']\n",
      "The signals are measured in units of: ['mV', 'mV', 'mV', 'mmHg', 'NU', 'Ohm']\n"
     ]
    }
   ],
   "source": [
    "print(\"This segment contains the following signals: {}\".format(record_data.sig_name))\n",
    "print(\"The signals are measured in units of: {}\".format(segment_metadata.units))"
   ]
  },
  {
   "cell_type": "markdown",
   "id": "f09b3f37",
   "metadata": {},
   "source": [
    "See [here](https://archive.physionet.org/mimic2/mimic2_waveform_overview.shtml#signals-125-samplessecond) for definitions of signal abbreviations."
   ]
  },
  {
   "cell_type": "markdown",
   "id": "3f56dd61",
   "metadata": {},
   "source": [
    "<div class=\"alert alert-block alert-info\"> <b>Q:</b> Which of these signals is still present in segment '83411188_0000'? </div>"
   ]
  },
  {
   "cell_type": "markdown",
   "id": "d217b764",
   "metadata": {},
   "source": [
    "All signals in a segment are time-aligned, measured at the same sampling frequency, and last the same duration:"
   ]
  },
  {
   "cell_type": "code",
   "execution_count": 18,
   "id": "c44f00a7",
   "metadata": {},
   "outputs": [
    {
     "name": "stdout",
     "output_type": "stream",
     "text": [
      "All the signals are sampled at 62.4725 Hz\n",
      "and they last for 0.9 minutes\n"
     ]
    }
   ],
   "source": [
    "print(\"All the signals are sampled at {} Hz\".format(segment_metadata.fs))\n",
    "print(\"and they last for {:.1f} minutes\".format(segment_metadata.sig_len/(segment_metadata.fs*60)) )"
   ]
  },
  {
   "cell_type": "code",
   "execution_count": null,
   "id": "9d62b484",
   "metadata": {},
   "outputs": [],
   "source": []
  }
 ],
 "metadata": {
  "kernelspec": {
   "display_name": "Python 3 (ipykernel)",
   "language": "python",
   "name": "python3"
  },
  "language_info": {
   "codemirror_mode": {
    "name": "ipython",
    "version": 3
   },
   "file_extension": ".py",
   "mimetype": "text/x-python",
   "name": "python",
   "nbconvert_exporter": "python",
   "pygments_lexer": "ipython3",
   "version": "3.9.10"
  },
  "toc": {
   "base_numbering": 1,
   "nav_menu": {},
   "number_sections": true,
   "sideBar": true,
   "skip_h1_title": false,
   "title_cell": "Table of Contents",
   "title_sidebar": "Contents",
   "toc_cell": false,
   "toc_position": {},
   "toc_section_display": true,
   "toc_window_display": false
  }
 },
 "nbformat": 4,
 "nbformat_minor": 5
}
