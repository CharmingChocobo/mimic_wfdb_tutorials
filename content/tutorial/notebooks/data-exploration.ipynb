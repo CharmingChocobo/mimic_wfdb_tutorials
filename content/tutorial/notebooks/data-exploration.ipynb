{
 "cells": [
  {
   "cell_type": "markdown",
   "id": "5d037743",
   "metadata": {},
   "source": [
    "# Data Exploration"
   ]
  },
  {
   "cell_type": "markdown",
   "id": "fbae8e9b",
   "metadata": {},
   "source": [
    "In this tutorial we will explore data in the MIMIC Waveform Database.\n",
    "\n",
    "The **objectives** are:\n",
    "- To gain an understanding of the structure of the MIMIC Database, consisting of subjects, studies, records, and segments.\n",
    "- To start using the WaveForm DataBase Toolbox to work with waveform data files\n",
    "- To understand how to find out what signals are present in a record or a segment, and how long they last.\n",
    "- To gain experience in searching for records which contain the signals required for a particular study."
   ]
  },
  {
   "cell_type": "markdown",
   "id": "28b8e213",
   "metadata": {},
   "source": [
    "---\n",
    "## Setup"
   ]
  },
  {
   "cell_type": "markdown",
   "id": "5dac032e",
   "metadata": {},
   "source": [
    "### Specify the required Python packages\n",
    "We'll import the following:\n",
    "- _sys_: an essential python package\n",
    "- _wfdb_: The WaveForm DataBase Toolbox package, which contains tools for processing waveform data such as those in MIMIC.\n",
    "- _pathlib_ (well a particular function from _pathlib_, called _Path_)"
   ]
  },
  {
   "cell_type": "code",
   "execution_count": 3,
   "id": "ce3cdfde",
   "metadata": {},
   "outputs": [],
   "source": [
    "import sys\n",
    "import wfdb\n",
    "from pathlib import Path"
   ]
  },
  {
   "cell_type": "markdown",
   "id": "d492e49f",
   "metadata": {},
   "source": [
    "Now that we have imported these packages (_i.e._ toolboxes) we have a set of tools (functions) ready to use."
   ]
  },
  {
   "cell_type": "markdown",
   "id": "e11ce5b6",
   "metadata": {},
   "source": [
    "<div class=\"alert alert-block alert-warning\"> <b>Resource:</b> You can find out more about the WFDB package <a href=\"https://physionet.org/content/wfdb-python/3.4.1/\">here</a>. </div>"
   ]
  },
  {
   "cell_type": "markdown",
   "id": "e7d38297",
   "metadata": {},
   "source": [
    "### Specify the version of the MIMIC Waveform Database to use\n",
    "We will use either the:\n",
    "- [MIMIC III Waveform Database](https://doi.org/10.13026/c2607m), or\n",
    "- MIMIC IV Waveform Database"
   ]
  },
  {
   "cell_type": "markdown",
   "id": "212c33c1",
   "metadata": {},
   "source": [
    "- Specify which version of the database to use:"
   ]
  },
  {
   "cell_type": "code",
   "execution_count": 4,
   "id": "b307acf2",
   "metadata": {},
   "outputs": [],
   "source": [
    "mimic_wfdb_version = 4 # either: 3 or 4"
   ]
  },
  {
   "cell_type": "markdown",
   "id": "68491718",
   "metadata": {},
   "source": [
    "- Setup for this particular version of the database:"
   ]
  },
  {
   "cell_type": "code",
   "execution_count": 5,
   "id": "982b8154",
   "metadata": {},
   "outputs": [
    {
     "name": "stdout",
     "output_type": "stream",
     "text": [
      "Using MIMIC Waveform Database version: 4\n"
     ]
    }
   ],
   "source": [
    "if mimic_wfdb_version == 3:\n",
    "    wfdb.set_db_index_url('https://physionet.org/files') # use the version of the WFDB toolbox which corresponds to MIMIC IV.\n",
    "    database_name = 'mimic3wdb/1.0' # The name of the MIMIC III Waveform Database on Physionet (see URL: https://physionet.org/content/mimic3wdb/1.0/)\n",
    "elif mimic_wfdb_version == 4:\n",
    "    wfdb.set_db_index_url('https://challenge.physionet.org/benjamin/db') # use the version of the WFDB toolbox which corresponds to MIMIC IV.\n",
    "    database_name = 'mimic4wdb/0.1.0' # The name of the MIMIC IV Waveform Demo Database on Physionet\n",
    "print(\"Using MIMIC Waveform Database version: {}\".format(mimic_wfdb_version))"
   ]
  },
  {
   "cell_type": "markdown",
   "id": "e49196a6",
   "metadata": {},
   "source": [
    "---\n",
    "## Identify the records in the database"
   ]
  },
  {
   "cell_type": "markdown",
   "id": "b476f9b7",
   "metadata": {},
   "source": [
    "### Get a list of records\n",
    "\n",
    "- Use the [`get_record_list`](https://wfdb.readthedocs.io/en/latest/io.html#wfdb.io.get_record_list) function from the WFDB toolbox to get a list of records in the database."
   ]
  },
  {
   "cell_type": "code",
   "execution_count": 6,
   "id": "d91aa6a7",
   "metadata": {},
   "outputs": [
    {
     "name": "stdout",
     "output_type": "stream",
     "text": [
      "The 'mimic4wdb/0.1.0' database contains data from 198 subjects\n",
      "Done: Went through entire database and loaded list of 200 records for 'mimic4wdb/0.1.0' database\n"
     ]
    }
   ],
   "source": [
    "records = []\n",
    "no_records_to_load = 205\n",
    "subjects = wfdb.get_record_list(database_name)\n",
    "print(\"The '{}' database contains data from {} subjects\".format(database_name, len(subjects)))\n",
    "finished = False\n",
    "for subject in subjects:\n",
    "    if (not finished):\n",
    "        studies = wfdb.get_record_list(f'{database_name}/{subject}')\n",
    "        for study in studies:\n",
    "            if mimic_wfdb_version == 3 & (\"_\" not in study): # This skips any files which don't contain waveform data (e.g. numerics files)\n",
    "                continue\n",
    "            records.append(Path(f'{subject}{study}'))\n",
    "            if len(records) >= no_records_to_load: # stop if we've loaded enough records\n",
    "                finished = True\n",
    "if not finished:\n",
    "    print(\"Done: Went through entire database and loaded list of {} records for '{}' database\".format(len(records), database_name))\n",
    "else:\n",
    "    print(\"Done: Went through first bit of database and loaded list of {} records for '{}' database\".format(len(records), database_name))"
   ]
  },
  {
   "cell_type": "markdown",
   "id": "fc82d67e",
   "metadata": {},
   "source": [
    "### Look at the records"
   ]
  },
  {
   "cell_type": "markdown",
   "id": "29552f5a",
   "metadata": {},
   "source": [
    "- Display the first few records"
   ]
  },
  {
   "cell_type": "code",
   "execution_count": 7,
   "id": "bb5745a7",
   "metadata": {},
   "outputs": [
    {
     "name": "stdout",
     "output_type": "stream",
     "text": [
      "First five records: [PosixPath('p100/p10014354/81739927/81739927'), PosixPath('p100/p10019003/87033314/87033314'), PosixPath('p100/p10020306/83404654/83404654'), PosixPath('p100/p10039708/83411188/83411188'), PosixPath('p100/p10039708/85583557/85583557')]\n",
      "\n",
      "Note the formatting of these records:\n",
      " - intermediate directory ('p100' in this case)\n",
      " - subject identifier (e.g. 'p10014354')\n",
      " - record identifier (e.g. '81739927'\n"
     ]
    }
   ],
   "source": [
    "print(\"First five records: {}\".format(records[0:5]))\n",
    "if mimic_wfdb_version == 3:\n",
    "    print(\"\\nNote the formatting of these records:\\n - intermediate directory ('30' in this case)\\n - subject identifier ('3000003' in this case)\\n - record identifier (e.g. '3000003_0001'\")\n",
    "else:\n",
    "    print(\"\\nNote the formatting of these records:\\n - intermediate directory ('p100' in this case)\\n - subject identifier (e.g. 'p10014354')\\n - record identifier (e.g. '81739927'\")"
   ]
  },
  {
   "cell_type": "markdown",
   "id": "b56c29d5",
   "metadata": {},
   "source": [
    "<div class=\"alert alert-block alert-info\"> <b>Q:</b> Can you print the names of the last five records? <br> <b>Hint:</b> in Python, the last five elements can be specified using '[-5:]' </div>"
   ]
  },
  {
   "cell_type": "markdown",
   "id": "cb21a93b",
   "metadata": {},
   "source": [
    "---\n",
    "## Extract metadata for a record"
   ]
  },
  {
   "cell_type": "markdown",
   "id": "c39dc9f3",
   "metadata": {},
   "source": [
    "Each record contains metadata stored in a header file, named \"\\<record name\\>.hea\""
   ]
  },
  {
   "cell_type": "markdown",
   "id": "3b2e6adb",
   "metadata": {},
   "source": [
    "### Specify the online directory containing a record's data"
   ]
  },
  {
   "cell_type": "code",
   "execution_count": 8,
   "id": "86eed39f",
   "metadata": {},
   "outputs": [
    {
     "name": "stdout",
     "output_type": "stream",
     "text": [
      "Physionet directory specified for this record: mimic4wdb/0.1.0/p100/p10039708/83411188\n"
     ]
    }
   ],
   "source": [
    "if mimic_wfdb_version == 3:\n",
    "    no = 0\n",
    "else:\n",
    "    no = 3 # specify the fourth record (noting that in Python the first index is 0)\n",
    "record = records[no]\n",
    "record_dir = f'{database_name}/{record.parent}'\n",
    "print(\"Physionet directory specified for this record: {}\".format(record_dir))"
   ]
  },
  {
   "cell_type": "markdown",
   "id": "b5220ad3",
   "metadata": {},
   "source": [
    "### Specify the subject identifier"
   ]
  },
  {
   "cell_type": "markdown",
   "id": "d7a5bbef",
   "metadata": {},
   "source": [
    "Extract the record name (e.g. '83411188') from the record (e.g. 'p100/p10039708/83411188/83411188'):"
   ]
  },
  {
   "cell_type": "code",
   "execution_count": 9,
   "id": "b4bc247b",
   "metadata": {},
   "outputs": [
    {
     "name": "stdout",
     "output_type": "stream",
     "text": [
      "Record name: 83411188\n"
     ]
    }
   ],
   "source": [
    "record_name = record.name\n",
    "print(\"Record name: {}\".format(record_name))"
   ]
  },
  {
   "cell_type": "markdown",
   "id": "742071da",
   "metadata": {},
   "source": [
    "### Load the metadata for this record\n",
    "- Use the [`rdheader`](https://wfdb.readthedocs.io/en/latest/io.html#wfdb.io.rdheader) function from the WFDB toolbox to load metadata from the record header file"
   ]
  },
  {
   "cell_type": "code",
   "execution_count": 10,
   "id": "c5a0afc5",
   "metadata": {},
   "outputs": [
    {
     "name": "stdout",
     "output_type": "stream",
     "text": [
      "Done: metadata loaded for record '83411188' from header file at URL: https://physionet.org/content/mimic4wdb/0.1.0/p100/p10039708/83411188/83411188.hea\n"
     ]
    }
   ],
   "source": [
    "record_data = wfdb.rdheader(record_name, pn_dir=record_dir, rd_segments=True)\n",
    "print(\"Done: metadata loaded for record '{}' from header file at URL: {}\".format(record_name, \"https://physionet.org/content/\" + record_dir + \"/\" + record_name + \".hea\"))\n",
    "# NOTE \"https://physionet.org/content/\" won't be correct until the MIMIC-IV-Waveform is officially released"
   ]
  },
  {
   "cell_type": "markdown",
   "id": "f7a4d25d",
   "metadata": {},
   "source": [
    "---\n",
    "## Inspect details of physiological signals recorded in this record\n",
    "- Printing a few details of the signals from the extracted metadata"
   ]
  },
  {
   "cell_type": "code",
   "execution_count": 11,
   "id": "58630149",
   "metadata": {},
   "outputs": [
    {
     "name": "stdout",
     "output_type": "stream",
     "text": [
      "- Number of signals: 6\n",
      "- Duration: 14.2 hours\n",
      "- Sampling frequency: 62.4725 Hz\n"
     ]
    }
   ],
   "source": [
    "print(\"- Number of signals: {}\".format(record_data.n_sig))\n",
    "print(\"- Duration: {:.1f} hours\".format(record_data.sig_len/(record_data.fs*60*60))) \n",
    "# NOTE fs isn't 125 Hz\n",
    "print(\"- Sampling frequency: {} Hz\".format(record_data.fs))"
   ]
  },
  {
   "cell_type": "markdown",
   "id": "7b3da17f",
   "metadata": {},
   "source": [
    "---\n",
    "## Inspect the segments making up a record\n",
    "Each record is typically made up of several segments"
   ]
  },
  {
   "cell_type": "markdown",
   "id": "83d789c7",
   "metadata": {},
   "source": [
    "### Inspect the files in a record"
   ]
  },
  {
   "cell_type": "code",
   "execution_count": 12,
   "id": "a93390d0",
   "metadata": {},
   "outputs": [
    {
     "name": "stdout",
     "output_type": "stream",
     "text": [
      "Done: Loaded list of 2 records for subject 'p10039708'\n"
     ]
    }
   ],
   "source": [
    "if mimic_wfdb_version == 3:\n",
    "    files = wfdb.get_record_list(str(Path(record_dir)))\n",
    "    print(\"Done: Loaded list of {} records for subject '{}'\".format(len(files), str(Path(record_dir).parts[-1])))\n",
    "else:\n",
    "    files = wfdb.get_record_list(str(Path(record_dir).parent))\n",
    "    print(\"Done: Loaded list of {} records for subject '{}'\".format(len(files), str(Path(record_dir).parent.parts[-1])))"
   ]
  },
  {
   "cell_type": "markdown",
   "id": "f8aae993",
   "metadata": {},
   "source": [
    "### Inspect the contents of the first two files"
   ]
  },
  {
   "cell_type": "code",
   "execution_count": 13,
   "id": "298e87ff",
   "metadata": {},
   "outputs": [
    {
     "name": "stdout",
     "output_type": "stream",
     "text": [
      "The first file contains the first record: '83411188/83411188'\n",
      "The second file contains the second record: '85583557/85583557'\n",
      "where the number before the / is the record number and the number after is for the multi-segment header file. This multi-segment header file provides general information about the record.\n"
     ]
    }
   ],
   "source": [
    "if mimic_wfdb_version == 3:\n",
    "    print(\"The first file is: '{}', which provides metadata for the whole record\".format(files[0]) )\n",
    "    print(\"The second file is: '{}', which contains numerics data\".format(files[1]) )    \n",
    "else:\n",
    "    print(\"The first file contains the first record: '{}'\".format(files[0]) )\n",
    "    print(\"The second file contains the second record: '{}'\".format(files[1]) )\n",
    "    print(\"where the number before the / is the record number and the number after is for the multi-segment header file. This multi-segment header file provides general information about the record.\")"
   ]
  },
  {
   "cell_type": "markdown",
   "id": "0f57f512",
   "metadata": {},
   "source": [
    "### Inspect the segments within a record"
   ]
  },
  {
   "cell_type": "code",
   "execution_count": 14,
   "id": "b127c857",
   "metadata": {},
   "outputs": [
    {
     "name": "stdout",
     "output_type": "stream",
     "text": [
      "The 6 segments from record 83411188 are: ['83411188_0000', '83411188_0001', '83411188_0002', '83411188_0003', '83411188_0004', '83411188_0005']\n"
     ]
    }
   ],
   "source": [
    "segments = record_data.seg_name\n",
    "# --- these lines remove non-waveform data from MIMIC III files\n",
    "for curr_seg in segments:\n",
    "    if (\"~\" in curr_seg) or (\"layout\" in curr_seg):\n",
    "        segments.remove(curr_seg)\n",
    "# ---\n",
    "print(\"The {} segments from record {} are: {}\".format(len(segments), record_name, segments) )"
   ]
  },
  {
   "cell_type": "markdown",
   "id": "b379eaaf",
   "metadata": {},
   "source": [
    "Note the format of the names of the files containing waveform data for each segment: record directory, \"_\", segment number"
   ]
  },
  {
   "cell_type": "markdown",
   "id": "f19d231b",
   "metadata": {},
   "source": [
    "---\n",
    "## Inspect an individual segment\n",
    "### Read the metadata for this segment\n",
    "- Read the metadata from the header file"
   ]
  },
  {
   "cell_type": "code",
   "execution_count": 15,
   "id": "7f70d34f",
   "metadata": {},
   "outputs": [
    {
     "name": "stdout",
     "output_type": "stream",
     "text": [
      "Header metadata loaded for the segment '83411188_0001' in study '83411188' for subject 'p10039708'\n"
     ]
    }
   ],
   "source": [
    "segment_metadata = wfdb.rdheader(record_name=segments[2], pn_dir=record_dir) \n",
    "print(\"Header metadata loaded for the segment '{}' in study '{}' for subject '{}'\".format(segments[1], record_name, str(Path(record_dir).parent.parts[-1])))"
   ]
  },
  {
   "cell_type": "markdown",
   "id": "d28771ac",
   "metadata": {},
   "source": [
    "### Find out what signals are present"
   ]
  },
  {
   "cell_type": "code",
   "execution_count": 16,
   "id": "324727df",
   "metadata": {},
   "outputs": [
    {
     "name": "stdout",
     "output_type": "stream",
     "text": [
      "This segment contains the following signals: ['II', 'V', 'aVR', 'ABP', 'Pleth', 'Resp']\n",
      "The signals are measured in units of: ['mV', 'mV', 'mV', 'mmHg', 'NU', 'Ohm']\n"
     ]
    }
   ],
   "source": [
    "print(\"This segment contains the following signals: {}\".format(segment_metadata.sig_name))\n",
    "print(\"The signals are measured in units of: {}\".format(segment_metadata.units))"
   ]
  },
  {
   "cell_type": "markdown",
   "id": "f09b3f37",
   "metadata": {},
   "source": [
    "See [here](https://archive.physionet.org/mimic2/mimic2_waveform_overview.shtml#signals-125-samplessecond) for definitions of signal abbreviations."
   ]
  },
  {
   "cell_type": "markdown",
   "id": "3f56dd61",
   "metadata": {},
   "source": [
    "<div class=\"alert alert-block alert-info\"> <b>Q:</b> Which of these signals is still present in segment '3000003_0014' (for MIMIC III) or segment '83411188_0000' (for MIMIC IV)? </div>"
   ]
  },
  {
   "cell_type": "markdown",
   "id": "9f921f27",
   "metadata": {},
   "source": [
    "### Find out how long each signal lasts"
   ]
  },
  {
   "cell_type": "markdown",
   "id": "d217b764",
   "metadata": {},
   "source": [
    "All signals in a segment are time-aligned, measured at the same sampling frequency, and last the same duration:"
   ]
  },
  {
   "cell_type": "code",
   "execution_count": 17,
   "id": "c44f00a7",
   "metadata": {},
   "outputs": [
    {
     "name": "stdout",
     "output_type": "stream",
     "text": [
      "All the signals are sampled at 62.4725 Hz\n",
      "and they last for 0.9 minutes\n"
     ]
    }
   ],
   "source": [
    "print(\"All the signals are sampled at {} Hz\".format(segment_metadata.fs))\n",
    "print(\"and they last for {:.1f} minutes\".format(segment_metadata.sig_len/(segment_metadata.fs*60)) )"
   ]
  },
  {
   "cell_type": "markdown",
   "id": "d2a80895",
   "metadata": {},
   "source": [
    "## Identify records suitable for analysis"
   ]
  },
  {
   "cell_type": "markdown",
   "id": "1a3218d3",
   "metadata": {},
   "source": [
    "The signals available and their durations vary from one record (and segment) to the next. Since most studies require specific types of signals (e.g. blood pressure and photoplethysmography signals), it is important to identify which records (or segments) contain the required signals for the required duration."
   ]
  },
  {
   "cell_type": "markdown",
   "id": "b02c0b4e",
   "metadata": {},
   "source": [
    "### Setup"
   ]
  },
  {
   "cell_type": "code",
   "execution_count": 36,
   "id": "5bb47556",
   "metadata": {},
   "outputs": [],
   "source": [
    "import pandas as pd\n",
    "from pprint import pprint"
   ]
  },
  {
   "cell_type": "code",
   "execution_count": 22,
   "id": "95181681",
   "metadata": {},
   "outputs": [
    {
     "name": "stdout",
     "output_type": "stream",
     "text": [
      "Earlier, we loaded a list of 200 records for 'mimic4wdb/0.1.0' database\n"
     ]
    }
   ],
   "source": [
    "print(\"Earlier, we loaded a list of {} records for '{}' database\".format(len(records), database_name))"
   ]
  },
  {
   "cell_type": "markdown",
   "id": "7f2b5955",
   "metadata": {},
   "source": [
    "### Specify requirements"
   ]
  },
  {
   "cell_type": "markdown",
   "id": "83f8611c",
   "metadata": {},
   "source": [
    "- Required signals"
   ]
  },
  {
   "cell_type": "code",
   "execution_count": 27,
   "id": "3d1505ab",
   "metadata": {},
   "outputs": [],
   "source": [
    "required_sigs = ['ABP', 'Pleth']"
   ]
  },
  {
   "cell_type": "markdown",
   "id": "03920810",
   "metadata": {},
   "source": [
    "- Required duration"
   ]
  },
  {
   "cell_type": "code",
   "execution_count": 28,
   "id": "568a93c1",
   "metadata": {},
   "outputs": [],
   "source": [
    "req_seg_duration = 10*60  # converting from minutes to seconds"
   ]
  },
  {
   "cell_type": "markdown",
   "id": "d49187cd",
   "metadata": {},
   "source": [
    "### Find out how many records meet the requirements"
   ]
  },
  {
   "cell_type": "code",
   "execution_count": 44,
   "id": "015b47d3",
   "metadata": {},
   "outputs": [
    {
     "name": "stdout",
     "output_type": "stream",
     "text": [
      "Record: p100/p10014354/81739927/81739927 (reading data)\n",
      " - Segment: 81739927_0000 (too short at 0.0 mins)\n",
      " - Segment: 81739927_0001 (too short at 0.1 mins)\n",
      " - Segment: 81739927_0002 (too short at 0.9 mins)\n",
      " - Segment: 81739927_0003 (too short at 0.1 mins)\n",
      " - Segment: 81739927_0004 (too short at 0.0 mins)\n",
      " - Segment: 81739927_0005 (too short at 0.5 mins)\n",
      " - Segment: 81739927_0006 (too short at 0.1 mins)\n",
      " - Segment: 81739927_0007"
     ]
    },
    {
     "ename": "KeyboardInterrupt",
     "evalue": "",
     "output_type": "error",
     "traceback": [
      "\u001b[0;31m---------------------------------------------------------------------------\u001b[0m",
      "\u001b[0;31mKeyboardInterrupt\u001b[0m                         Traceback (most recent call last)",
      "\u001b[0;32m<ipython-input-44-8d816790bf52>\u001b[0m in \u001b[0;36m<module>\u001b[0;34m\u001b[0m\n\u001b[1;32m     12\u001b[0m     \u001b[0;32mfor\u001b[0m \u001b[0msegment\u001b[0m \u001b[0;32min\u001b[0m \u001b[0mgen\u001b[0m\u001b[0;34m:\u001b[0m\u001b[0;34m\u001b[0m\u001b[0;34m\u001b[0m\u001b[0m\n\u001b[1;32m     13\u001b[0m         \u001b[0mprint\u001b[0m\u001b[0;34m(\u001b[0m\u001b[0;34m' - Segment: {}'\u001b[0m\u001b[0;34m.\u001b[0m\u001b[0mformat\u001b[0m\u001b[0;34m(\u001b[0m\u001b[0msegment\u001b[0m\u001b[0;34m)\u001b[0m\u001b[0;34m,\u001b[0m \u001b[0mend\u001b[0m\u001b[0;34m=\u001b[0m\u001b[0;34m\"\"\u001b[0m\u001b[0;34m,\u001b[0m \u001b[0mflush\u001b[0m\u001b[0;34m=\u001b[0m\u001b[0;32mTrue\u001b[0m\u001b[0;34m)\u001b[0m\u001b[0;34m\u001b[0m\u001b[0;34m\u001b[0m\u001b[0m\n\u001b[0;32m---> 14\u001b[0;31m         \u001b[0msegment_metadata\u001b[0m \u001b[0;34m=\u001b[0m \u001b[0mwfdb\u001b[0m\u001b[0;34m.\u001b[0m\u001b[0mrdheader\u001b[0m\u001b[0;34m(\u001b[0m\u001b[0mrecord_name\u001b[0m\u001b[0;34m=\u001b[0m\u001b[0msegment\u001b[0m\u001b[0;34m,\u001b[0m \u001b[0mpn_dir\u001b[0m\u001b[0;34m=\u001b[0m\u001b[0mrecord_dir\u001b[0m\u001b[0;34m)\u001b[0m\u001b[0;34m\u001b[0m\u001b[0;34m\u001b[0m\u001b[0m\n\u001b[0m\u001b[1;32m     15\u001b[0m         \u001b[0mseg_length\u001b[0m \u001b[0;34m=\u001b[0m \u001b[0msegment_metadata\u001b[0m\u001b[0;34m.\u001b[0m\u001b[0msig_len\u001b[0m\u001b[0;34m/\u001b[0m\u001b[0;34m(\u001b[0m\u001b[0msegment_metadata\u001b[0m\u001b[0;34m.\u001b[0m\u001b[0mfs\u001b[0m\u001b[0;34m)\u001b[0m\u001b[0;34m\u001b[0m\u001b[0;34m\u001b[0m\u001b[0m\n\u001b[1;32m     16\u001b[0m         \u001b[0;32mif\u001b[0m \u001b[0mseg_length\u001b[0m \u001b[0;34m<\u001b[0m \u001b[0mreq_seg_duration\u001b[0m\u001b[0;34m:\u001b[0m\u001b[0;34m\u001b[0m\u001b[0;34m\u001b[0m\u001b[0m\n",
      "\u001b[0;32m~/anaconda3/lib/python3.8/site-packages/wfdb/io/record.py\u001b[0m in \u001b[0;36mrdheader\u001b[0;34m(record_name, pn_dir, rd_segments)\u001b[0m\n\u001b[1;32m   3257\u001b[0m \u001b[0;34m\u001b[0m\u001b[0m\n\u001b[1;32m   3258\u001b[0m     \u001b[0;31m# Read the header file. Separate comment and non-comment lines\u001b[0m\u001b[0;34m\u001b[0m\u001b[0;34m\u001b[0m\u001b[0;34m\u001b[0m\u001b[0m\n\u001b[0;32m-> 3259\u001b[0;31m     header_lines, comment_lines = _header._read_header_lines(base_record_name,\n\u001b[0m\u001b[1;32m   3260\u001b[0m                                                              dir_name, pn_dir)\n\u001b[1;32m   3261\u001b[0m \u001b[0;34m\u001b[0m\u001b[0m\n",
      "\u001b[0;32m~/anaconda3/lib/python3.8/site-packages/wfdb/io/_header.py\u001b[0m in \u001b[0;36m_read_header_lines\u001b[0;34m(base_record_name, dir_name, pn_dir)\u001b[0m\n\u001b[1;32m    855\u001b[0m     \u001b[0;31m# Read online header file\u001b[0m\u001b[0;34m\u001b[0m\u001b[0;34m\u001b[0m\u001b[0;34m\u001b[0m\u001b[0m\n\u001b[1;32m    856\u001b[0m     \u001b[0;32melse\u001b[0m\u001b[0;34m:\u001b[0m\u001b[0;34m\u001b[0m\u001b[0;34m\u001b[0m\u001b[0m\n\u001b[0;32m--> 857\u001b[0;31m         header_lines, comment_lines = download._stream_header(file_name,\n\u001b[0m\u001b[1;32m    858\u001b[0m                                                               pn_dir)\n\u001b[1;32m    859\u001b[0m \u001b[0;34m\u001b[0m\u001b[0m\n",
      "\u001b[0;32m~/anaconda3/lib/python3.8/site-packages/wfdb/io/download.py\u001b[0m in \u001b[0;36m_stream_header\u001b[0;34m(file_name, pn_dir)\u001b[0m\n\u001b[1;32m    109\u001b[0m     \u001b[0;31m# Full url of header location\u001b[0m\u001b[0;34m\u001b[0m\u001b[0;34m\u001b[0m\u001b[0;34m\u001b[0m\u001b[0m\n\u001b[1;32m    110\u001b[0m     \u001b[0murl\u001b[0m \u001b[0;34m=\u001b[0m \u001b[0mposixpath\u001b[0m\u001b[0;34m.\u001b[0m\u001b[0mjoin\u001b[0m\u001b[0;34m(\u001b[0m\u001b[0mconfig\u001b[0m\u001b[0;34m.\u001b[0m\u001b[0mdb_index_url\u001b[0m\u001b[0;34m,\u001b[0m \u001b[0mpn_dir\u001b[0m\u001b[0;34m,\u001b[0m \u001b[0mfile_name\u001b[0m\u001b[0;34m)\u001b[0m\u001b[0;34m\u001b[0m\u001b[0;34m\u001b[0m\u001b[0m\n\u001b[0;32m--> 111\u001b[0;31m     \u001b[0mresponse\u001b[0m \u001b[0;34m=\u001b[0m \u001b[0mrequests\u001b[0m\u001b[0;34m.\u001b[0m\u001b[0mget\u001b[0m\u001b[0;34m(\u001b[0m\u001b[0murl\u001b[0m\u001b[0;34m)\u001b[0m\u001b[0;34m\u001b[0m\u001b[0;34m\u001b[0m\u001b[0m\n\u001b[0m\u001b[1;32m    112\u001b[0m \u001b[0;34m\u001b[0m\u001b[0m\n\u001b[1;32m    113\u001b[0m     \u001b[0;31m# Raise HTTPError if invalid url\u001b[0m\u001b[0;34m\u001b[0m\u001b[0;34m\u001b[0m\u001b[0;34m\u001b[0m\u001b[0m\n",
      "\u001b[0;32m~/anaconda3/lib/python3.8/site-packages/requests/api.py\u001b[0m in \u001b[0;36mget\u001b[0;34m(url, params, **kwargs)\u001b[0m\n\u001b[1;32m     74\u001b[0m \u001b[0;34m\u001b[0m\u001b[0m\n\u001b[1;32m     75\u001b[0m     \u001b[0mkwargs\u001b[0m\u001b[0;34m.\u001b[0m\u001b[0msetdefault\u001b[0m\u001b[0;34m(\u001b[0m\u001b[0;34m'allow_redirects'\u001b[0m\u001b[0;34m,\u001b[0m \u001b[0;32mTrue\u001b[0m\u001b[0;34m)\u001b[0m\u001b[0;34m\u001b[0m\u001b[0;34m\u001b[0m\u001b[0m\n\u001b[0;32m---> 76\u001b[0;31m     \u001b[0;32mreturn\u001b[0m \u001b[0mrequest\u001b[0m\u001b[0;34m(\u001b[0m\u001b[0;34m'get'\u001b[0m\u001b[0;34m,\u001b[0m \u001b[0murl\u001b[0m\u001b[0;34m,\u001b[0m \u001b[0mparams\u001b[0m\u001b[0;34m=\u001b[0m\u001b[0mparams\u001b[0m\u001b[0;34m,\u001b[0m \u001b[0;34m**\u001b[0m\u001b[0mkwargs\u001b[0m\u001b[0;34m)\u001b[0m\u001b[0;34m\u001b[0m\u001b[0;34m\u001b[0m\u001b[0m\n\u001b[0m\u001b[1;32m     77\u001b[0m \u001b[0;34m\u001b[0m\u001b[0m\n\u001b[1;32m     78\u001b[0m \u001b[0;34m\u001b[0m\u001b[0m\n",
      "\u001b[0;32m~/anaconda3/lib/python3.8/site-packages/requests/api.py\u001b[0m in \u001b[0;36mrequest\u001b[0;34m(method, url, **kwargs)\u001b[0m\n\u001b[1;32m     59\u001b[0m     \u001b[0;31m# cases, and look like a memory leak in others.\u001b[0m\u001b[0;34m\u001b[0m\u001b[0;34m\u001b[0m\u001b[0;34m\u001b[0m\u001b[0m\n\u001b[1;32m     60\u001b[0m     \u001b[0;32mwith\u001b[0m \u001b[0msessions\u001b[0m\u001b[0;34m.\u001b[0m\u001b[0mSession\u001b[0m\u001b[0;34m(\u001b[0m\u001b[0;34m)\u001b[0m \u001b[0;32mas\u001b[0m \u001b[0msession\u001b[0m\u001b[0;34m:\u001b[0m\u001b[0;34m\u001b[0m\u001b[0;34m\u001b[0m\u001b[0m\n\u001b[0;32m---> 61\u001b[0;31m         \u001b[0;32mreturn\u001b[0m \u001b[0msession\u001b[0m\u001b[0;34m.\u001b[0m\u001b[0mrequest\u001b[0m\u001b[0;34m(\u001b[0m\u001b[0mmethod\u001b[0m\u001b[0;34m=\u001b[0m\u001b[0mmethod\u001b[0m\u001b[0;34m,\u001b[0m \u001b[0murl\u001b[0m\u001b[0;34m=\u001b[0m\u001b[0murl\u001b[0m\u001b[0;34m,\u001b[0m \u001b[0;34m**\u001b[0m\u001b[0mkwargs\u001b[0m\u001b[0;34m)\u001b[0m\u001b[0;34m\u001b[0m\u001b[0;34m\u001b[0m\u001b[0m\n\u001b[0m\u001b[1;32m     62\u001b[0m \u001b[0;34m\u001b[0m\u001b[0m\n\u001b[1;32m     63\u001b[0m \u001b[0;34m\u001b[0m\u001b[0m\n",
      "\u001b[0;32m~/anaconda3/lib/python3.8/site-packages/requests/sessions.py\u001b[0m in \u001b[0;36mrequest\u001b[0;34m(self, method, url, params, data, headers, cookies, files, auth, timeout, allow_redirects, proxies, hooks, stream, verify, cert, json)\u001b[0m\n\u001b[1;32m    540\u001b[0m         }\n\u001b[1;32m    541\u001b[0m         \u001b[0msend_kwargs\u001b[0m\u001b[0;34m.\u001b[0m\u001b[0mupdate\u001b[0m\u001b[0;34m(\u001b[0m\u001b[0msettings\u001b[0m\u001b[0;34m)\u001b[0m\u001b[0;34m\u001b[0m\u001b[0;34m\u001b[0m\u001b[0m\n\u001b[0;32m--> 542\u001b[0;31m         \u001b[0mresp\u001b[0m \u001b[0;34m=\u001b[0m \u001b[0mself\u001b[0m\u001b[0;34m.\u001b[0m\u001b[0msend\u001b[0m\u001b[0;34m(\u001b[0m\u001b[0mprep\u001b[0m\u001b[0;34m,\u001b[0m \u001b[0;34m**\u001b[0m\u001b[0msend_kwargs\u001b[0m\u001b[0;34m)\u001b[0m\u001b[0;34m\u001b[0m\u001b[0;34m\u001b[0m\u001b[0m\n\u001b[0m\u001b[1;32m    543\u001b[0m \u001b[0;34m\u001b[0m\u001b[0m\n\u001b[1;32m    544\u001b[0m         \u001b[0;32mreturn\u001b[0m \u001b[0mresp\u001b[0m\u001b[0;34m\u001b[0m\u001b[0;34m\u001b[0m\u001b[0m\n",
      "\u001b[0;32m~/anaconda3/lib/python3.8/site-packages/requests/sessions.py\u001b[0m in \u001b[0;36msend\u001b[0;34m(self, request, **kwargs)\u001b[0m\n\u001b[1;32m    653\u001b[0m \u001b[0;34m\u001b[0m\u001b[0m\n\u001b[1;32m    654\u001b[0m         \u001b[0;31m# Send the request\u001b[0m\u001b[0;34m\u001b[0m\u001b[0;34m\u001b[0m\u001b[0;34m\u001b[0m\u001b[0m\n\u001b[0;32m--> 655\u001b[0;31m         \u001b[0mr\u001b[0m \u001b[0;34m=\u001b[0m \u001b[0madapter\u001b[0m\u001b[0;34m.\u001b[0m\u001b[0msend\u001b[0m\u001b[0;34m(\u001b[0m\u001b[0mrequest\u001b[0m\u001b[0;34m,\u001b[0m \u001b[0;34m**\u001b[0m\u001b[0mkwargs\u001b[0m\u001b[0;34m)\u001b[0m\u001b[0;34m\u001b[0m\u001b[0;34m\u001b[0m\u001b[0m\n\u001b[0m\u001b[1;32m    656\u001b[0m \u001b[0;34m\u001b[0m\u001b[0m\n\u001b[1;32m    657\u001b[0m         \u001b[0;31m# Total elapsed time of the request (approximately)\u001b[0m\u001b[0;34m\u001b[0m\u001b[0;34m\u001b[0m\u001b[0;34m\u001b[0m\u001b[0m\n",
      "\u001b[0;32m~/anaconda3/lib/python3.8/site-packages/requests/adapters.py\u001b[0m in \u001b[0;36msend\u001b[0;34m(self, request, stream, timeout, verify, cert, proxies)\u001b[0m\n\u001b[1;32m    437\u001b[0m         \u001b[0;32mtry\u001b[0m\u001b[0;34m:\u001b[0m\u001b[0;34m\u001b[0m\u001b[0;34m\u001b[0m\u001b[0m\n\u001b[1;32m    438\u001b[0m             \u001b[0;32mif\u001b[0m \u001b[0;32mnot\u001b[0m \u001b[0mchunked\u001b[0m\u001b[0;34m:\u001b[0m\u001b[0;34m\u001b[0m\u001b[0;34m\u001b[0m\u001b[0m\n\u001b[0;32m--> 439\u001b[0;31m                 resp = conn.urlopen(\n\u001b[0m\u001b[1;32m    440\u001b[0m                     \u001b[0mmethod\u001b[0m\u001b[0;34m=\u001b[0m\u001b[0mrequest\u001b[0m\u001b[0;34m.\u001b[0m\u001b[0mmethod\u001b[0m\u001b[0;34m,\u001b[0m\u001b[0;34m\u001b[0m\u001b[0;34m\u001b[0m\u001b[0m\n\u001b[1;32m    441\u001b[0m                     \u001b[0murl\u001b[0m\u001b[0;34m=\u001b[0m\u001b[0murl\u001b[0m\u001b[0;34m,\u001b[0m\u001b[0;34m\u001b[0m\u001b[0;34m\u001b[0m\u001b[0m\n",
      "\u001b[0;32m~/anaconda3/lib/python3.8/site-packages/urllib3/connectionpool.py\u001b[0m in \u001b[0;36murlopen\u001b[0;34m(self, method, url, body, headers, retries, redirect, assert_same_host, timeout, pool_timeout, release_conn, chunked, body_pos, **response_kw)\u001b[0m\n\u001b[1;32m    697\u001b[0m \u001b[0;34m\u001b[0m\u001b[0m\n\u001b[1;32m    698\u001b[0m             \u001b[0;31m# Make the request on the httplib connection object.\u001b[0m\u001b[0;34m\u001b[0m\u001b[0;34m\u001b[0m\u001b[0;34m\u001b[0m\u001b[0m\n\u001b[0;32m--> 699\u001b[0;31m             httplib_response = self._make_request(\n\u001b[0m\u001b[1;32m    700\u001b[0m                 \u001b[0mconn\u001b[0m\u001b[0;34m,\u001b[0m\u001b[0;34m\u001b[0m\u001b[0;34m\u001b[0m\u001b[0m\n\u001b[1;32m    701\u001b[0m                 \u001b[0mmethod\u001b[0m\u001b[0;34m,\u001b[0m\u001b[0;34m\u001b[0m\u001b[0;34m\u001b[0m\u001b[0m\n",
      "\u001b[0;32m~/anaconda3/lib/python3.8/site-packages/urllib3/connectionpool.py\u001b[0m in \u001b[0;36m_make_request\u001b[0;34m(self, conn, method, url, timeout, chunked, **httplib_request_kw)\u001b[0m\n\u001b[1;32m    380\u001b[0m         \u001b[0;31m# Trigger any extra validation we need to do.\u001b[0m\u001b[0;34m\u001b[0m\u001b[0;34m\u001b[0m\u001b[0;34m\u001b[0m\u001b[0m\n\u001b[1;32m    381\u001b[0m         \u001b[0;32mtry\u001b[0m\u001b[0;34m:\u001b[0m\u001b[0;34m\u001b[0m\u001b[0;34m\u001b[0m\u001b[0m\n\u001b[0;32m--> 382\u001b[0;31m             \u001b[0mself\u001b[0m\u001b[0;34m.\u001b[0m\u001b[0m_validate_conn\u001b[0m\u001b[0;34m(\u001b[0m\u001b[0mconn\u001b[0m\u001b[0;34m)\u001b[0m\u001b[0;34m\u001b[0m\u001b[0;34m\u001b[0m\u001b[0m\n\u001b[0m\u001b[1;32m    383\u001b[0m         \u001b[0;32mexcept\u001b[0m \u001b[0;34m(\u001b[0m\u001b[0mSocketTimeout\u001b[0m\u001b[0;34m,\u001b[0m \u001b[0mBaseSSLError\u001b[0m\u001b[0;34m)\u001b[0m \u001b[0;32mas\u001b[0m \u001b[0me\u001b[0m\u001b[0;34m:\u001b[0m\u001b[0;34m\u001b[0m\u001b[0;34m\u001b[0m\u001b[0m\n\u001b[1;32m    384\u001b[0m             \u001b[0;31m# Py2 raises this as a BaseSSLError, Py3 raises it as socket timeout.\u001b[0m\u001b[0;34m\u001b[0m\u001b[0;34m\u001b[0m\u001b[0;34m\u001b[0m\u001b[0m\n",
      "\u001b[0;32m~/anaconda3/lib/python3.8/site-packages/urllib3/connectionpool.py\u001b[0m in \u001b[0;36m_validate_conn\u001b[0;34m(self, conn)\u001b[0m\n\u001b[1;32m   1008\u001b[0m         \u001b[0;31m# Force connect early to allow us to validate the connection.\u001b[0m\u001b[0;34m\u001b[0m\u001b[0;34m\u001b[0m\u001b[0;34m\u001b[0m\u001b[0m\n\u001b[1;32m   1009\u001b[0m         \u001b[0;32mif\u001b[0m \u001b[0;32mnot\u001b[0m \u001b[0mgetattr\u001b[0m\u001b[0;34m(\u001b[0m\u001b[0mconn\u001b[0m\u001b[0;34m,\u001b[0m \u001b[0;34m\"sock\"\u001b[0m\u001b[0;34m,\u001b[0m \u001b[0;32mNone\u001b[0m\u001b[0;34m)\u001b[0m\u001b[0;34m:\u001b[0m  \u001b[0;31m# AppEngine might not have  `.sock`\u001b[0m\u001b[0;34m\u001b[0m\u001b[0;34m\u001b[0m\u001b[0m\n\u001b[0;32m-> 1010\u001b[0;31m             \u001b[0mconn\u001b[0m\u001b[0;34m.\u001b[0m\u001b[0mconnect\u001b[0m\u001b[0;34m(\u001b[0m\u001b[0;34m)\u001b[0m\u001b[0;34m\u001b[0m\u001b[0;34m\u001b[0m\u001b[0m\n\u001b[0m\u001b[1;32m   1011\u001b[0m \u001b[0;34m\u001b[0m\u001b[0m\n\u001b[1;32m   1012\u001b[0m         \u001b[0;32mif\u001b[0m \u001b[0;32mnot\u001b[0m \u001b[0mconn\u001b[0m\u001b[0;34m.\u001b[0m\u001b[0mis_verified\u001b[0m\u001b[0;34m:\u001b[0m\u001b[0;34m\u001b[0m\u001b[0;34m\u001b[0m\u001b[0m\n",
      "\u001b[0;32m~/anaconda3/lib/python3.8/site-packages/urllib3/connection.py\u001b[0m in \u001b[0;36mconnect\u001b[0;34m(self)\u001b[0m\n\u001b[1;32m    351\u001b[0m     \u001b[0;32mdef\u001b[0m \u001b[0mconnect\u001b[0m\u001b[0;34m(\u001b[0m\u001b[0mself\u001b[0m\u001b[0;34m)\u001b[0m\u001b[0;34m:\u001b[0m\u001b[0;34m\u001b[0m\u001b[0;34m\u001b[0m\u001b[0m\n\u001b[1;32m    352\u001b[0m         \u001b[0;31m# Add certificate verification\u001b[0m\u001b[0;34m\u001b[0m\u001b[0;34m\u001b[0m\u001b[0;34m\u001b[0m\u001b[0m\n\u001b[0;32m--> 353\u001b[0;31m         \u001b[0mconn\u001b[0m \u001b[0;34m=\u001b[0m \u001b[0mself\u001b[0m\u001b[0;34m.\u001b[0m\u001b[0m_new_conn\u001b[0m\u001b[0;34m(\u001b[0m\u001b[0;34m)\u001b[0m\u001b[0;34m\u001b[0m\u001b[0;34m\u001b[0m\u001b[0m\n\u001b[0m\u001b[1;32m    354\u001b[0m         \u001b[0mhostname\u001b[0m \u001b[0;34m=\u001b[0m \u001b[0mself\u001b[0m\u001b[0;34m.\u001b[0m\u001b[0mhost\u001b[0m\u001b[0;34m\u001b[0m\u001b[0;34m\u001b[0m\u001b[0m\n\u001b[1;32m    355\u001b[0m         \u001b[0mtls_in_tls\u001b[0m \u001b[0;34m=\u001b[0m \u001b[0;32mFalse\u001b[0m\u001b[0;34m\u001b[0m\u001b[0;34m\u001b[0m\u001b[0m\n",
      "\u001b[0;32m~/anaconda3/lib/python3.8/site-packages/urllib3/connection.py\u001b[0m in \u001b[0;36m_new_conn\u001b[0;34m(self)\u001b[0m\n\u001b[1;32m    167\u001b[0m \u001b[0;34m\u001b[0m\u001b[0m\n\u001b[1;32m    168\u001b[0m         \u001b[0;32mtry\u001b[0m\u001b[0;34m:\u001b[0m\u001b[0;34m\u001b[0m\u001b[0;34m\u001b[0m\u001b[0m\n\u001b[0;32m--> 169\u001b[0;31m             conn = connection.create_connection(\n\u001b[0m\u001b[1;32m    170\u001b[0m                 \u001b[0;34m(\u001b[0m\u001b[0mself\u001b[0m\u001b[0;34m.\u001b[0m\u001b[0m_dns_host\u001b[0m\u001b[0;34m,\u001b[0m \u001b[0mself\u001b[0m\u001b[0;34m.\u001b[0m\u001b[0mport\u001b[0m\u001b[0;34m)\u001b[0m\u001b[0;34m,\u001b[0m \u001b[0mself\u001b[0m\u001b[0;34m.\u001b[0m\u001b[0mtimeout\u001b[0m\u001b[0;34m,\u001b[0m \u001b[0;34m**\u001b[0m\u001b[0mextra_kw\u001b[0m\u001b[0;34m\u001b[0m\u001b[0;34m\u001b[0m\u001b[0m\n\u001b[1;32m    171\u001b[0m             )\n",
      "\u001b[0;32m~/anaconda3/lib/python3.8/site-packages/urllib3/util/connection.py\u001b[0m in \u001b[0;36mcreate_connection\u001b[0;34m(address, timeout, source_address, socket_options)\u001b[0m\n\u001b[1;32m     84\u001b[0m             \u001b[0;32mif\u001b[0m \u001b[0msource_address\u001b[0m\u001b[0;34m:\u001b[0m\u001b[0;34m\u001b[0m\u001b[0;34m\u001b[0m\u001b[0m\n\u001b[1;32m     85\u001b[0m                 \u001b[0msock\u001b[0m\u001b[0;34m.\u001b[0m\u001b[0mbind\u001b[0m\u001b[0;34m(\u001b[0m\u001b[0msource_address\u001b[0m\u001b[0;34m)\u001b[0m\u001b[0;34m\u001b[0m\u001b[0;34m\u001b[0m\u001b[0m\n\u001b[0;32m---> 86\u001b[0;31m             \u001b[0msock\u001b[0m\u001b[0;34m.\u001b[0m\u001b[0mconnect\u001b[0m\u001b[0;34m(\u001b[0m\u001b[0msa\u001b[0m\u001b[0;34m)\u001b[0m\u001b[0;34m\u001b[0m\u001b[0;34m\u001b[0m\u001b[0m\n\u001b[0m\u001b[1;32m     87\u001b[0m             \u001b[0;32mreturn\u001b[0m \u001b[0msock\u001b[0m\u001b[0;34m\u001b[0m\u001b[0;34m\u001b[0m\u001b[0m\n\u001b[1;32m     88\u001b[0m \u001b[0;34m\u001b[0m\u001b[0m\n",
      "\u001b[0;31mKeyboardInterrupt\u001b[0m: "
     ]
    }
   ],
   "source": [
    "matching_recs = {'dir':[],'seg_name':[],'length':[]}\n",
    "for record in records:\n",
    "    print('Record: {}'.format(record), end=\"\", flush=True)\n",
    "    record_dir = f'{database_name}/{record.parent}'\n",
    "    record_name = record.name\n",
    "    print(' (reading data)')\n",
    "    record_data = wfdb.rdheader(record_name, pn_dir=record_dir, rd_segments=True)\n",
    "    # Get the segments for the record\n",
    "    segments = record_data.seg_name\n",
    "    # First check to see if the segment is 10 min long, if not move onto the next one\n",
    "    gen = (segment for segment in segments if segment != '~')\n",
    "    for segment in gen:\n",
    "        print(' - Segment: {}'.format(segment), end=\"\", flush=True)\n",
    "        segment_metadata = wfdb.rdheader(record_name=segment, pn_dir=record_dir)\n",
    "        seg_length = segment_metadata.sig_len/(segment_metadata.fs)\n",
    "        if seg_length < req_seg_duration:\n",
    "            print(' (too short at {:.1f} mins)'.format(seg_length/60))\n",
    "            continue\n",
    "        # Next check that all required signals are present in the segment\n",
    "        sigs_present = segment_metadata.sig_name\n",
    "        \n",
    "        if all(x in sigs_present for x in required_sigs):\n",
    "            matching_recs['dir'].append(record_dir)\n",
    "            matching_recs['seg_name'].append(segment)\n",
    "            matching_recs['length'].append(seg_length)\n",
    "            print(' (met requirements)')\n",
    "            # Since we only need one segment per record break out of loop\n",
    "            break\n",
    "        else:\n",
    "            print(' (long enough, but missing signal(s))')\n",
    "\n",
    "print(\"A total of {} records met the requirements\".format(len(matching_recs['dir'])))\n",
    "#df_matching_recs = pd.DataFrame(data=matching_recs)\n",
    "#df_matching_recs.to_csv('matching_records.csv', index=False)\n",
    "#p=1"
   ]
  },
  {
   "cell_type": "code",
   "execution_count": null,
   "id": "abba6ac7",
   "metadata": {},
   "outputs": [],
   "source": []
  }
 ],
 "metadata": {
  "kernelspec": {
   "display_name": "Python 3",
   "language": "python",
   "name": "python3"
  },
  "language_info": {
   "codemirror_mode": {
    "name": "ipython",
    "version": 3
   },
   "file_extension": ".py",
   "mimetype": "text/x-python",
   "name": "python",
   "nbconvert_exporter": "python",
   "pygments_lexer": "ipython3",
   "version": "3.8.8"
  },
  "toc": {
   "base_numbering": 1,
   "nav_menu": {},
   "number_sections": true,
   "sideBar": true,
   "skip_h1_title": true,
   "title_cell": "Table of Contents",
   "title_sidebar": "Contents",
   "toc_cell": false,
   "toc_position": {
    "height": "calc(100% - 180px)",
    "left": "10px",
    "top": "150px",
    "width": "306px"
   },
   "toc_section_display": true,
   "toc_window_display": true
  }
 },
 "nbformat": 4,
 "nbformat_minor": 5
}
