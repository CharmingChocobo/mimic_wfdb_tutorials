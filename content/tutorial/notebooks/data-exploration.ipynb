{
 "cells": [
  {
   "cell_type": "markdown",
   "id": "5d037743",
   "metadata": {},
   "source": [
    "# Data Exploration\n",
    "\n",
    "Exploring MIMIC waveform data.\n",
    "\n",
    "---\n",
    "\n",
    "## Identify ICU stays\n",
    "\n",
    "Identify the ICU stays in the [MIMIC III Waveform Database](https://doi.org/10.13026/c2607m)\n",
    "\n",
    "### Specify the required Python packages\n",
    "- The WFDB package is imported using `import wfdb`"
   ]
  },
  {
   "cell_type": "code",
   "execution_count": 113,
   "id": "ce3cdfde",
   "metadata": {},
   "outputs": [],
   "source": [
    "# Setup\n",
    "import sys\n",
    "import wfdb # The WFDB Toolbox"
   ]
  },
  {
   "cell_type": "markdown",
   "id": "e11ce5b6",
   "metadata": {},
   "source": [
    "<div class=\"alert alert-block alert-warning\"> <b>Resource:</b> You can find out more about the WFDB package <a href=\"https://physionet.org/content/wfdb-python/3.4.1/\">here</a>. </div>"
   ]
  },
  {
   "cell_type": "markdown",
   "id": "b476f9b7",
   "metadata": {},
   "source": [
    "### Get a list of ICU stays in the database\n",
    "- Use the [`get_record_list`](https://wfdb.readthedocs.io/en/latest/io.html#wfdb.io.get_record_list) function from the WFDB toolbox to get a list of ICU stays (here, corresponding to records) in the database."
   ]
  },
  {
   "cell_type": "code",
   "execution_count": 114,
   "id": "e2d42258",
   "metadata": {},
   "outputs": [
    {
     "name": "stdout",
     "output_type": "stream",
     "text": [
      "Done: Loaded list of 67830 ICU stays for 'mimic3wdb/1.0' database\n"
     ]
    }
   ],
   "source": [
    "database_name = 'mimic3wdb/1.0' # The name of the MIMIC III Waveform Database on Physionet (see URL: https://physionet.org/content/mimic3wdb/1.0/)\n",
    "icustay_records = wfdb.get_record_list(database_name)\n",
    "print(\"Done: Loaded list of {} ICU stays for '{}' database\".format(len(icustay_records), database_name))"
   ]
  },
  {
   "cell_type": "markdown",
   "id": "29552f5a",
   "metadata": {},
   "source": [
    "- Display the first few records"
   ]
  },
  {
   "cell_type": "code",
   "execution_count": 115,
   "id": "bb5745a7",
   "metadata": {},
   "outputs": [
    {
     "name": "stdout",
     "output_type": "stream",
     "text": [
      "First five ICU stays: ['30/3000003/', '30/3000031/', '30/3000051/', '30/3000060/', '30/3000063/']\n"
     ]
    }
   ],
   "source": [
    "print(\"First five ICU stays: {}\".format(icustay_records[0:5]))"
   ]
  },
  {
   "cell_type": "markdown",
   "id": "30b96273",
   "metadata": {},
   "source": [
    "Note the formatting of these records: each starts with an intermediate directory (\"30\" in this case), followed by a record directory."
   ]
  },
  {
   "cell_type": "markdown",
   "id": "b56c29d5",
   "metadata": {},
   "source": [
    "<div class=\"alert alert-block alert-info\"> <b>Q:</b> Can you print the names of the last five ICU stays? <br> <b>Hint:</b> in Python, the last five elements can be specified using '[-5:]' </div>"
   ]
  },
  {
   "cell_type": "markdown",
   "id": "cb21a93b",
   "metadata": {},
   "source": [
    "---\n",
    "## Extract metadata for an ICU stay"
   ]
  },
  {
   "cell_type": "markdown",
   "id": "c39dc9f3",
   "metadata": {},
   "source": [
    "Each ICU stay contains metadata stored in a header file, named \"\\<ICU stay record name\\>.hea\""
   ]
  },
  {
   "cell_type": "markdown",
   "id": "3b2e6adb",
   "metadata": {},
   "source": [
    "### Specify the online directory containing an ICU stay's data"
   ]
  },
  {
   "cell_type": "markdown",
   "id": "fb396d96",
   "metadata": {},
   "source": [
    "In this case, each ICU stay corresponds to a record."
   ]
  },
  {
   "cell_type": "code",
   "execution_count": 116,
   "id": "86eed39f",
   "metadata": {},
   "outputs": [
    {
     "name": "stdout",
     "output_type": "stream",
     "text": [
      "Physionet directory specified for this ICU stay: mimic3wdb/1.0/30/3000003/\n"
     ]
    }
   ],
   "source": [
    "icustay_no = 0 # specify the first record (noting that in Python the first index is 0)\n",
    "icustay_record = icustay_records[icustay_no]\n",
    "icustay_record_dir = database_name + '/' + icustay_record\n",
    "print(\"Physionet directory specified for this ICU stay: {}\".format(icustay_record_dir))"
   ]
  },
  {
   "cell_type": "markdown",
   "id": "b5220ad3",
   "metadata": {},
   "source": [
    "### Specify the name of the ICU stay"
   ]
  },
  {
   "cell_type": "markdown",
   "id": "d7a5bbef",
   "metadata": {},
   "source": [
    "Extract the ICU stay record name (e.g. '3000003') from the ICU stay record (e.g. '30/300003'):"
   ]
  },
  {
   "cell_type": "code",
   "execution_count": 117,
   "id": "b4bc247b",
   "metadata": {},
   "outputs": [
    {
     "name": "stdout",
     "output_type": "stream",
     "text": [
      "ICU stay name: 3000003\n"
     ]
    }
   ],
   "source": [
    "icustay_record_name = icustay_record.split(\"/\")[1]\n",
    "print(\"ICU stay name: {}\".format(icustay_record_name))"
   ]
  },
  {
   "cell_type": "markdown",
   "id": "742071da",
   "metadata": {},
   "source": [
    "### Load the metadata for this ICU stay\n",
    "- Use the [`rdheader`](https://wfdb.readthedocs.io/en/latest/io.html#wfdb.io.rdheader) function from the WFDB toolbox to load metadata from the record header file"
   ]
  },
  {
   "cell_type": "code",
   "execution_count": 118,
   "id": "c5a0afc5",
   "metadata": {},
   "outputs": [
    {
     "name": "stdout",
     "output_type": "stream",
     "text": [
      "Done: metadata loaded for ICU stay '3000003' from header file at URL: https://physionet.org/content/mimic3wdb/1.0/30/3000003/3000003.hea\n"
     ]
    }
   ],
   "source": [
    "icustay_record_data = wfdb.rdheader(icustay_record_name, pn_dir=icustay_record_dir, rd_segments=False)\n",
    "print(\"Done: metadata loaded for ICU stay '{}' from header file at URL: {}\".format(icustay_record_name, \"https://physionet.org/content/\" + record_dir + record_name + \".hea\"))"
   ]
  },
  {
   "cell_type": "markdown",
   "id": "f7a4d25d",
   "metadata": {},
   "source": [
    "---\n",
    "## Inspect details of physiological signals recorded in this ICU stay\n",
    "- Printing a few details of the signals from the extracted metadata"
   ]
  },
  {
   "cell_type": "code",
   "execution_count": 119,
   "id": "58630149",
   "metadata": {},
   "outputs": [
    {
     "name": "stdout",
     "output_type": "stream",
     "text": [
      "- Number of signals: 2\n",
      "- Duration: 0.0 hours\n",
      "- Sampling frequency: 125 Hz\n"
     ]
    }
   ],
   "source": [
    "print(\"- Number of signals: {}\".format(record_data.n_sig))\n",
    "print(\"- Duration: {:.1f} hours\".format(record_data.sig_len/(record_data.fs*60*60))) \n",
    "print(\"- Sampling frequency: {} Hz\".format(record_data.fs))"
   ]
  },
  {
   "cell_type": "markdown",
   "id": "79df2f77",
   "metadata": {},
   "source": [
    "Note that:\n",
    "- Not all signals may be present throughout the duration of the record\n",
    "- All signals in MIMIC are sampled at 125 Hz."
   ]
  },
  {
   "cell_type": "markdown",
   "id": "7b3da17f",
   "metadata": {},
   "source": [
    "---\n",
    "## Inspect the segments making up an ICU stay\n",
    "Each ICU stay is typically made up of several segments (which correspond to records)\n",
    "\n",
    "- Inspect the files in this ICU stay"
   ]
  },
  {
   "cell_type": "code",
   "execution_count": 120,
   "id": "a93390d0",
   "metadata": {},
   "outputs": [
    {
     "name": "stdout",
     "output_type": "stream",
     "text": [
      "Done: Loaded list of 19 files for 'mimic3wdb/1.0/30/3000003/' ICU stay\n"
     ]
    }
   ],
   "source": [
    "icustay_files = wfdb.get_record_list(icustay_record_dir)\n",
    "print(\"Done: Loaded list of {} files for '{}' ICU stay\".format(len(icustay_files), icustay_record_dir))"
   ]
  },
  {
   "cell_type": "markdown",
   "id": "f8aae993",
   "metadata": {},
   "source": [
    "Inspect the contents of the first two files:"
   ]
  },
  {
   "cell_type": "code",
   "execution_count": 121,
   "id": "298e87ff",
   "metadata": {},
   "outputs": [
    {
     "name": "stdout",
     "output_type": "stream",
     "text": [
      "The first file, '3000003', contains the metadata for the ICU stay.\n",
      "The second file, '3000003n', contains the numerics data for the ICU stay.\n"
     ]
    }
   ],
   "source": [
    "print(\"The first file, '{}', contains the metadata for the ICU stay.\".format(icustay_files[0]) )\n",
    "print(\"The second file, '{}', contains the numerics data for the ICU stay.\".format(icustay_files[1]) )"
   ]
  },
  {
   "cell_type": "markdown",
   "id": "0f57f512",
   "metadata": {},
   "source": [
    "The remaining files contain the waveform data for the ICU stay, split into segments, with one file per segment."
   ]
  },
  {
   "cell_type": "code",
   "execution_count": 122,
   "id": "b127c857",
   "metadata": {},
   "outputs": [
    {
     "name": "stdout",
     "output_type": "stream",
     "text": [
      "The remaining 17 files: ['3000003_0001', '3000003_0002', '3000003_0003', '3000003_0004', '3000003_0005', '3000003_0006', '3000003_0007', '3000003_0008', '3000003_0009', '3000003_0010', '3000003_0011', '3000003_0012', '3000003_0013', '3000003_0014', '3000003_0015', '3000003_0016', '3000003_0017']\n"
     ]
    }
   ],
   "source": [
    "icustay_segments = [s for s in icustay_files if \"_\" in s]\n",
    "print(\"The remaining {} files: {}\".format(len(icustay_segments), icustay_segments) )"
   ]
  },
  {
   "cell_type": "markdown",
   "id": "b379eaaf",
   "metadata": {},
   "source": [
    "Note the format of the names of the files containing waveform data for each segment: record directory, \"_\", segment number"
   ]
  },
  {
   "cell_type": "markdown",
   "id": "f19d231b",
   "metadata": {},
   "source": [
    "---\n",
    "## Inspect an individual segment\n",
    "### Read the metadata for this segment\n",
    "- Read the metadata from the header file"
   ]
  },
  {
   "cell_type": "code",
   "execution_count": 123,
   "id": "7f70d34f",
   "metadata": {},
   "outputs": [
    {
     "name": "stdout",
     "output_type": "stream",
     "text": [
      "Header metadata loaded for segment '3000003_0001' in ICU stay '3000003'\n"
     ]
    }
   ],
   "source": [
    "segment_name = icustay_segments[0]\n",
    "segment_metadata = wfdb.rdheader(record_name=segment_name, pn_dir=icustay_record_dir) \n",
    "print(\"Header metadata loaded for segment '{}' in ICU stay '{}'\".format(segment_name, icustay_record_name))"
   ]
  },
  {
   "cell_type": "markdown",
   "id": "d28771ac",
   "metadata": {},
   "source": [
    "### Find out what signals are present, and for how long"
   ]
  },
  {
   "cell_type": "code",
   "execution_count": 124,
   "id": "324727df",
   "metadata": {},
   "outputs": [
    {
     "name": "stdout",
     "output_type": "stream",
     "text": [
      "This segment contains the following signals: ['II', 'V']\n",
      "The signals are measured in units of: ['mV', 'mV']\n"
     ]
    }
   ],
   "source": [
    "print(\"This segment contains the following signals: {}\".format(segment_metadata.sig_name))\n",
    "print(\"The signals are measured in units of: {}\".format(segment_metadata.units))"
   ]
  },
  {
   "cell_type": "markdown",
   "id": "f09b3f37",
   "metadata": {},
   "source": [
    "See [here](https://archive.physionet.org/mimic2/mimic2_waveform_overview.shtml#signals-125-samplessecond) for definitions of signal abbreviations."
   ]
  },
  {
   "cell_type": "markdown",
   "id": "3f56dd61",
   "metadata": {},
   "source": [
    "<div class=\"alert alert-block alert-info\"> <b>Q:</b> Which of these signals is still present in segment '3000003_0014'? </div>"
   ]
  },
  {
   "cell_type": "markdown",
   "id": "d217b764",
   "metadata": {},
   "source": [
    "All signals in a segment are time-aligned, measured at the same sampling frequency, and last the same duration:"
   ]
  },
  {
   "cell_type": "code",
   "execution_count": 125,
   "id": "c44f00a7",
   "metadata": {},
   "outputs": [
    {
     "name": "stdout",
     "output_type": "stream",
     "text": [
      "All the signals are sampled at 125 Hz\n",
      "and they last for 2.3 minutes\n"
     ]
    }
   ],
   "source": [
    "print(\"All the signals are sampled at {} Hz\".format(segment_metadata.fs))\n",
    "print(\"and they last for {:.1f} minutes\".format(segment_metadata.sig_len/(segment_metadata.fs*60)) )"
   ]
  }
 ],
 "metadata": {
  "kernelspec": {
   "display_name": "Python 3",
   "language": "python",
   "name": "python3"
  },
  "language_info": {
   "codemirror_mode": {
    "name": "ipython",
    "version": 3
   },
   "file_extension": ".py",
   "mimetype": "text/x-python",
   "name": "python",
   "nbconvert_exporter": "python",
   "pygments_lexer": "ipython3",
   "version": "3.8.8"
  },
  "toc": {
   "base_numbering": 1,
   "nav_menu": {},
   "number_sections": true,
   "sideBar": true,
   "skip_h1_title": false,
   "title_cell": "Table of Contents",
   "title_sidebar": "Contents",
   "toc_cell": false,
   "toc_position": {},
   "toc_section_display": true,
   "toc_window_display": false
  }
 },
 "nbformat": 4,
 "nbformat_minor": 5
}
