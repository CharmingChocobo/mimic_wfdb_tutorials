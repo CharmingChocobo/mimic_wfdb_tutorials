{
 "cells": [
  {
   "cell_type": "markdown",
   "id": "5d037743",
   "metadata": {},
   "source": [
    "# Differentiating the PPG signal\n",
    "Differentiating the PPG signal is a key step in identifying fiducial points on PPG pulse waves."
   ]
  },
  {
   "cell_type": "markdown",
   "id": "1afcdef9",
   "metadata": {},
   "source": [
    "---\n",
    "## Specify an ICU stay and segment\n",
    "\n",
    "<div class=\"alert alert-block alert-warning\"> <b>Resource:</b> These steps are taken from the <a href=\"https://wfdb.io/mimic_wfdb_tutorials/tutorial/notebooks/data-visualisation.html\">Data Visualisation</a> tutorial. </div>"
   ]
  },
  {
   "cell_type": "markdown",
   "id": "edd8e0c5",
   "metadata": {},
   "source": [
    "- Specify the required Python packages"
   ]
  },
  {
   "cell_type": "code",
   "execution_count": 1,
   "id": "ce3cdfde",
   "metadata": {},
   "outputs": [],
   "source": [
    "import sys\n",
    "import wfdb"
   ]
  },
  {
   "cell_type": "markdown",
   "id": "61a223f7",
   "metadata": {},
   "source": [
    "- Get a list of ICU stays in the database"
   ]
  },
  {
   "cell_type": "code",
   "execution_count": 2,
   "id": "ee8532b2",
   "metadata": {},
   "outputs": [
    {
     "name": "stdout",
     "output_type": "stream",
     "text": [
      "There are 67830 ICU stays in the database\n"
     ]
    }
   ],
   "source": [
    "database_name = 'mimic3wdb/1.0' # The name of the MIMIC III Waveform Database on Physionet (see URL: https://physionet.org/content/mimic3wdb/1.0/)\n",
    "icustay_records = wfdb.get_record_list(database_name)\n",
    "print(\"There are {} ICU stays in the database\".format(len(icustay_records)))"
   ]
  },
  {
   "cell_type": "markdown",
   "id": "61a9432c",
   "metadata": {},
   "source": [
    "- Specify an ICU stay"
   ]
  },
  {
   "cell_type": "code",
   "execution_count": 49,
   "id": "bb5745a7",
   "metadata": {},
   "outputs": [
    {
     "name": "stdout",
     "output_type": "stream",
     "text": [
      "Specified ICU stay: 3000125\n"
     ]
    }
   ],
   "source": [
    "icustay_no = 10 # specify the first record (noting that in Python the first index is 0)\n",
    "icustay_record = icustay_records[icustay_no]\n",
    "icustay_record_dir = database_name + '/' + icustay_record\n",
    "icustay_record_name = icustay_record.split(\"/\")[1]\n",
    "print(\"Specified ICU stay: {}\".format(icustay_record_name))"
   ]
  },
  {
   "cell_type": "markdown",
   "id": "8ed55718",
   "metadata": {},
   "source": [
    "- Specify a segment of this ICU stay"
   ]
  },
  {
   "cell_type": "code",
   "execution_count": 54,
   "id": "7dbf9e3a",
   "metadata": {},
   "outputs": [
    {
     "name": "stdout",
     "output_type": "stream",
     "text": [
      "Specified segment: '3000125_0005' within ICU stay '3000125'\n"
     ]
    }
   ],
   "source": [
    "icustay_files = wfdb.get_record_list(icustay_record_dir)\n",
    "icustay_segments = [s for s in icustay_files if \"_\" in s]\n",
    "icustay_segment_no = 4;\n",
    "icustay_segment_name = icustay_segments[icustay_segment_no]\n",
    "print(\"Specified segment: '{}' within ICU stay '{}'\".format(icustay_segment_name, icustay_record_name))"
   ]
  },
  {
   "cell_type": "markdown",
   "id": "fda3cdf7",
   "metadata": {},
   "source": [
    "---\n",
    "## Extract data for this segment\n",
    "<div class=\"alert alert-block alert-warning\"> <b>Resource:</b> These steps are taken from the <a href=\"https://wfdb.io/mimic_wfdb_tutorials/tutorial/notebooks/data-visualisation.html\">Data Visualisation</a> tutorial. </div>"
   ]
  },
  {
   "cell_type": "markdown",
   "id": "47a63ea6",
   "metadata": {},
   "source": [
    "- Specify the timings of the data to be extracted"
   ]
  },
  {
   "cell_type": "code",
   "execution_count": 55,
   "id": "75fd6b99",
   "metadata": {},
   "outputs": [],
   "source": [
    "start_seconds = 60 # time since the start of the segment at which to begin extracting data\n",
    "no_seconds_to_load = 5"
   ]
  },
  {
   "cell_type": "markdown",
   "id": "bb71616e",
   "metadata": {},
   "source": [
    "- Find out the sampling frequency of the waveform data"
   ]
  },
  {
   "cell_type": "code",
   "execution_count": 56,
   "id": "ac21feb2",
   "metadata": {},
   "outputs": [],
   "source": [
    "segment_metadata = wfdb.rdheader(record_name=icustay_segment_name, pn_dir=icustay_record_dir)\n",
    "fs = segment_metadata.fs"
   ]
  },
  {
   "cell_type": "markdown",
   "id": "cd93e67f",
   "metadata": {},
   "source": [
    "- Extract the specified data"
   ]
  },
  {
   "cell_type": "code",
   "execution_count": 57,
   "id": "8626ebac",
   "metadata": {},
   "outputs": [
    {
     "name": "stdout",
     "output_type": "stream",
     "text": [
      "5 seconds of data extracted from: 3000125_0005\n"
     ]
    }
   ],
   "source": [
    "sampfrom = fs*start_seconds\n",
    "sampto = fs*(start_seconds+no_seconds_to_load)\n",
    "segment_data = wfdb.rdrecord(record_name=icustay_segment_name, sampfrom=sampfrom, sampto=sampto, pn_dir=icustay_record_dir) \n",
    "print(\"{} seconds of data extracted from: {}\".format(no_seconds_to_load, icustay_segment_name))"
   ]
  },
  {
   "cell_type": "markdown",
   "id": "89e538fb",
   "metadata": {},
   "source": [
    "---\n",
    "## Differentiate the PPG signal"
   ]
  },
  {
   "cell_type": "markdown",
   "id": "ff1705e5",
   "metadata": {},
   "source": [
    "- Extract the PPG signal"
   ]
  },
  {
   "cell_type": "code",
   "execution_count": 115,
   "id": "cea96b6f",
   "metadata": {},
   "outputs": [],
   "source": [
    "ppg = segment_data.p_signal[:,2]"
   ]
  },
  {
   "cell_type": "markdown",
   "id": "4c17b93f",
   "metadata": {},
   "source": [
    "- Differentiate it once and twice using the [Savitzky-Golay filtering](https://docs.scipy.org/doc/scipy/reference/generated/scipy.signal.savgol_filter.html) function in SciPy"
   ]
  },
  {
   "cell_type": "code",
   "execution_count": 139,
   "id": "351342c9",
   "metadata": {},
   "outputs": [],
   "source": [
    "from scipy.signal import savgol_filter\n",
    "d1ppg = savgol_filter(ppg, 9, 5, deriv=1) # Calculate first derivative\n",
    "d2ppg = savgol_filter(ppg, 9, 5, deriv=2) # Calculate second derivative"
   ]
  },
  {
   "cell_type": "markdown",
   "id": "20a17e39",
   "metadata": {},
   "source": [
    "---\n",
    "## Plot the PPG and its derivatives"
   ]
  },
  {
   "cell_type": "code",
   "execution_count": 140,
   "id": "f7cc2de0",
   "metadata": {},
   "outputs": [],
   "source": [
    "from matplotlib import pyplot as plt\n",
    "import numpy as np"
   ]
  },
  {
   "cell_type": "code",
   "execution_count": 141,
   "id": "62850216",
   "metadata": {},
   "outputs": [
    {
     "data": {
      "image/png": "[encoded data removed]",
      "text/plain": [
       "<Figure size 432x288 with 3 Axes>"
      ]
     },
     "metadata": {
      "needs_background": "light"
     },
     "output_type": "display_data"
    }
   ],
   "source": [
    "t = np.arange(0, len(ppg))/segment_data.fs\n",
    "fig, (ax1,ax2,ax3) = plt.subplots(3, 1, sharex = True, sharey = False)\n",
    "ax1.plot(t, ppg)\n",
    "ax1.set(xlabel = '', ylabel = 'PPG')\n",
    "plt.suptitle('The PPG signal and its first and second derivatives')\n",
    "ax2.plot(t, d1ppg)\n",
    "ax2.set(xlabel = '', ylabel = 'PPG\\'')\n",
    "ax3.plot(t, d2ppg)\n",
    "ax3.set(xlabel = 'Time (s)', ylabel = 'PPG\\'\\'')\n",
    "plt.show()"
   ]
  },
  {
   "cell_type": "markdown",
   "id": "0c9c2648",
   "metadata": {},
   "source": [
    "# Suggestions for future work\n",
    "I'd suggest we use a similar approach to that used in the Matlab function [PulseAnalyse](https://peterhcharlton.github.io/pulse-analyse/):\n",
    "- Savitzky-Golay filtering, as described in [this article](https://doi.org/0.1021/ac60214a047).\n",
    "- The coefficients for using Savitzky-Golay filtering to obtain derivatives are provided in the 'savitzky_golay' function within PulseAnalyse (see line 2294 [here](https://github.com/peterhcharlton/pulse-analyse/blob/master/pulse-analyse_v.1.3beta/PulseAnalyse.m))."
   ]
  },
  {
   "cell_type": "code",
   "execution_count": null,
   "id": "296de215",
   "metadata": {},
   "outputs": [],
   "source": []
  }
 ],
 "metadata": {
  "kernelspec": {
   "display_name": "Python 3",
   "language": "python",
   "name": "python3"
  },
  "language_info": {
   "codemirror_mode": {
    "name": "ipython",
    "version": 3
   },
   "file_extension": ".py",
   "mimetype": "text/x-python",
   "name": "python",
   "nbconvert_exporter": "python",
   "pygments_lexer": "ipython3",
   "version": "3.8.8"
  },
  "toc": {
   "base_numbering": 1,
   "nav_menu": {},
   "number_sections": true,
   "sideBar": true,
   "skip_h1_title": false,
   "title_cell": "Table of Contents",
   "title_sidebar": "Contents",
   "toc_cell": false,
   "toc_position": {},
   "toc_section_display": true,
   "toc_window_display": false
  }
 },
 "nbformat": 4,
 "nbformat_minor": 5
}
