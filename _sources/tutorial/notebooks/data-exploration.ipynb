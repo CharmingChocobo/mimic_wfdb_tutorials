{
 "cells": [
  {
   "cell_type": "markdown",
   "id": "5d037743",
   "metadata": {},
   "source": [
    "# Data Exploration"
   ]
  },
  {
   "cell_type": "markdown",
   "id": "fbae8e9b",
   "metadata": {},
   "source": [
    "In this tutorial we will explore data in the MIMIC Waveform Database.\n",
    "\n",
    "The **objectives** are:\n",
    "- To gain an understanding of the structure of the MIMIC Database, consisting of subjects, studies, records, and segments.\n",
    "- To start using the WaveForm DataBase Toolbox to work with waveform data files\n",
    "- To understand how to find out what signals are present in a record or a segment, and how long they last.\n",
    "- To gain experience in searching for records which contain the signals required for a particular study."
   ]
  },
  {
   "cell_type": "markdown",
   "id": "28b8e213",
   "metadata": {},
   "source": [
    "---\n",
    "## Setup"
   ]
  },
  {
   "cell_type": "markdown",
   "id": "5dac032e",
   "metadata": {},
   "source": [
    "### Specify the required Python packages\n",
    "We'll import the following:\n",
    "- _sys_: an essential python package\n",
    "- _wfdb_: The WaveForm DataBase Toolbox package, which contains tools for processing waveform data such as those in MIMIC.\n",
    "- _pathlib_ (well a particular function from _pathlib_, called _Path_)"
   ]
  },
  {
   "cell_type": "code",
   "execution_count": 21,
   "id": "ce3cdfde",
   "metadata": {},
   "outputs": [],
   "source": [
    "import sys\n",
    "import wfdb\n",
    "from pathlib import Path"
   ]
  },
  {
   "cell_type": "markdown",
   "id": "d492e49f",
   "metadata": {},
   "source": [
    "Now that we have imported these packages (_i.e._ toolboxes) we have a set of tools (functions) ready to use."
   ]
  },
  {
   "cell_type": "markdown",
   "id": "e11ce5b6",
   "metadata": {},
   "source": [
    "<div class=\"alert alert-block alert-warning\"> <b>Resource:</b> You can find out more about the WFDB package <a href=\"https://physionet.org/content/wfdb-python/3.4.1/\">here</a>. </div>"
   ]
  },
  {
   "cell_type": "markdown",
   "id": "e7d38297",
   "metadata": {},
   "source": [
    "### Specify the version of the MIMIC Waveform Database to use\n",
    "We will use either the:\n",
    "- [MIMIC III Waveform Database](https://doi.org/10.13026/c2607m), or\n",
    "- MIMIC IV Waveform Database"
   ]
  },
  {
   "cell_type": "markdown",
   "id": "212c33c1",
   "metadata": {},
   "source": [
    "- Specify which version of the database to use:"
   ]
  },
  {
   "cell_type": "code",
   "execution_count": 22,
   "id": "b307acf2",
   "metadata": {},
   "outputs": [],
   "source": [
    "mimic_wfdb_version = 4 # either: 3 or 4"
   ]
  },
  {
   "cell_type": "markdown",
   "id": "68491718",
   "metadata": {},
   "source": [
    "- Setup for this particular version of the database:"
   ]
  },
  {
   "cell_type": "code",
   "execution_count": 23,
   "id": "982b8154",
   "metadata": {},
   "outputs": [
    {
     "name": "stdout",
     "output_type": "stream",
     "text": [
      "Using MIMIC Waveform Database version: 4\n"
     ]
    }
   ],
   "source": [
    "if mimic_wfdb_version == 3:\n",
    "    wfdb.set_db_index_url('https://physionet.org/files') # use the version of the WFDB toolbox which corresponds to MIMIC IV.\n",
    "    database_name = 'mimic3wdb/1.0' # The name of the MIMIC III Waveform Database on Physionet (see URL: https://physionet.org/content/mimic3wdb/1.0/)\n",
    "elif mimic_wfdb_version == 4:\n",
    "    wfdb.set_db_index_url('https://challenge.physionet.org/benjamin/db') # use the version of the WFDB toolbox which corresponds to MIMIC IV.\n",
    "    database_name = 'mimic4wdb/0.1.0' # The name of the MIMIC IV Waveform Demo Database on Physionet\n",
    "print(\"Using MIMIC Waveform Database version: {}\".format(mimic_wfdb_version))"
   ]
  },
  {
   "cell_type": "markdown",
   "id": "e49196a6",
   "metadata": {},
   "source": [
    "---\n",
    "## Identify the records in the database"
   ]
  },
  {
   "cell_type": "markdown",
   "id": "b476f9b7",
   "metadata": {},
   "source": [
    "### Get a list of records\n",
    "\n",
    "- Use the [`get_record_list`](https://wfdb.readthedocs.io/en/latest/io.html#wfdb.io.get_record_list) function from the WFDB toolbox to get a list of records in the database."
   ]
  },
  {
   "cell_type": "code",
   "execution_count": 24,
   "id": "d91aa6a7",
   "metadata": {},
   "outputs": [
    {
     "name": "stdout",
     "output_type": "stream",
     "text": [
      "The 'mimic4wdb/0.1.0' database contains data from 198 subjects\n",
      "Done: Went through entire database and loaded list of 200 records for 'mimic4wdb/0.1.0' database\n"
     ]
    }
   ],
   "source": [
    "records = []\n",
    "no_records_to_load = 205\n",
    "subjects = wfdb.get_record_list(database_name)\n",
    "print(\"The '{}' database contains data from {} subjects\".format(database_name, len(subjects)))\n",
    "finished = False\n",
    "for subject in subjects:\n",
    "    if (not finished):\n",
    "        studies = wfdb.get_record_list(f'{database_name}/{subject}')\n",
    "        for study in studies:\n",
    "            if mimic_wfdb_version == 3 & (\"_\" not in study): # This skips any files which don't contain waveform data (e.g. numerics files)\n",
    "                continue\n",
    "            records.append(Path(f'{subject}{study}'))\n",
    "            if len(records) >= no_records_to_load: # stop if we've loaded enough records\n",
    "                finished = True\n",
    "if not finished:\n",
    "    print(\"Done: Went through entire database and loaded list of {} records for '{}' database\".format(len(records), database_name))\n",
    "else:\n",
    "    print(\"Done: Went through first bit of database and loaded list of {} records for '{}' database\".format(len(records), database_name))"
   ]
  },
  {
   "cell_type": "markdown",
   "id": "fc82d67e",
   "metadata": {},
   "source": [
    "### Look at the records"
   ]
  },
  {
   "cell_type": "markdown",
   "id": "29552f5a",
   "metadata": {},
   "source": [
    "- Display the first few records"
   ]
  },
  {
   "cell_type": "code",
   "execution_count": 25,
   "id": "bb5745a7",
   "metadata": {},
   "outputs": [
    {
     "name": "stdout",
     "output_type": "stream",
     "text": [
      "First five records: [PosixPath('p100/p10014354/81739927/81739927'), PosixPath('p100/p10019003/87033314/87033314'), PosixPath('p100/p10020306/83404654/83404654'), PosixPath('p100/p10039708/83411188/83411188'), PosixPath('p100/p10039708/85583557/85583557')]\n",
      "\n",
      "Note the formatting of these records:\n",
      " - intermediate directory ('p100' in this case)\n",
      " - subject identifier (e.g. 'p10014354')\n",
      " - record identifier (e.g. '81739927'\n"
     ]
    }
   ],
   "source": [
    "print(\"First five records: {}\".format(records[0:5]))\n",
    "if mimic_wfdb_version == 3:\n",
    "    print(\"\\nNote the formatting of these records:\\n - intermediate directory ('30' in this case)\\n - subject identifier ('3000003' in this case)\\n - record identifier (e.g. '3000003_0001'\")\n",
    "else:\n",
    "    print(\"\\nNote the formatting of these records:\\n - intermediate directory ('p100' in this case)\\n - subject identifier (e.g. 'p10014354')\\n - record identifier (e.g. '81739927'\")"
   ]
  },
  {
   "cell_type": "markdown",
   "id": "b56c29d5",
   "metadata": {},
   "source": [
    "<div class=\"alert alert-block alert-info\"> <b>Q:</b> Can you print the names of the last five records? <br> <b>Hint:</b> in Python, the last five elements can be specified using '[-5:]' </div>"
   ]
  },
  {
   "cell_type": "markdown",
   "id": "cb21a93b",
   "metadata": {},
   "source": [
    "---\n",
    "## Extract metadata for a record"
   ]
  },
  {
   "cell_type": "markdown",
   "id": "c39dc9f3",
   "metadata": {},
   "source": [
    "Each record contains metadata stored in a header file, named \"\\<record name\\>.hea\""
   ]
  },
  {
   "cell_type": "markdown",
   "id": "3b2e6adb",
   "metadata": {},
   "source": [
    "### Specify the online directory containing a record's data"
   ]
  },
  {
   "cell_type": "code",
   "execution_count": 26,
   "id": "86eed39f",
   "metadata": {},
   "outputs": [
    {
     "name": "stdout",
     "output_type": "stream",
     "text": [
      "Physionet directory specified for this record: mimic4wdb/0.1.0/p100/p10039708/83411188\n"
     ]
    }
   ],
   "source": [
    "if mimic_wfdb_version == 3:\n",
    "    no = 0\n",
    "else:\n",
    "    no = 3 # specify the fourth record (noting that in Python the first index is 0)\n",
    "record = records[no]\n",
    "record_dir = f'{database_name}/{record.parent}'\n",
    "print(\"Physionet directory specified for this record: {}\".format(record_dir))"
   ]
  },
  {
   "cell_type": "markdown",
   "id": "b5220ad3",
   "metadata": {},
   "source": [
    "### Specify the subject identifier"
   ]
  },
  {
   "cell_type": "markdown",
   "id": "d7a5bbef",
   "metadata": {},
   "source": [
    "Extract the record name (e.g. '83411188') from the record (e.g. 'p100/p10039708/83411188/83411188'):"
   ]
  },
  {
   "cell_type": "code",
   "execution_count": 27,
   "id": "b4bc247b",
   "metadata": {},
   "outputs": [
    {
     "name": "stdout",
     "output_type": "stream",
     "text": [
      "Record name: 83411188\n"
     ]
    }
   ],
   "source": [
    "record_name = record.name\n",
    "print(\"Record name: {}\".format(record_name))"
   ]
  },
  {
   "cell_type": "markdown",
   "id": "742071da",
   "metadata": {},
   "source": [
    "### Load the metadata for this record\n",
    "- Use the [`rdheader`](https://wfdb.readthedocs.io/en/latest/io.html#wfdb.io.rdheader) function from the WFDB toolbox to load metadata from the record header file"
   ]
  },
  {
   "cell_type": "code",
   "execution_count": 28,
   "id": "c5a0afc5",
   "metadata": {},
   "outputs": [
    {
     "name": "stdout",
     "output_type": "stream",
     "text": [
      "Done: metadata loaded for record '83411188' from header file at URL: https://physionet.org/content/mimic4wdb/0.1.0/p100/p10039708/83411188/83411188.hea\n"
     ]
    }
   ],
   "source": [
    "record_data = wfdb.rdheader(record_name, pn_dir=record_dir, rd_segments=True)\n",
    "print(\"Done: metadata loaded for record '{}' from header file at URL: {}\".format(record_name, \"https://physionet.org/content/\" + record_dir + \"/\" + record_name + \".hea\"))\n",
    "# NOTE \"https://physionet.org/content/\" won't be correct until the MIMIC-IV-Waveform is officially released"
   ]
  },
  {
   "cell_type": "markdown",
   "id": "f7a4d25d",
   "metadata": {},
   "source": [
    "---\n",
    "## Inspect details of physiological signals recorded in this record\n",
    "- Printing a few details of the signals from the extracted metadata"
   ]
  },
  {
   "cell_type": "code",
   "execution_count": 29,
   "id": "58630149",
   "metadata": {},
   "outputs": [
    {
     "name": "stdout",
     "output_type": "stream",
     "text": [
      "- Number of signals: 6\n",
      "- Duration: 14.2 hours\n",
      "- Sampling frequency: 62.4725 Hz\n"
     ]
    }
   ],
   "source": [
    "print(\"- Number of signals: {}\".format(record_data.n_sig))\n",
    "print(\"- Duration: {:.1f} hours\".format(record_data.sig_len/(record_data.fs*60*60))) \n",
    "# NOTE fs isn't 125 Hz\n",
    "print(\"- Sampling frequency: {} Hz\".format(record_data.fs))"
   ]
  },
  {
   "cell_type": "markdown",
   "id": "7b3da17f",
   "metadata": {},
   "source": [
    "---\n",
    "## Inspect the segments making up a record\n",
    "Each record is typically made up of several segments"
   ]
  },
  {
   "cell_type": "markdown",
   "id": "83d789c7",
   "metadata": {},
   "source": [
    "### Inspect the files in a record"
   ]
  },
  {
   "cell_type": "code",
   "execution_count": 30,
   "id": "a93390d0",
   "metadata": {},
   "outputs": [
    {
     "name": "stdout",
     "output_type": "stream",
     "text": [
      "Done: Loaded list of 2 records for subject 'p10039708'\n"
     ]
    }
   ],
   "source": [
    "if mimic_wfdb_version == 3:\n",
    "    files = wfdb.get_record_list(str(Path(record_dir)))\n",
    "    print(\"Done: Loaded list of {} records for subject '{}'\".format(len(files), str(Path(record_dir).parts[-1])))\n",
    "else:\n",
    "    files = wfdb.get_record_list(str(Path(record_dir).parent))\n",
    "    print(\"Done: Loaded list of {} records for subject '{}'\".format(len(files), str(Path(record_dir).parent.parts[-1])))"
   ]
  },
  {
   "cell_type": "markdown",
   "id": "f8aae993",
   "metadata": {},
   "source": [
    "### Inspect the contents of the first two files"
   ]
  },
  {
   "cell_type": "code",
   "execution_count": 31,
   "id": "298e87ff",
   "metadata": {},
   "outputs": [
    {
     "name": "stdout",
     "output_type": "stream",
     "text": [
      "The first file contains the first record: '83411188/83411188'\n",
      "The second file contains the second record: '85583557/85583557'\n",
      "where the number before the / is the record number and the number after is for the multi-segment header file. This multi-segment header file provides general information about the record.\n"
     ]
    }
   ],
   "source": [
    "if mimic_wfdb_version == 3:\n",
    "    print(\"The first file is: '{}', which provides metadata for the whole record\".format(files[0]) )\n",
    "    print(\"The second file is: '{}', which contains numerics data\".format(files[1]) )    \n",
    "else:\n",
    "    print(\"The first file contains the first record: '{}'\".format(files[0]) )\n",
    "    print(\"The second file contains the second record: '{}'\".format(files[1]) )\n",
    "    print(\"where the number before the / is the record number and the number after is for the multi-segment header file. This multi-segment header file provides general information about the record.\")"
   ]
  },
  {
   "cell_type": "markdown",
   "id": "0f57f512",
   "metadata": {},
   "source": [
    "### Inspect the segments within a record"
   ]
  },
  {
   "cell_type": "code",
   "execution_count": 32,
   "id": "b127c857",
   "metadata": {},
   "outputs": [
    {
     "name": "stdout",
     "output_type": "stream",
     "text": [
      "The 6 segments from record 83411188 are: ['83411188_0000', '83411188_0001', '83411188_0002', '83411188_0003', '83411188_0004', '83411188_0005']\n"
     ]
    }
   ],
   "source": [
    "segments = record_data.seg_name\n",
    "# --- these lines remove non-waveform data from MIMIC III files\n",
    "for curr_seg in segments:\n",
    "    if (\"~\" in curr_seg) or (\"layout\" in curr_seg):\n",
    "        segments.remove(curr_seg)\n",
    "# ---\n",
    "print(\"The {} segments from record {} are: {}\".format(len(segments), record_name, segments) )"
   ]
  },
  {
   "cell_type": "markdown",
   "id": "b379eaaf",
   "metadata": {},
   "source": [
    "Note the format of the names of the files containing waveform data for each segment: record directory, \"_\", segment number"
   ]
  },
  {
   "cell_type": "markdown",
   "id": "f19d231b",
   "metadata": {},
   "source": [
    "---\n",
    "## Inspect an individual segment\n",
    "### Read the metadata for this segment\n",
    "- Read the metadata from the header file"
   ]
  },
  {
   "cell_type": "code",
   "execution_count": 33,
   "id": "7f70d34f",
   "metadata": {},
   "outputs": [
    {
     "name": "stdout",
     "output_type": "stream",
     "text": [
      "Header metadata loaded for the segment '83411188_0001' in study '83411188' for subject 'p10039708'\n"
     ]
    }
   ],
   "source": [
    "segment_metadata = wfdb.rdheader(record_name=segments[2], pn_dir=record_dir) \n",
    "print(\"Header metadata loaded for the segment '{}' in study '{}' for subject '{}'\".format(segments[1], record_name, str(Path(record_dir).parent.parts[-1])))"
   ]
  },
  {
   "cell_type": "markdown",
   "id": "d28771ac",
   "metadata": {},
   "source": [
    "### Find out what signals are present"
   ]
  },
  {
   "cell_type": "code",
   "execution_count": 34,
   "id": "324727df",
   "metadata": {},
   "outputs": [
    {
     "name": "stdout",
     "output_type": "stream",
     "text": [
      "This segment contains the following signals: ['II', 'V', 'aVR', 'ABP', 'Pleth', 'Resp']\n",
      "The signals are measured in units of: ['mV', 'mV', 'mV', 'mmHg', 'NU', 'Ohm']\n"
     ]
    }
   ],
   "source": [
    "print(\"This segment contains the following signals: {}\".format(segment_metadata.sig_name))\n",
    "print(\"The signals are measured in units of: {}\".format(segment_metadata.units))"
   ]
  },
  {
   "cell_type": "markdown",
   "id": "f09b3f37",
   "metadata": {},
   "source": [
    "See [here](https://archive.physionet.org/mimic2/mimic2_waveform_overview.shtml#signals-125-samplessecond) for definitions of signal abbreviations."
   ]
  },
  {
   "cell_type": "markdown",
   "id": "3f56dd61",
   "metadata": {},
   "source": [
    "<div class=\"alert alert-block alert-info\"> <b>Q:</b> Which of these signals is still present in segment '3000003_0014' (for MIMIC III) or segment '83411188_0000' (for MIMIC IV)? </div>"
   ]
  },
  {
   "cell_type": "markdown",
   "id": "9f921f27",
   "metadata": {},
   "source": [
    "### Find out how long each signal lasts"
   ]
  },
  {
   "cell_type": "markdown",
   "id": "d217b764",
   "metadata": {},
   "source": [
    "All signals in a segment are time-aligned, measured at the same sampling frequency, and last the same duration:"
   ]
  },
  {
   "cell_type": "code",
   "execution_count": 35,
   "id": "c44f00a7",
   "metadata": {},
   "outputs": [
    {
     "name": "stdout",
     "output_type": "stream",
     "text": [
      "All the signals are sampled at 62.4725 Hz\n",
      "and they last for 0.9 minutes\n"
     ]
    }
   ],
   "source": [
    "print(\"All the signals are sampled at {} Hz\".format(segment_metadata.fs))\n",
    "print(\"and they last for {:.1f} minutes\".format(segment_metadata.sig_len/(segment_metadata.fs*60)) )"
   ]
  },
  {
   "cell_type": "markdown",
   "id": "d2a80895",
   "metadata": {},
   "source": [
    "## Identify records suitable for analysis"
   ]
  },
  {
   "cell_type": "markdown",
   "id": "1a3218d3",
   "metadata": {},
   "source": [
    "The signals available and their durations vary from one record (and segment) to the next. Since most studies require specific types of signals (e.g. blood pressure and photoplethysmography signals), it is important to identify which records (or segments) contain the required signals for the required duration."
   ]
  },
  {
   "cell_type": "markdown",
   "id": "b02c0b4e",
   "metadata": {},
   "source": [
    "### Setup"
   ]
  },
  {
   "cell_type": "code",
   "execution_count": 36,
   "id": "5bb47556",
   "metadata": {},
   "outputs": [],
   "source": [
    "import pandas as pd\n",
    "from pprint import pprint"
   ]
  },
  {
   "cell_type": "code",
   "execution_count": 37,
   "id": "95181681",
   "metadata": {},
   "outputs": [
    {
     "name": "stdout",
     "output_type": "stream",
     "text": [
      "Earlier, we loaded a list of 200 records for 'mimic4wdb/0.1.0' database\n"
     ]
    }
   ],
   "source": [
    "print(\"Earlier, we loaded a list of {} records for '{}' database\".format(len(records), database_name))"
   ]
  },
  {
   "cell_type": "markdown",
   "id": "7f2b5955",
   "metadata": {},
   "source": [
    "### Specify requirements"
   ]
  },
  {
   "cell_type": "markdown",
   "id": "83f8611c",
   "metadata": {},
   "source": [
    "- Required signals"
   ]
  },
  {
   "cell_type": "code",
   "execution_count": 38,
   "id": "3d1505ab",
   "metadata": {},
   "outputs": [],
   "source": [
    "required_sigs = ['ABP', 'Pleth']"
   ]
  },
  {
   "cell_type": "markdown",
   "id": "03920810",
   "metadata": {},
   "source": [
    "- Required duration"
   ]
  },
  {
   "cell_type": "code",
   "execution_count": 39,
   "id": "568a93c1",
   "metadata": {},
   "outputs": [],
   "source": [
    "req_seg_duration = 10*60  # converting from minutes to seconds"
   ]
  },
  {
   "cell_type": "markdown",
   "id": "d49187cd",
   "metadata": {},
   "source": [
    "### Find out how many records meet the requirements"
   ]
  },
  {
   "cell_type": "code",
   "execution_count": 49,
   "id": "015b47d3",
   "metadata": {},
   "outputs": [
    {
     "name": "stdout",
     "output_type": "stream",
     "text": [
      "Record: p100/p10014354/81739927/81739927 (reading data)\n",
      "   (missing signals)\n",
      "Record: p100/p10019003/87033314/87033314 (reading data)\n",
      "   (missing signals)\n",
      "Record: p100/p10020306/83404654/83404654 (reading data)\n",
      " - Segment: 83404654_0000 (too short at 0.0 mins)\n",
      " - Segment: 83404654_0001 (long enough, but missing signal(s))\n",
      " - Segment: 83404654_0002 (too short at 0.1 mins)\n",
      " - Segment: 83404654_0003 (too short at 0.3 mins)\n",
      " - Segment: 83404654_0004 (long enough, but missing signal(s))\n",
      " - Segment: 83404654_0005 (met requirements)\n",
      "Record: p100/p10039708/83411188/83411188 (reading data)\n",
      " - Segment: 83411188_0000 (too short at 0.0 mins)\n",
      " - Segment: 83411188_0001 (too short at 0.1 mins)\n",
      " - Segment: 83411188_0002 (too short at 0.9 mins)\n",
      " - Segment: 83411188_0003 (too short at 0.3 mins)\n",
      " - Segment: 83411188_0004 (too short at 0.3 mins)\n",
      " - Segment: 83411188_0005 (long enough, but missing signal(s))\n",
      "Record: p100/p10039708/85583557/85583557 (reading data)\n",
      "   (missing signals)\n",
      "Record: p100/p10079700/85594648/85594648 (reading data)\n",
      "   (missing signals)\n",
      "Record: p100/p10082591/84050536/84050536 (reading data)\n",
      "   (missing signals)\n",
      "Record: p101/p10100546/83268087/83268087 (reading data)\n",
      "   (missing signals)\n",
      "Record: p101/p10112163/88501826/88501826 (reading data)\n",
      "   (missing signals)\n",
      "Record: p101/p10126957/82924339/82924339 (reading data)\n",
      " - Segment: 82924339_0000 (too short at 0.0 mins)\n",
      " - Segment: 82924339_0001 (too short at 0.2 mins)\n",
      " - Segment: 82924339_0002 (too short at 0.1 mins)\n",
      " - Segment: 82924339_0003 (too short at 0.4 mins)\n",
      " - Segment: 82924339_0004 (too short at 0.1 mins)\n",
      " - Segment: 82924339_0005 (too short at 0.0 mins)\n",
      " - Segment: 82924339_0006 (too short at 5.3 mins)\n",
      " - Segment: 82924339_0007 (met requirements)\n",
      "Record: p102/p10209410/84248019/84248019 (reading data)\n",
      " - Segment: 84248019_0000 (too short at 0.0 mins)\n",
      " - Segment: 84248019_0001 (too short at 0.1 mins)\n",
      " - Segment: 84248019_0002 (too short at 4.8 mins)\n",
      " - Segment: 84248019_0003 (too short at 0.2 mins)\n",
      " - Segment: 84248019_0004 (too short at 1.0 mins)\n",
      " - Segment: 84248019_0005 (met requirements)\n",
      "Record: p103/p10303080/88399302/88399302 (reading data)\n",
      "   (missing signals)\n",
      "Record: p104/p10494990/88374538/88374538 (reading data)\n",
      "   (missing signals)\n",
      "Record: p105/p10560354/81105139/81105139 (reading data)\n",
      "   (missing signals)\n",
      "Record: p106/p10680081/86426168/86426168 (reading data)\n",
      "   (missing signals)\n",
      "Record: p108/p10882818/81826943/81826943 (reading data)\n",
      "   (missing signals)\n",
      "Record: p109/p10952189/82439920/82439920 (reading data)\n",
      " - Segment: 82439920_0000 (too short at 0.0 mins)\n",
      " - Segment: 82439920_0001 (too short at 0.1 mins)\n",
      " - Segment: 82439920_0002 (too short at 0.0 mins)\n",
      " - Segment: 82439920_0003 (too short at 0.1 mins)\n",
      " - Segment: 82439920_0004 (met requirements)\n",
      "Record: p110/p11013146/82432904/82432904 (reading data)\n",
      "   (missing signals)\n",
      "Record: p111/p11109975/82800131/82800131 (reading data)\n",
      " - Segment: 82800131_0000 (too short at 0.0 mins)\n",
      " - Segment: 82800131_0001 (too short at 0.1 mins)\n",
      " - Segment: 82800131_0002 (met requirements)\n",
      "Record: p113/p11320864/81312415/81312415 (reading data)\n",
      "   (missing signals)\n",
      "Record: p113/p11392990/84304393/84304393 (reading data)\n",
      " - Segment: 84304393_0000 (too short at 0.0 mins)\n",
      " - Segment: 84304393_0001 (met requirements)\n",
      "Record: p115/p11552552/82650378/82650378 (reading data)\n",
      "   (missing signals)\n",
      "Record: p115/p11552552/88733244/88733244 (reading data)\n",
      "   (missing signals)\n",
      "Record: p115/p11558369/88636340/88636340 (reading data)\n",
      "   (missing signals)\n",
      "Record: p115/p11573811/87942784/87942784 (reading data)\n",
      "   (missing signals)\n",
      "Record: p115/p11596691/86130599/86130599 (reading data)\n",
      "   (missing signals)\n",
      "Record: p116/p11699665/81602645/81602645 (reading data)\n",
      "   (missing signals)\n",
      "Record: p119/p11944882/88867862/88867862 (reading data)\n",
      " - Segment: 88867862_0000 (too short at 0.0 mins)\n",
      " - Segment: 88867862_0001 (long enough, but missing signal(s))\n",
      " - Segment: 88867862_0002 (too short at 0.6 mins)\n",
      " - Segment: 88867862_0003 (too short at 0.2 mins)\n",
      " - Segment: 88867862_0004 (long enough, but missing signal(s))\n",
      " - Segment: 88867862_0005 (too short at 6.5 mins)\n",
      " - Segment: 88867862_0006 (too short at 2.6 mins)\n",
      " - Segment: 88867862_0007 (long enough, but missing signal(s))\n",
      " - Segment: 88867862_0008 (too short at 0.3 mins)\n",
      " - Segment: 88867862_0009 (too short at 0.3 mins)\n",
      " - Segment: 88867862_0010 (long enough, but missing signal(s))\n",
      " - Segment: 88867862_0011 (long enough, but missing signal(s))\n",
      " - Segment: 88867862_0012 (too short at 0.2 mins)\n",
      " - Segment: 88867862_0013 (long enough, but missing signal(s))\n",
      " - Segment: 88867862_0014 (too short at 0.0 mins)\n",
      " - Segment: 88867862_0015 (too short at 0.1 mins)\n",
      " - Segment: 88867862_0016 (too short at 0.2 mins)\n",
      " - Segment: 88867862_0017 (too short at 0.0 mins)\n",
      " - Segment: 88867862_0018 (too short at 0.1 mins)\n",
      " - Segment: 88867862_0019 (too short at 0.1 mins)\n",
      " - Segment: 88867862_0020 (long enough, but missing signal(s))\n",
      " - Segment: 88867862_0021 (long enough, but missing signal(s))\n",
      " - Segment: 88867862_0022 (long enough, but missing signal(s))\n",
      " - Segment: 88867862_0023 (long enough, but missing signal(s))\n",
      " - Segment: 88867862_0024 (long enough, but missing signal(s))\n",
      " - Segment: 88867862_0025 (too short at 1.1 mins)\n",
      " - Segment: 88867862_0026 (long enough, but missing signal(s))\n",
      " - Segment: 88867862_0027 (long enough, but missing signal(s))\n",
      " - Segment: 88867862_0028 (too short at 2.6 mins)\n",
      " - Segment: 88867862_0029 (long enough, but missing signal(s))\n",
      " - Segment: 88867862_0030 (too short at 0.1 mins)\n",
      " - Segment: 88867862_0031 (long enough, but missing signal(s))\n",
      " - Segment: 88867862_0032 (too short at 0.8 mins)\n",
      " - Segment: 88867862_0033 (too short at 1.5 mins)\n",
      " - Segment: 88867862_0034 (long enough, but missing signal(s))\n",
      " - Segment: 88867862_0035 (long enough, but missing signal(s))\n",
      " - Segment: 88867862_0036 (long enough, but missing signal(s))\n",
      " - Segment: 88867862_0037 (too short at 0.7 mins)\n",
      " - Segment: 88867862_0038 (long enough, but missing signal(s))\n",
      " - Segment: 88867862_0039 (too short at 9.4 mins)\n",
      " - Segment: 88867862_0040 (long enough, but missing signal(s))\n",
      " - Segment: 88867862_0041 (long enough, but missing signal(s))\n",
      " - Segment: 88867862_0042 (long enough, but missing signal(s))\n",
      " - Segment: 88867862_0043 (long enough, but missing signal(s))\n",
      "Record: p121/p12168037/89464742/89464742 (reading data)\n",
      " - Segment: 89464742_0000 (too short at 0.0 mins)\n",
      " - Segment: 89464742_0001 (met requirements)\n",
      "Record: p121/p12173569/88958796/88958796 (reading data)\n",
      " - Segment: 88958796_0000 (too short at 0.0 mins)\n",
      " - Segment: 88958796_0001 (too short at 1.6 mins)\n",
      " - Segment: 88958796_0002 (too short at 6.5 mins)\n",
      " - Segment: 88958796_0003 (too short at 0.5 mins)\n",
      " - Segment: 88958796_0004 (met requirements)\n",
      "Record: p121/p12188288/88995377/88995377 (reading data)\n",
      " - Segment: 88995377_0000 (too short at 0.0 mins)\n",
      " - Segment: 88995377_0001 (met requirements)\n",
      "Record: p122/p12226163/85982742/85982742 (reading data)\n",
      "   (missing signals)\n",
      "Record: p122/p12246674/81515145/81515145 (reading data)\n",
      "   (missing signals)\n",
      "Record: p122/p12290932/84513510/84513510 (reading data)\n",
      "   (missing signals)\n",
      "Record: p122/p12295067/86906600/86906600 (reading data)\n",
      "   (missing signals)\n",
      "Record: p124/p12408438/88826653/88826653 (reading data)\n",
      "   (missing signals)\n",
      "Record: p124/p12424398/81741333/81741333 (reading data)\n",
      " - Segment: 81741333_0000 (too short at 0.0 mins)\n",
      " - Segment: 81741333_0001 (long enough, but missing signal(s))\n",
      " - Segment: 81741333_0002 (too short at 0.4 mins)\n",
      " - Segment: 81741333_0003 (long enough, but missing signal(s))\n",
      " - Segment: 81741333_0004 (too short at 0.4 mins)\n",
      " - Segment: 81741333_0005 (too short at 0.1 mins)\n",
      " - Segment: 81741333_0006 (too short at 1.1 mins)\n",
      " - Segment: 81741333_0007 (long enough, but missing signal(s))\n",
      " - Segment: 81741333_0008 (too short at 0.1 mins)\n",
      " - Segment: 81741333_0009 (too short at 0.0 mins)\n",
      " - Segment: 81741333_0010 (long enough, but missing signal(s))\n",
      " - Segment: 81741333_0011 (too short at 0.1 mins)\n",
      " - Segment: 81741333_0012 (too short at 0.0 mins)\n",
      " - Segment: 81741333_0013 (too short at 0.0 mins)\n",
      " - Segment: 81741333_0014 (too short at 0.1 mins)\n",
      " - Segment: 81741333_0015 (long enough, but missing signal(s))\n"
     ]
    },
    {
     "name": "stdout",
     "output_type": "stream",
     "text": [
      "Record: p124/p12449182/84179115/84179115 (reading data)\n",
      "   (missing signals)\n",
      "Record: p124/p12470697/84213440/84213440 (reading data)\n",
      "   (missing signals)\n",
      "Record: p125/p12545470/80674263/80674263 (reading data)\n",
      "   (missing signals)\n",
      "Record: p125/p12563752/85393521/85393521 (reading data)\n",
      "   (missing signals)\n",
      "Record: p125/p12567919/82552643/82552643 (reading data)\n",
      "   (missing signals)\n",
      "Record: p127/p12789108/85835247/85835247 (reading data)\n",
      "   (missing signals)\n",
      "Record: p128/p12801061/80154334/80154334 (reading data)\n",
      "   (missing signals)\n",
      "Record: p128/p12807320/81739815/81739815 (reading data)\n",
      "   (missing signals)\n",
      "Record: p128/p12847457/83054955/83054955 (reading data)\n",
      "   (missing signals)\n",
      "Record: p128/p12872596/85230771/85230771 (reading data)\n",
      " - Segment: 85230771_0000 (too short at 0.0 mins)\n",
      " - Segment: 85230771_0001 (too short at 0.1 mins)\n",
      " - Segment: 85230771_0002 (too short at 0.3 mins)\n",
      " - Segment: 85230771_0003 (too short at 0.1 mins)\n",
      " - Segment: 85230771_0004 (met requirements)\n",
      "Record: p128/p12882754/84094519/84094519 (reading data)\n",
      "   (missing signals)\n",
      "Record: p129/p12933208/86643930/86643930 (reading data)\n",
      " - Segment: 86643930_0000 (too short at 0.0 mins)\n",
      " - Segment: 86643930_0001 (long enough, but missing signal(s))\n",
      " - Segment: 86643930_0002 (too short at 0.1 mins)\n",
      " - Segment: 86643930_0003 (long enough, but missing signal(s))\n",
      " - Segment: 86643930_0004 (met requirements)\n",
      "Record: p129/p12961799/86114120/86114120 (reading data)\n",
      "   (missing signals)\n",
      "Record: p130/p13016481/81250824/81250824 (reading data)\n",
      " - Segment: 81250824_0000 (too short at 0.0 mins)\n",
      " - Segment: 81250824_0001 (too short at 1.3 mins)\n",
      " - Segment: 81250824_0002 (too short at 0.1 mins)\n",
      " - Segment: 81250824_0003 (too short at 0.0 mins)\n",
      " - Segment: 81250824_0004 (too short at 1.4 mins)\n",
      " - Segment: 81250824_0005 (met requirements)\n",
      "Record: p130/p13080738/85361504/85361504 (reading data)\n",
      "   (missing signals)\n",
      "Record: p130/p13090274/87473566/87473566 (reading data)\n",
      "   (missing signals)\n",
      "Record: p131/p13184012/87023605/87023605 (reading data)\n",
      "   (missing signals)\n",
      "Record: p132/p13208026/82342224/82342224 (reading data)\n",
      "   (missing signals)\n",
      "Record: p132/p13216117/81815063/81815063 (reading data)\n",
      "   (missing signals)\n",
      "Record: p132/p13240081/87706224/87706224 (reading data)\n",
      " - Segment: 87706224_0000 (too short at 0.0 mins)\n",
      " - Segment: 87706224_0001 (too short at 0.1 mins)\n",
      " - Segment: 87706224_0002 (too short at 8.0 mins)\n",
      " - Segment: 87706224_0003 (met requirements)\n",
      "Record: p133/p13335291/89017807/89017807 (reading data)\n",
      "   (missing signals)\n",
      "Record: p133/p13364831/82697127/82697127 (reading data)\n",
      "   (missing signals)\n",
      "Record: p133/p13386985/81002096/81002096 (reading data)\n",
      "   (missing signals)\n",
      "Record: p134/p13457656/88841356/88841356 (reading data)\n",
      "   (missing signals)\n",
      "Record: p134/p13496169/80200410/80200410 (reading data)\n",
      "   (missing signals)\n",
      "Record: p135/p13559368/86957236/86957236 (reading data)\n",
      "   (missing signals)\n",
      "Record: p136/p13620446/83988903/83988903 (reading data)\n",
      "   (missing signals)\n",
      "Record: p136/p13624686/83058614/83058614 (reading data)\n",
      " - Segment: 83058614_0000 (too short at 0.0 mins)\n",
      " - Segment: 83058614_0001 (too short at 0.1 mins)\n",
      " - Segment: 83058614_0002 (too short at 0.1 mins)\n",
      " - Segment: 83058614_0003 (too short at 0.0 mins)\n",
      " - Segment: 83058614_0004 (too short at 0.0 mins)\n",
      " - Segment: 83058614_0005 (met requirements)\n",
      "Record: p136/p13687171/82266835/82266835 (reading data)\n",
      "   (missing signals)\n",
      "Record: p137/p13724605/81178488/81178488 (reading data)\n",
      "   (missing signals)\n",
      "Record: p137/p13791821/82803505/82803505 (reading data)\n",
      " - Segment: 82803505_0000 (too short at 0.0 mins)\n",
      " - Segment: 82803505_0001 (too short at 0.1 mins)\n",
      " - Segment: 82803505_0002 (long enough, but missing signal(s))\n",
      " - Segment: 82803505_0003 (long enough, but missing signal(s))\n",
      " - Segment: 82803505_0004 (long enough, but missing signal(s))\n",
      " - Segment: 82803505_0005 (too short at 0.1 mins)\n",
      " - Segment: 82803505_0006 (long enough, but missing signal(s))\n",
      " - Segment: 82803505_0007 (too short at 3.8 mins)\n",
      " - Segment: 82803505_0008 (long enough, but missing signal(s))\n",
      " - Segment: 82803505_0009 (too short at 0.2 mins)\n",
      " - Segment: 82803505_0010 (too short at 2.4 mins)\n",
      " - Segment: 82803505_0011 (too short at 0.1 mins)\n",
      " - Segment: 82803505_0012 (long enough, but missing signal(s))\n",
      " - Segment: 82803505_0013 (too short at 0.2 mins)\n",
      " - Segment: 82803505_0014 (long enough, but missing signal(s))\n",
      " - Segment: 82803505_0015 (too short at 5.5 mins)\n",
      " - Segment: 82803505_0016 (long enough, but missing signal(s))\n",
      " - Segment: 82803505_0017 (met requirements)\n",
      "Record: p138/p13840756/85241465/85241465 (reading data)\n",
      "   (missing signals)\n",
      "Record: p139/p13909615/85874778/85874778 (reading data)\n",
      "   (missing signals)\n",
      "Record: p140/p14025287/86429079/86429079 (reading data)\n",
      "   (missing signals)\n",
      "Record: p140/p14043090/80351079/80351079 (reading data)\n",
      "   (missing signals)\n",
      "Record: p140/p14057060/81396664/81396664 (reading data)\n",
      "   (missing signals)\n",
      "Record: p140/p14071752/87613677/87613677 (reading data)\n",
      "   (missing signals)\n",
      "Record: p141/p14141512/85863370/85863370 (reading data)\n",
      "   (missing signals)\n",
      "Record: p141/p14191565/88574629/88574629 (reading data)\n",
      " - Segment: 88574629_0000 (too short at 0.0 mins)\n",
      " - Segment: 88574629_0001 (met requirements)\n",
      "Record: p142/p14260018/80493349/80493349 (reading data)\n",
      "   (missing signals)\n",
      "Record: p142/p14285792/87867111/87867111 (reading data)\n",
      " - Segment: 87867111_0000 (too short at 0.0 mins)\n",
      " - Segment: 87867111_0001 (long enough, but missing signal(s))\n",
      " - Segment: 87867111_0002 (too short at 0.1 mins)\n",
      " - Segment: 87867111_0003 (long enough, but missing signal(s))\n",
      " - Segment: 87867111_0004 (too short at 1.0 mins)\n",
      " - Segment: 87867111_0005 (long enough, but missing signal(s))\n",
      " - Segment: 87867111_0006 (too short at 0.5 mins)\n",
      " - Segment: 87867111_0007 (long enough, but missing signal(s))\n",
      " - Segment: 87867111_0008 (long enough, but missing signal(s))\n",
      " - Segment: 87867111_0009 (long enough, but missing signal(s))\n",
      " - Segment: 87867111_0010 (too short at 0.1 mins)\n",
      " - Segment: 87867111_0011 (long enough, but missing signal(s))\n",
      " - Segment: 87867111_0012 (met requirements)\n",
      "Record: p143/p14328567/80030009/80030009 (reading data)\n",
      "   (missing signals)\n",
      "Record: p143/p14356077/84560969/84560969 (reading data)\n",
      " - Segment: 84560969_0000 (too short at 0.0 mins)\n",
      " - Segment: 84560969_0001 (met requirements)\n",
      "Record: p143/p14363499/87562386/87562386 (reading data)\n",
      " - Segment: 87562386_0000 (too short at 0.0 mins)\n",
      " - Segment: 87562386_0001 (met requirements)\n",
      "Record: p145/p14504374/89909100/89909100 (reading data)\n",
      "   (missing signals)\n",
      "Record: p145/p14573205/83993183/83993183 (reading data)\n",
      "   (missing signals)\n",
      "Record: p146/p14629329/89923227/89923227 (reading data)\n",
      "   (missing signals)\n",
      "Record: p146/p14678292/82257762/82257762 (reading data)\n",
      "   (missing signals)\n",
      "Record: p146/p14695840/88685937/88685937 (reading data)\n",
      " - Segment: 88685937_0000 (too short at 0.0 mins)\n",
      " - Segment: 88685937_0001 (met requirements)\n",
      "Record: p147/p14711488/80647461/80647461 (reading data)\n",
      "   (missing signals)\n",
      "Record: p147/p14739057/86201081/86201081 (reading data)\n",
      "   (missing signals)\n",
      "Record: p147/p14751132/87909383/87909383 (reading data)\n",
      "   (missing signals)\n",
      "Record: p147/p14759494/87555605/87555605 (reading data)\n",
      "   (missing signals)\n",
      "Record: p147/p14781701/80705205/80705205 (reading data)\n",
      "   (missing signals)\n",
      "Record: p147/p14782379/83682560/83682560 (reading data)\n",
      "   (missing signals)\n",
      "Record: p148/p14811560/88188377/88188377 (reading data)\n",
      "   (missing signals)\n",
      "Record: p149/p14931547/86120311/86120311 (reading data)\n",
      " - Segment: 86120311_0000 (too short at 0.0 mins)\n",
      " - Segment: 86120311_0001 (met requirements)\n",
      "Record: p150/p15030787/82582002/82582002 (reading data)\n",
      "   (missing signals)\n",
      "Record: p151/p15174162/89866183/89866183 (reading data)\n",
      " - Segment: 89866183_0000 (too short at 0.0 mins)\n",
      " - Segment: 89866183_0001 (too short at 0.2 mins)\n",
      " - Segment: 89866183_0002 (too short at 0.1 mins)\n",
      " - Segment: 89866183_0003 (too short at 0.0 mins)\n",
      " - Segment: 89866183_0004 (too short at 3.0 mins)\n",
      " - Segment: 89866183_0005 (too short at 0.0 mins)\n",
      " - Segment: 89866183_0006 (too short at 0.1 mins)\n",
      " - Segment: 89866183_0007 (too short at 0.0 mins)\n",
      " - Segment: 89866183_0008 (too short at 0.1 mins)\n",
      " - Segment: 89866183_0009 (too short at 0.2 mins)\n",
      " - Segment: 89866183_0010 (too short at 0.1 mins)\n",
      " - Segment: 89866183_0011 (too short at 0.0 mins)\n",
      " - Segment: 89866183_0012 (too short at 0.0 mins)\n",
      " - Segment: 89866183_0013 (too short at 0.0 mins)\n",
      " - Segment: 89866183_0014 (met requirements)\n",
      "Record: p153/p15312343/89068160/89068160 (reading data)\n",
      " - Segment: 89068160_0000 (too short at 0.0 mins)\n",
      " - Segment: 89068160_0001 (too short at 1.3 mins)\n",
      " - Segment: 89068160_0002 (met requirements)\n",
      "Record: p153/p15315368/83076714/83076714 (reading data)\n",
      "   (missing signals)\n",
      "Record: p153/p15342703/86380383/86380383 (reading data)\n",
      " - Segment: 86380383_0000 (too short at 0.0 mins)\n",
      " - Segment: 86380383_0001 (met requirements)\n",
      "Record: p154/p15450741/80222656/80222656 (reading data)\n",
      "   (missing signals)\n",
      "Record: p154/p15461634/89565005/89565005 (reading data)\n",
      "   (missing signals)\n",
      "Record: p154/p15465960/87710197/87710197 (reading data)\n",
      "   (missing signals)\n",
      "Record: p154/p15497782/80353107/80353107 (reading data)\n",
      "   (missing signals)\n",
      "Record: p155/p15524470/80713046/80713046 (reading data)\n",
      "   (missing signals)\n",
      "Record: p155/p15552902/85078610/85078610 (reading data)\n",
      " - Segment: 85078610_0000 (too short at 0.0 mins)\n",
      " - Segment: 85078610_0001 (too short at 0.1 mins)\n",
      " - Segment: 85078610_0002 (too short at 0.1 mins)\n",
      " - Segment: 85078610_0003 (too short at 0.0 mins)\n",
      " - Segment: 85078610_0004 (too short at 2.1 mins)\n",
      " - Segment: 85078610_0005 (too short at 0.0 mins)\n",
      " - Segment: 85078610_0006 (too short at 0.0 mins)\n",
      " - Segment: 85078610_0007 (too short at 1.2 mins)\n",
      " - Segment: 85078610_0008 (met requirements)\n",
      "Record: p156/p15649186/87702634/87702634 (reading data)\n",
      " - Segment: 87702634_0000 (too short at 0.0 mins)\n",
      " - Segment: 87702634_0001 (too short at 0.1 mins)\n",
      " - Segment: 87702634_0002 (too short at 0.1 mins)\n",
      " - Segment: 87702634_0003 (too short at 0.9 mins)\n",
      " - Segment: 87702634_0004 (too short at 0.1 mins)\n",
      " - Segment: 87702634_0005 (too short at 8.6 mins)\n",
      " - Segment: 87702634_0006 (too short at 0.1 mins)\n",
      " - Segment: 87702634_0007 (met requirements)\n",
      "Record: p156/p15651262/87121214/87121214 (reading data)\n",
      "   (missing signals)\n",
      "Record: p156/p15685201/83226324/83226324 (reading data)\n",
      "   (missing signals)\n",
      "Record: p157/p15738617/84323120/84323120 (reading data)\n",
      "   (missing signals)\n",
      "Record: p158/p15855446/80620046/80620046 (reading data)\n",
      "   (missing signals)\n",
      "Record: p158/p15857793/84686667/84686667 (reading data)\n",
      " - Segment: 84686667_0000 (too short at 0.0 mins)\n",
      " - Segment: 84686667_0001 (too short at 1.5 mins)\n",
      " - Segment: 84686667_0002 (met requirements)\n",
      "Record: p158/p15858229/85931717/85931717 (reading data)\n",
      "   (missing signals)\n",
      "Record: p158/p15859796/87162659/87162659 (reading data)\n",
      "   (missing signals)\n",
      "Record: p158/p15865327/84802706/84802706 (reading data)\n",
      " - Segment: 84802706_0000 (too short at 0.0 mins)\n",
      " - Segment: 84802706_0001 (too short at 0.0 mins)\n",
      " - Segment: 84802706_0002 (met requirements)\n",
      "Record: p158/p15896656/81811182/81811182 (reading data)\n",
      " - Segment: 81811182_0000 (too short at 0.0 mins)\n",
      " - Segment: 81811182_0001 (too short at 0.1 mins)\n",
      " - Segment: 81811182_0002 (too short at 0.0 mins)\n",
      " - Segment: 81811182_0003 (too short at 0.1 mins)\n",
      " - Segment: 81811182_0004 (met requirements)\n",
      "Record: p159/p15920699/84421559/84421559 (reading data)\n",
      " - Segment: 84421559_0000 (too short at 0.0 mins)\n",
      " - Segment: 84421559_0001 (too short at 5.3 mins)\n",
      " - Segment: 84421559_0002 (too short at 0.1 mins)\n",
      " - Segment: 84421559_0003 (too short at 0.0 mins)\n",
      " - Segment: 84421559_0004 (too short at 0.1 mins)\n",
      " - Segment: 84421559_0005 (met requirements)\n",
      "Record: p160/p16034243/88221516/88221516 (reading data)\n",
      " - Segment: 88221516_0000 (too short at 0.0 mins)\n",
      " - Segment: 88221516_0001 (too short at 3.0 mins)\n",
      " - Segment: 88221516_0002 (too short at 0.0 mins)\n",
      " - Segment: 88221516_0003 (too short at 0.1 mins)\n",
      " - Segment: 88221516_0004 (too short at 4.0 mins)\n",
      " - Segment: 88221516_0005 (too short at 0.3 mins)\n",
      " - Segment: 88221516_0006 (too short at 5.2 mins)\n",
      " - Segment: 88221516_0007 (met requirements)\n",
      "Record: p160/p16074364/84765423/84765423 (reading data)\n",
      "   (missing signals)\n",
      "Record: p160/p16089661/87257193/87257193 (reading data)\n",
      "   (missing signals)\n",
      "Record: p160/p16096029/87730914/87730914 (reading data)\n",
      "   (missing signals)\n",
      "Record: p162/p16215869/89184684/89184684 (reading data)\n",
      "   (missing signals)\n",
      "Record: p162/p16224237/84746493/84746493 (reading data)\n",
      "   (missing signals)\n",
      "Record: p163/p16331109/85937857/85937857 (reading data)\n",
      "   (missing signals)\n",
      "Record: p163/p16362820/85250800/85250800 (reading data)\n",
      "   (missing signals)\n",
      "Record: p164/p16442963/89328952/89328952 (reading data)\n",
      "   (missing signals)\n",
      "Record: p164/p16450343/87509018/87509018 (reading data)\n",
      "   (missing signals)\n",
      "Record: p165/p16547220/81902403/81902403 (reading data)\n",
      "   (missing signals)\n",
      "Record: p165/p16566444/80057524/80057524 (reading data)\n",
      " - Segment: 80057524_0000 (too short at 0.0 mins)\n",
      " - Segment: 80057524_0001 (long enough, but missing signal(s))\n",
      " - Segment: 80057524_0002 (too short at 0.6 mins)\n",
      " - Segment: 80057524_0003 (too short at 4.2 mins)\n",
      " - Segment: 80057524_0004 (too short at 0.7 mins)\n",
      " - Segment: 80057524_0005 (met requirements)\n",
      "Record: p165/p16587972/86803944/86803944 (reading data)\n",
      "   (missing signals)\n",
      "Record: p166/p16601928/88159741/88159741 (reading data)\n",
      "   (missing signals)\n",
      "Record: p166/p16644640/84209926/84209926 (reading data)\n",
      " - Segment: 84209926_0000 (too short at 0.0 mins)\n",
      " - Segment: 84209926_0001 (too short at 0.5 mins)\n",
      " - Segment: 84209926_0002 (too short at 0.2 mins)\n",
      " - Segment: 84209926_0003 (too short at 0.0 mins)\n",
      " - Segment: 84209926_0004 (too short at 0.1 mins)\n",
      " - Segment: 84209926_0005 (too short at 0.1 mins)\n",
      " - Segment: 84209926_0006 (too short at 0.0 mins)\n",
      " - Segment: 84209926_0007 (too short at 0.9 mins)\n",
      " - Segment: 84209926_0008 (long enough, but missing signal(s))\n",
      " - Segment: 84209926_0009 (too short at 0.3 mins)\n",
      " - Segment: 84209926_0010 (too short at 1.3 mins)\n",
      " - Segment: 84209926_0011 (too short at 0.1 mins)\n",
      " - Segment: 84209926_0012 (too short at 0.0 mins)\n",
      " - Segment: 84209926_0013 (too short at 0.0 mins)\n",
      " - Segment: 84209926_0014 (too short at 0.1 mins)\n",
      " - Segment: 84209926_0015 (long enough, but missing signal(s))\n",
      " - Segment: 84209926_0016 (too short at 4.7 mins)\n",
      " - Segment: 84209926_0017 (long enough, but missing signal(s))\n",
      " - Segment: 84209926_0018 (met requirements)\n",
      "Record: p166/p16645935/86666275/86666275 (reading data)\n",
      "   (missing signals)\n",
      "Record: p166/p16662288/83394240/83394240 (reading data)\n",
      "   (missing signals)\n",
      "Record: p166/p16683551/83349747/83349747 (reading data)\n",
      "   (missing signals)\n",
      "Record: p167/p16709726/83959636/83959636 (reading data)\n",
      " - Segment: 83959636_0000 (too short at 0.0 mins)\n",
      " - Segment: 83959636_0001 (too short at 0.0 mins)\n",
      " - Segment: 83959636_0002 (too short at 0.1 mins)\n",
      " - Segment: 83959636_0003 (too short at 6.3 mins)\n",
      " - Segment: 83959636_0004 (too short at 1.1 mins)\n",
      " - Segment: 83959636_0005 (too short at 0.9 mins)\n",
      " - Segment: 83959636_0006 (too short at 3.1 mins)\n",
      " - Segment: 83959636_0007 (too short at 1.7 mins)\n",
      " - Segment: 83959636_0008 (too short at 0.1 mins)\n",
      " - Segment: 83959636_0009 (too short at 0.0 mins)\n",
      " - Segment: 83959636_0010 (met requirements)\n",
      "Record: p167/p16715341/89989722/89989722 (reading data)\n",
      " - Segment: 89989722_0000 (too short at 0.0 mins)\n",
      " - Segment: 89989722_0001 (too short at 0.1 mins)\n",
      " - Segment: 89989722_0002 (too short at 2.3 mins)\n",
      " - Segment: 89989722_0003 (too short at 2.0 mins)\n",
      " - Segment: 89989722_0004 (too short at 9.6 mins)\n",
      " - Segment: 89989722_0005 (too short at 0.9 mins)\n",
      " - Segment: 89989722_0006 (too short at 2.9 mins)\n",
      " - Segment: 89989722_0007 (too short at 0.3 mins)\n",
      " - Segment: 89989722_0008 (too short at 0.5 mins)\n",
      " - Segment: 89989722_0009 (too short at 6.1 mins)\n",
      " - Segment: 89989722_0010 (too short at 0.3 mins)\n",
      " - Segment: 89989722_0011 (too short at 0.6 mins)\n",
      " - Segment: 89989722_0012 (too short at 0.4 mins)\n",
      " - Segment: 89989722_0013 (too short at 4.2 mins)\n",
      " - Segment: 89989722_0014 (too short at 1.2 mins)\n",
      " - Segment: 89989722_0015 (too short at 3.0 mins)\n",
      " - Segment: 89989722_0016 (met requirements)\n",
      "Record: p168/p16818396/89225487/89225487 (reading data)\n"
     ]
    },
    {
     "name": "stdout",
     "output_type": "stream",
     "text": [
      " - Segment: 89225487_0000 (too short at 0.0 mins)\n",
      " - Segment: 89225487_0001 (too short at 0.1 mins)\n",
      " - Segment: 89225487_0002 (too short at 7.4 mins)\n",
      " - Segment: 89225487_0003 (too short at 0.1 mins)\n",
      " - Segment: 89225487_0004 (too short at 0.1 mins)\n",
      " - Segment: 89225487_0005 (too short at 0.4 mins)\n",
      " - Segment: 89225487_0006 (too short at 0.1 mins)\n",
      " - Segment: 89225487_0007 (met requirements)\n",
      "Record: p168/p16820602/82493254/82493254 (reading data)\n",
      "   (missing signals)\n",
      "Record: p168/p16846280/83877081/83877081 (reading data)\n",
      "   (missing signals)\n",
      "Record: p168/p16848565/84917468/84917468 (reading data)\n",
      "   (missing signals)\n",
      "Record: p169/p16949991/88967754/88967754 (reading data)\n",
      "   (missing signals)\n",
      "Record: p169/p16955095/82284982/82284982 (reading data)\n",
      "   (missing signals)\n",
      "Record: p169/p16971339/87311151/87311151 (reading data)\n",
      "   (missing signals)\n",
      "Record: p170/p17032851/84391267/84391267 (reading data)\n",
      " - Segment: 84391267_0000 (too short at 0.0 mins)\n",
      " - Segment: 84391267_0001 (met requirements)\n",
      "Record: p171/p17107892/83439223/83439223 (reading data)\n",
      "   (missing signals)\n",
      "Record: p172/p17229504/80889556/80889556 (reading data)\n",
      " - Segment: 80889556_0000 (too short at 0.0 mins)\n",
      " - Segment: 80889556_0001 (too short at 0.6 mins)\n",
      " - Segment: 80889556_0002 (met requirements)\n",
      "Record: p173/p17301721/85250558/85250558 (reading data)\n",
      " - Segment: 85250558_0000 (too short at 0.0 mins)\n",
      " - Segment: 85250558_0001 (too short at 6.1 mins)\n",
      " - Segment: 85250558_0002 (too short at 0.0 mins)\n",
      " - Segment: 85250558_0003 (too short at 0.1 mins)\n",
      " - Segment: 85250558_0004 (too short at 8.1 mins)\n",
      " - Segment: 85250558_0005 (too short at 0.1 mins)\n",
      " - Segment: 85250558_0006 (too short at 3.0 mins)\n",
      " - Segment: 85250558_0007 (too short at 4.5 mins)\n",
      " - Segment: 85250558_0008 (too short at 0.1 mins)\n",
      " - Segment: 85250558_0009 (too short at 0.4 mins)\n",
      " - Segment: 85250558_0010 (too short at 0.2 mins)\n",
      " - Segment: 85250558_0011 (met requirements)\n",
      "Record: p173/p17325001/84567505/84567505 (reading data)\n",
      " - Segment: 84567505_0000 (too short at 0.0 mins)\n",
      " - Segment: 84567505_0001 (too short at 0.2 mins)\n",
      " - Segment: 84567505_0002 (too short at 0.1 mins)\n",
      " - Segment: 84567505_0003 (too short at 0.0 mins)\n",
      " - Segment: 84567505_0004 (too short at 0.4 mins)\n",
      " - Segment: 84567505_0005 (met requirements)\n",
      "Record: p174/p17413562/88976763/88976763 (reading data)\n",
      "   (missing signals)\n",
      "Record: p174/p17459141/80111237/80111237 (reading data)\n",
      "   (missing signals)\n",
      "Record: p174/p17488284/84486962/84486962 (reading data)\n",
      " - Segment: 84486962_0000 (too short at 0.0 mins)\n",
      " - Segment: 84486962_0001 (too short at 3.6 mins)\n",
      " - Segment: 84486962_0002 (too short at 0.5 mins)\n",
      " - Segment: 84486962_0003 (too short at 0.2 mins)\n",
      " - Segment: 84486962_0004 (too short at 0.0 mins)\n",
      " - Segment: 84486962_0005 (too short at 0.1 mins)\n",
      " - Segment: 84486962_0006 (too short at 0.4 mins)\n",
      " - Segment: 84486962_0007 (too short at 0.3 mins)\n",
      " - Segment: 84486962_0008 (too short at 0.5 mins)\n",
      " - Segment: 84486962_0009 (long enough, but missing signal(s))\n",
      " - Segment: 84486962_0010 (long enough, but missing signal(s))\n",
      " - Segment: 84486962_0011 (long enough, but missing signal(s))\n",
      " - Segment: 84486962_0012 (long enough, but missing signal(s))\n",
      " - Segment: 84486962_0013 (long enough, but missing signal(s))\n",
      " - Segment: 84486962_0014 (long enough, but missing signal(s))\n",
      " - Segment: 84486962_0015 (too short at 0.1 mins)\n",
      " - Segment: 84486962_0016 (too short at 0.2 mins)\n",
      " - Segment: 84486962_0017 (long enough, but missing signal(s))\n",
      " - Segment: 84486962_0018 (long enough, but missing signal(s))\n",
      " - Segment: 84486962_0019 (long enough, but missing signal(s))\n",
      " - Segment: 84486962_0020 (long enough, but missing signal(s))\n",
      " - Segment: 84486962_0021 (long enough, but missing signal(s))\n",
      " - Segment: 84486962_0022 (too short at 0.2 mins)\n",
      " - Segment: 84486962_0023 (long enough, but missing signal(s))\n",
      " - Segment: 84486962_0024 (too short at 0.1 mins)\n",
      " - Segment: 84486962_0025 (long enough, but missing signal(s))\n",
      " - Segment: 84486962_0026 (long enough, but missing signal(s))\n",
      " - Segment: 84486962_0027 (long enough, but missing signal(s))\n",
      " - Segment: 84486962_0028 (too short at 0.1 mins)\n",
      " - Segment: 84486962_0029 (too short at 0.9 mins)\n",
      " - Segment: 84486962_0030 (long enough, but missing signal(s))\n",
      " - Segment: 84486962_0031 (long enough, but missing signal(s))\n",
      " - Segment: 84486962_0032 (long enough, but missing signal(s))\n",
      " - Segment: 84486962_0033 (long enough, but missing signal(s))\n",
      "Record: p174/p17490822/85814172/85814172 (reading data)\n",
      " - Segment: 85814172_0000 (too short at 0.0 mins)\n",
      " - Segment: 85814172_0001 (too short at 2.1 mins)\n",
      " - Segment: 85814172_0002 (too short at 0.4 mins)\n",
      " - Segment: 85814172_0003 (long enough, but missing signal(s))\n",
      " - Segment: 85814172_0004 (long enough, but missing signal(s))\n",
      " - Segment: 85814172_0005 (too short at 0.4 mins)\n",
      " - Segment: 85814172_0006 (long enough, but missing signal(s))\n",
      " - Segment: 85814172_0007 (met requirements)\n",
      "Record: p175/p17549883/88582885/88582885 (reading data)\n",
      "   (missing signals)\n",
      "Record: p175/p17578102/83863589/83863589 (reading data)\n",
      "   (missing signals)\n",
      "Record: p177/p17701063/88788921/88788921 (reading data)\n",
      "   (missing signals)\n",
      "Record: p177/p17708869/84580526/84580526 (reading data)\n",
      "   (missing signals)\n",
      "Record: p177/p17738824/88884866/88884866 (reading data)\n",
      " - Segment: 88884866_0000 (too short at 0.0 mins)\n",
      " - Segment: 88884866_0001 (too short at 9.6 mins)\n",
      " - Segment: 88884866_0002 (too short at 0.0 mins)\n",
      " - Segment: 88884866_0003 (too short at 0.1 mins)\n",
      " - Segment: 88884866_0004 (long enough, but missing signal(s))\n",
      " - Segment: 88884866_0005 (met requirements)\n",
      "Record: p177/p17744715/80497954/80497954 (reading data)\n",
      " - Segment: 80497954_0000 (too short at 0.0 mins)\n",
      " - Segment: 80497954_0001 (too short at 0.5 mins)\n",
      " - Segment: 80497954_0002 (too short at 0.1 mins)\n",
      " - Segment: 80497954_0003 (too short at 0.0 mins)\n",
      " - Segment: 80497954_0004 (too short at 0.5 mins)\n",
      " - Segment: 80497954_0005 (too short at 0.1 mins)\n",
      " - Segment: 80497954_0006 (too short at 0.0 mins)\n",
      " - Segment: 80497954_0007 (too short at 0.3 mins)\n",
      " - Segment: 80497954_0008 (too short at 0.1 mins)\n",
      " - Segment: 80497954_0009 (too short at 0.0 mins)\n",
      " - Segment: 80497954_0010 (too short at 5.5 mins)\n",
      " - Segment: 80497954_0011 (too short at 0.1 mins)\n",
      " - Segment: 80497954_0012 (met requirements)\n",
      "Record: p178/p17802132/86917206/86917206 (reading data)\n",
      "   (missing signals)\n",
      "Record: p178/p17818849/84786832/84786832 (reading data)\n",
      "   (missing signals)\n",
      "Record: p179/p17957832/80666640/80666640 (reading data)\n",
      " - Segment: 80666640_0000 (too short at 0.0 mins)\n",
      " - Segment: 80666640_0001 (too short at 3.2 mins)\n",
      " - Segment: 80666640_0002 (too short at 0.2 mins)\n",
      " - Segment: 80666640_0003 (too short at 0.0 mins)\n",
      " - Segment: 80666640_0004 (too short at 0.4 mins)\n",
      " - Segment: 80666640_0005 (too short at 0.1 mins)\n",
      " - Segment: 80666640_0006 (too short at 0.0 mins)\n",
      " - Segment: 80666640_0007 (too short at 1.5 mins)\n",
      " - Segment: 80666640_0008 (too short at 1.7 mins)\n",
      " - Segment: 80666640_0009 (too short at 0.1 mins)\n",
      " - Segment: 80666640_0010 (too short at 0.0 mins)\n",
      " - Segment: 80666640_0011 (too short at 0.1 mins)\n",
      " - Segment: 80666640_0012 (too short at 0.1 mins)\n",
      " - Segment: 80666640_0013 (too short at 1.5 mins)\n",
      " - Segment: 80666640_0014 (met requirements)\n",
      "Record: p179/p17973277/83801243/83801243 (reading data)\n",
      " - Segment: 83801243_0000 (too short at 0.0 mins)\n",
      " - Segment: 83801243_0001 (too short at 0.6 mins)\n",
      " - Segment: 83801243_0002 (too short at 0.2 mins)\n",
      " - Segment: 83801243_0003 (too short at 4.0 mins)\n",
      " - Segment: 83801243_0004 (too short at 0.1 mins)\n",
      " - Segment: 83801243_0005 (too short at 0.0 mins)\n",
      " - Segment: 83801243_0006 (too short at 0.9 mins)\n",
      " - Segment: 83801243_0007 (long enough, but missing signal(s))\n",
      " - Segment: 83801243_0008 (too short at 8.2 mins)\n",
      " - Segment: 83801243_0009 (long enough, but missing signal(s))\n",
      " - Segment: 83801243_0010 (long enough, but missing signal(s))\n",
      " - Segment: 83801243_0011 (too short at 0.8 mins)\n",
      " - Segment: 83801243_0012 (long enough, but missing signal(s))\n",
      " - Segment: 83801243_0013 (too short at 0.1 mins)\n",
      " - Segment: 83801243_0014 (long enough, but missing signal(s))\n",
      " - Segment: 83801243_0015 (too short at 0.1 mins)\n",
      " - Segment: 83801243_0016 (long enough, but missing signal(s))\n",
      " - Segment: 83801243_0017 (long enough, but missing signal(s))\n",
      " - Segment: 83801243_0018 (too short at 0.1 mins)\n",
      " - Segment: 83801243_0019 (long enough, but missing signal(s))\n",
      " - Segment: 83801243_0020 (too short at 0.1 mins)\n",
      " - Segment: 83801243_0021 (too short at 8.6 mins)\n",
      " - Segment: 83801243_0022 (too short at 0.1 mins)\n",
      " - Segment: 83801243_0023 (too short at 1.5 mins)\n",
      " - Segment: 83801243_0024 (too short at 0.1 mins)\n",
      " - Segment: 83801243_0025 (long enough, but missing signal(s))\n",
      " - Segment: 83801243_0026 (too short at 0.1 mins)\n",
      " - Segment: 83801243_0027 (long enough, but missing signal(s))\n",
      " - Segment: 83801243_0028 (too short at 0.1 mins)\n",
      " - Segment: 83801243_0029 (too short at 0.3 mins)\n",
      " - Segment: 83801243_0030 (too short at 5.7 mins)\n",
      " - Segment: 83801243_0031 (too short at 0.1 mins)\n",
      " - Segment: 83801243_0032 (too short at 1.4 mins)\n",
      " - Segment: 83801243_0033 (too short at 7.0 mins)\n",
      " - Segment: 83801243_0034 (too short at 0.1 mins)\n",
      " - Segment: 83801243_0035 (too short at 3.5 mins)\n",
      " - Segment: 83801243_0036 (too short at 5.1 mins)\n",
      " - Segment: 83801243_0037 (too short at 1.1 mins)\n",
      " - Segment: 83801243_0038 (too short at 2.3 mins)\n",
      " - Segment: 83801243_0039 (too short at 9.3 mins)\n",
      " - Segment: 83801243_0040 (too short at 7.3 mins)\n",
      " - Segment: 83801243_0041 (too short at 0.1 mins)\n",
      " - Segment: 83801243_0042 (too short at 5.0 mins)\n",
      " - Segment: 83801243_0043 (too short at 6.1 mins)\n",
      " - Segment: 83801243_0044 (too short at 0.1 mins)\n",
      " - Segment: 83801243_0045 (long enough, but missing signal(s))\n",
      " - Segment: 83801243_0046 (too short at 0.4 mins)\n",
      " - Segment: 83801243_0047 (too short at 0.5 mins)\n",
      " - Segment: 83801243_0048 (too short at 0.1 mins)\n",
      " - Segment: 83801243_0049 (too short at 0.3 mins)\n",
      " - Segment: 83801243_0050 (too short at 4.4 mins)\n",
      " - Segment: 83801243_0051 (long enough, but missing signal(s))\n",
      " - Segment: 83801243_0052 (too short at 0.1 mins)\n",
      " - Segment: 83801243_0053 (too short at 0.3 mins)\n",
      " - Segment: 83801243_0054 (long enough, but missing signal(s))\n",
      " - Segment: 83801243_0055 (too short at 0.1 mins)\n",
      " - Segment: 83801243_0056 (long enough, but missing signal(s))\n",
      " - Segment: 83801243_0057 (too short at 0.3 mins)\n",
      " - Segment: 83801243_0058 (long enough, but missing signal(s))\n",
      " - Segment: 83801243_0059 (too short at 0.1 mins)\n",
      " - Segment: 83801243_0060 (too short at 0.2 mins)\n",
      " - Segment: 83801243_0061 (too short at 0.1 mins)\n",
      " - Segment: 83801243_0062 (too short at 0.9 mins)\n",
      " - Segment: 83801243_0063 (long enough, but missing signal(s))\n",
      " - Segment: 83801243_0064 (too short at 0.3 mins)\n",
      "Record: p180/p18011649/83973028/83973028 (reading data)\n",
      "   (missing signals)\n",
      "Record: p180/p18034077/88626898/88626898 (reading data)\n",
      "   (missing signals)\n",
      "Record: p180/p18080257/84939605/84939605 (reading data)\n",
      " - Segment: 84939605_0000 (too short at 0.0 mins)\n",
      " - Segment: 84939605_0001 (too short at 1.0 mins)\n",
      " - Segment: 84939605_0002 (too short at 0.7 mins)\n",
      " - Segment: 84939605_0003 (too short at 2.1 mins)\n",
      " - Segment: 84939605_0004 (met requirements)\n",
      "Record: p181/p18109577/82141753/82141753 (reading data)\n",
      " - Segment: 82141753_0000 (too short at 0.0 mins)\n",
      " - Segment: 82141753_0001 (too short at 0.7 mins)\n",
      " - Segment: 82141753_0002 (too short at 0.2 mins)\n",
      " - Segment: 82141753_0003 (too short at 0.1 mins)\n",
      " - Segment: 82141753_0004 (too short at 0.2 mins)\n",
      " - Segment: 82141753_0005 (too short at 0.0 mins)\n",
      " - Segment: 82141753_0006 (too short at 0.0 mins)\n",
      " - Segment: 82141753_0007 (too short at 0.7 mins)\n",
      " - Segment: 82141753_0008 (too short at 3.0 mins)\n",
      " - Segment: 82141753_0009 (too short at 0.1 mins)\n",
      " - Segment: 82141753_0010 (too short at 5.0 mins)\n",
      " - Segment: 82141753_0011 (long enough, but missing signal(s))\n",
      " - Segment: 82141753_0012 (long enough, but missing signal(s))\n",
      " - Segment: 82141753_0013 (long enough, but missing signal(s))\n",
      " - Segment: 82141753_0014 (too short at 3.3 mins)\n",
      " - Segment: 82141753_0015 (long enough, but missing signal(s))\n",
      " - Segment: 82141753_0016 (long enough, but missing signal(s))\n",
      " - Segment: 82141753_0017 (too short at 0.3 mins)\n",
      " - Segment: 82141753_0018 (met requirements)\n",
      "Record: p181/p18111015/86297093/86297093 (reading data)\n",
      "   (missing signals)\n",
      "Record: p181/p18195790/89743206/89743206 (reading data)\n",
      "   (missing signals)\n",
      "Record: p183/p18324626/86874920/86874920 (reading data)\n",
      " - Segment: 86874920_0000 (too short at 0.0 mins)\n",
      " - Segment: 86874920_0001 (too short at 0.1 mins)\n",
      " - Segment: 86874920_0002 (too short at 4.0 mins)\n",
      " - Segment: 86874920_0003 (too short at 0.4 mins)\n",
      " - Segment: 86874920_0004 (too short at 1.7 mins)\n",
      " - Segment: 86874920_0005 (too short at 0.1 mins)\n",
      " - Segment: 86874920_0006 (too short at 0.0 mins)\n",
      " - Segment: 86874920_0007 (too short at 0.3 mins)\n",
      " - Segment: 86874920_0008 (too short at 0.1 mins)\n",
      " - Segment: 86874920_0009 (too short at 0.0 mins)\n",
      " - Segment: 86874920_0010 (too short at 0.2 mins)\n",
      " - Segment: 86874920_0011 (too short at 1.2 mins)\n",
      " - Segment: 86874920_0012 (long enough, but missing signal(s))\n",
      " - Segment: 86874920_0013 (too short at 0.9 mins)\n",
      " - Segment: 86874920_0014 (met requirements)\n",
      "Record: p184/p18423403/84261835/84261835 (reading data)\n",
      "   (missing signals)\n",
      "Record: p184/p18455165/85888407/85888407 (reading data)\n",
      "   (missing signals)\n",
      "Record: p184/p18466737/89821554/89821554 (reading data)\n",
      "   (missing signals)\n",
      "Record: p185/p18573443/85263057/85263057 (reading data)\n",
      "   (missing signals)\n",
      "Record: p186/p18667552/81139702/81139702 (reading data)\n",
      "   (missing signals)\n",
      "Record: p187/p18700695/81937383/81937383 (reading data)\n",
      " - Segment: 81937383_0000 (too short at 0.0 mins)\n",
      " - Segment: 81937383_0001 (long enough, but missing signal(s))\n",
      " - Segment: 81937383_0002 (too short at 0.3 mins)\n",
      " - Segment: 81937383_0003 (too short at 3.0 mins)\n",
      " - Segment: 81937383_0004 (too short at 0.8 mins)\n",
      " - Segment: 81937383_0005 (too short at 6.3 mins)\n",
      " - Segment: 81937383_0006 (too short at 0.2 mins)\n",
      " - Segment: 81937383_0007 (too short at 0.5 mins)\n",
      " - Segment: 81937383_0008 (too short at 1.6 mins)\n",
      " - Segment: 81937383_0009 (too short at 0.3 mins)\n",
      " - Segment: 81937383_0010 (too short at 6.3 mins)\n",
      " - Segment: 81937383_0011 (too short at 0.2 mins)\n",
      " - Segment: 81937383_0012 (too short at 0.3 mins)\n",
      " - Segment: 81937383_0013 (long enough, but missing signal(s))\n",
      " - Segment: 81937383_0014 (too short at 1.2 mins)\n",
      " - Segment: 81937383_0015 (long enough, but missing signal(s))\n",
      " - Segment: 81937383_0016 (too short at 2.5 mins)\n",
      " - Segment: 81937383_0017 (too short at 0.1 mins)\n",
      " - Segment: 81937383_0018 (too short at 0.6 mins)\n",
      " - Segment: 81937383_0019 (too short at 1.5 mins)\n",
      " - Segment: 81937383_0020 (too short at 1.6 mins)\n",
      " - Segment: 81937383_0021 (long enough, but missing signal(s))\n",
      " - Segment: 81937383_0022 (too short at 5.5 mins)\n",
      " - Segment: 81937383_0023 (long enough, but missing signal(s))\n",
      " - Segment: 81937383_0024 (too short at 0.1 mins)\n",
      " - Segment: 81937383_0025 (long enough, but missing signal(s))\n",
      " - Segment: 81937383_0026 (too short at 0.2 mins)\n",
      " - Segment: 81937383_0027 (long enough, but missing signal(s))\n",
      " - Segment: 81937383_0028 (long enough, but missing signal(s))\n",
      " - Segment: 81937383_0029 (long enough, but missing signal(s))\n",
      " - Segment: 81937383_0030 (too short at 1.5 mins)\n",
      " - Segment: 81937383_0031 (too short at 1.0 mins)\n",
      " - Segment: 81937383_0032 (too short at 4.9 mins)\n",
      " - Segment: 81937383_0033 (too short at 0.6 mins)\n",
      " - Segment: 81937383_0034 (too short at 3.1 mins)\n",
      " - Segment: 81937383_0035 (too short at 0.5 mins)\n",
      " - Segment: 81937383_0036 (long enough, but missing signal(s))\n",
      " - Segment: 81937383_0037 (too short at 0.1 mins)\n",
      " - Segment: 81937383_0038 (long enough, but missing signal(s))\n",
      " - Segment: 81937383_0039 (long enough, but missing signal(s))\n",
      " - Segment: 81937383_0040 (too short at 0.6 mins)\n",
      " - Segment: 81937383_0041 (too short at 6.7 mins)\n",
      " - Segment: 81937383_0042 (too short at 0.3 mins)\n",
      " - Segment: 81937383_0043 (long enough, but missing signal(s))\n",
      " - Segment: 81937383_0044 (too short at 0.3 mins)\n",
      " - Segment: 81937383_0045 (long enough, but missing signal(s))\n",
      " - Segment: 81937383_0046 (long enough, but missing signal(s))\n",
      " - Segment: 81937383_0047 (too short at 0.1 mins)\n",
      " - Segment: 81937383_0048 (long enough, but missing signal(s))\n"
     ]
    },
    {
     "name": "stdout",
     "output_type": "stream",
     "text": [
      " - Segment: 81937383_0049 (too short at 0.2 mins)\n",
      " - Segment: 81937383_0050 (long enough, but missing signal(s))\n",
      " - Segment: 81937383_0051 (too short at 0.1 mins)\n",
      " - Segment: 81937383_0052 (long enough, but missing signal(s))\n",
      " - Segment: 81937383_0053 (too short at 4.4 mins)\n",
      "Record: p187/p18709273/88457020/88457020 (reading data)\n",
      "   (missing signals)\n",
      "Record: p187/p18742074/84505262/84505262 (reading data)\n",
      " - Segment: 84505262_0000 (too short at 0.0 mins)\n",
      " - Segment: 84505262_0001 (too short at 0.1 mins)\n",
      " - Segment: 84505262_0002 (too short at 0.1 mins)\n",
      " - Segment: 84505262_0003 (too short at 0.1 mins)\n",
      " - Segment: 84505262_0004 (too short at 0.0 mins)\n",
      " - Segment: 84505262_0005 (too short at 0.1 mins)\n",
      " - Segment: 84505262_0006 (too short at 0.1 mins)\n",
      " - Segment: 84505262_0007 (too short at 0.0 mins)\n",
      " - Segment: 84505262_0008 (too short at 0.1 mins)\n",
      " - Segment: 84505262_0009 (too short at 1.4 mins)\n",
      " - Segment: 84505262_0010 (met requirements)\n",
      "Record: p187/p18768904/82650643/82650643 (reading data)\n",
      "   (missing signals)\n",
      "Record: p187/p18790258/85940419/85940419 (reading data)\n",
      "   (missing signals)\n",
      "Record: p187/p18790977/87554500/87554500 (reading data)\n",
      "   (missing signals)\n",
      "Record: p188/p18824975/86288257/86288257 (reading data)\n",
      " - Segment: 86288257_0000 (too short at 0.0 mins)\n",
      " - Segment: 86288257_0001 (met requirements)\n",
      "Record: p188/p18881392/85145725/85145725 (reading data)\n",
      "   (missing signals)\n",
      "Record: p189/p18981843/86164656/86164656 (reading data)\n",
      "   (missing signals)\n",
      "Record: p190/p19052042/84601191/84601191 (reading data)\n",
      "   (missing signals)\n",
      "Record: p191/p19126489/89699401/89699401 (reading data)\n",
      " - Segment: 89699401_0000 (too short at 0.0 mins)\n",
      " - Segment: 89699401_0001 (met requirements)\n",
      "Record: p192/p19290410/81362381/81362381 (reading data)\n",
      "   (missing signals)\n",
      "Record: p193/p19305085/87468061/87468061 (reading data)\n",
      "   (missing signals)\n",
      "Record: p193/p19313794/88537698/88537698 (reading data)\n",
      " - Segment: 88537698_0000 (too short at 0.0 mins)\n",
      " - Segment: 88537698_0001 (too short at 0.6 mins)\n",
      " - Segment: 88537698_0002 (too short at 0.2 mins)\n",
      " - Segment: 88537698_0003 (too short at 0.1 mins)\n",
      " - Segment: 88537698_0004 (too short at 0.5 mins)\n",
      " - Segment: 88537698_0005 (too short at 0.1 mins)\n",
      " - Segment: 88537698_0006 (too short at 0.0 mins)\n",
      " - Segment: 88537698_0007 (too short at 0.1 mins)\n",
      " - Segment: 88537698_0008 (too short at 5.0 mins)\n",
      " - Segment: 88537698_0009 (too short at 0.8 mins)\n",
      " - Segment: 88537698_0010 (too short at 0.3 mins)\n",
      " - Segment: 88537698_0011 (long enough, but missing signal(s))\n",
      " - Segment: 88537698_0012 (too short at 6.7 mins)\n",
      " - Segment: 88537698_0013 (met requirements)\n",
      "Record: p193/p19396598/82093805/82093805 (reading data)\n",
      "   (missing signals)\n",
      "Record: p194/p19477300/86239129/86239129 (reading data)\n",
      "   (missing signals)\n",
      "Record: p194/p19498855/81594095/81594095 (reading data)\n",
      "   (missing signals)\n",
      "Record: p195/p19504755/85059986/85059986 (reading data)\n",
      "   (missing signals)\n",
      "Record: p196/p19619764/83958172/83958172 (reading data)\n",
      " - Segment: 83958172_0000 (too short at 0.0 mins)\n",
      " - Segment: 83958172_0001 (met requirements)\n",
      "Record: p196/p19646228/87340466/87340466 (reading data)\n",
      "   (missing signals)\n",
      "Record: p196/p19664876/86315854/86315854 (reading data)\n",
      "   (missing signals)\n",
      "Record: p197/p19706392/89657546/89657546 (reading data)\n",
      "   (missing signals)\n",
      "Record: p197/p19772551/83530581/83530581 (reading data)\n",
      "   (missing signals)\n",
      "Record: p199/p19918916/89922194/89922194 (reading data)\n",
      "   (missing signals)\n",
      "Record: p199/p19979360/89865959/89865959 (reading data)\n",
      "   (missing signals)\n",
      "Record: p199/p19994379/87407093/87407093 (reading data)\n",
      "   (missing signals)\n",
      "A total of 52 records met the requirements:\n"
     ]
    }
   ],
   "source": [
    "matching_recs = {'dir':[],'seg_name':[],'length':[]}\n",
    "for record in records:\n",
    "    print('Record: {}'.format(record), end=\"\", flush=True)\n",
    "    record_dir = f'{database_name}/{record.parent}'\n",
    "    record_name = record.name\n",
    "    print(' (reading data)')\n",
    "    record_data = wfdb.rdheader(record_name, pn_dir=record_dir, rd_segments=True)\n",
    "    # Check whether all the required signals are present in the record\n",
    "    sigs_present = record_data.sig_name\n",
    "    if not all(x in sigs_present for x in required_sigs):\n",
    "        print('   (missing signals)')\n",
    "        continue\n",
    "    # Get the segments for the record\n",
    "    segments = record_data.seg_name\n",
    "    # First check to see if the segment is 10 min long, if not move onto the next one\n",
    "    gen = (segment for segment in segments if segment != '~')\n",
    "    for segment in gen:\n",
    "        print(' - Segment: {}'.format(segment), end=\"\", flush=True)\n",
    "        segment_metadata = wfdb.rdheader(record_name=segment, pn_dir=record_dir)\n",
    "        seg_length = segment_metadata.sig_len/(segment_metadata.fs)\n",
    "        if seg_length < req_seg_duration:\n",
    "            print(' (too short at {:.1f} mins)'.format(seg_length/60))\n",
    "            continue\n",
    "        # Next check that all required signals are present in the segment\n",
    "        sigs_present = segment_metadata.sig_name\n",
    "        \n",
    "        if all(x in sigs_present for x in required_sigs):\n",
    "            matching_recs['dir'].append(record_dir)\n",
    "            matching_recs['seg_name'].append(segment)\n",
    "            matching_recs['length'].append(seg_length)\n",
    "            print(' (met requirements)')\n",
    "            # Since we only need one segment per record break out of loop\n",
    "            break\n",
    "        else:\n",
    "            print(' (long enough, but missing signal(s))')\n",
    "\n",
    "print(\"A total of {} records met the requirements:\".format(len(matching_recs['dir'])))\n",
    "#df_matching_recs = pd.DataFrame(data=matching_recs)\n",
    "#df_matching_recs.to_csv('matching_records.csv', index=False)\n",
    "#p=1"
   ]
  },
  {
   "cell_type": "code",
   "execution_count": 56,
   "id": "75ec15f4",
   "metadata": {},
   "outputs": [
    {
     "name": "stdout",
     "output_type": "stream",
     "text": [
      "A total of 52 out of 200 records met the requirements.\n",
      "\n",
      "The relevant segment names are:\n",
      "['83404654_0005', '82924339_0007', '84248019_0005', '82439920_0004', '82800131_0002', '84304393_0001', '89464742_0001', '88958796_0004', '88995377_0001', '85230771_0004', '86643930_0004', '81250824_0005', '87706224_0003', '83058614_0005', '82803505_0017', '88574629_0001', '87867111_0012', '84560969_0001', '87562386_0001', '88685937_0001', '86120311_0001', '89866183_0014', '89068160_0002', '86380383_0001', '85078610_0008', '87702634_0007', '84686667_0002', '84802706_0002', '81811182_0004', '84421559_0005', '88221516_0007', '80057524_0005', '84209926_0018', '83959636_0010', '89989722_0016', '89225487_0007', '84391267_0001', '80889556_0002', '85250558_0011', '84567505_0005', '85814172_0007', '88884866_0005', '80497954_0012', '80666640_0014', '84939605_0004', '82141753_0018', '86874920_0014', '84505262_0010', '86288257_0001', '89699401_0001', '88537698_0013', '83958172_0001']\n",
      "\n",
      "The corresponding directories are:\n",
      "['mimic4wdb/0.1.0/p100/p10020306/83404654', 'mimic4wdb/0.1.0/p101/p10126957/82924339', 'mimic4wdb/0.1.0/p102/p10209410/84248019', 'mimic4wdb/0.1.0/p109/p10952189/82439920', 'mimic4wdb/0.1.0/p111/p11109975/82800131', 'mimic4wdb/0.1.0/p113/p11392990/84304393', 'mimic4wdb/0.1.0/p121/p12168037/89464742', 'mimic4wdb/0.1.0/p121/p12173569/88958796', 'mimic4wdb/0.1.0/p121/p12188288/88995377', 'mimic4wdb/0.1.0/p128/p12872596/85230771', 'mimic4wdb/0.1.0/p129/p12933208/86643930', 'mimic4wdb/0.1.0/p130/p13016481/81250824', 'mimic4wdb/0.1.0/p132/p13240081/87706224', 'mimic4wdb/0.1.0/p136/p13624686/83058614', 'mimic4wdb/0.1.0/p137/p13791821/82803505', 'mimic4wdb/0.1.0/p141/p14191565/88574629', 'mimic4wdb/0.1.0/p142/p14285792/87867111', 'mimic4wdb/0.1.0/p143/p14356077/84560969', 'mimic4wdb/0.1.0/p143/p14363499/87562386', 'mimic4wdb/0.1.0/p146/p14695840/88685937', 'mimic4wdb/0.1.0/p149/p14931547/86120311', 'mimic4wdb/0.1.0/p151/p15174162/89866183', 'mimic4wdb/0.1.0/p153/p15312343/89068160', 'mimic4wdb/0.1.0/p153/p15342703/86380383', 'mimic4wdb/0.1.0/p155/p15552902/85078610', 'mimic4wdb/0.1.0/p156/p15649186/87702634', 'mimic4wdb/0.1.0/p158/p15857793/84686667', 'mimic4wdb/0.1.0/p158/p15865327/84802706', 'mimic4wdb/0.1.0/p158/p15896656/81811182', 'mimic4wdb/0.1.0/p159/p15920699/84421559', 'mimic4wdb/0.1.0/p160/p16034243/88221516', 'mimic4wdb/0.1.0/p165/p16566444/80057524', 'mimic4wdb/0.1.0/p166/p16644640/84209926', 'mimic4wdb/0.1.0/p167/p16709726/83959636', 'mimic4wdb/0.1.0/p167/p16715341/89989722', 'mimic4wdb/0.1.0/p168/p16818396/89225487', 'mimic4wdb/0.1.0/p170/p17032851/84391267', 'mimic4wdb/0.1.0/p172/p17229504/80889556', 'mimic4wdb/0.1.0/p173/p17301721/85250558', 'mimic4wdb/0.1.0/p173/p17325001/84567505', 'mimic4wdb/0.1.0/p174/p17490822/85814172', 'mimic4wdb/0.1.0/p177/p17738824/88884866', 'mimic4wdb/0.1.0/p177/p17744715/80497954', 'mimic4wdb/0.1.0/p179/p17957832/80666640', 'mimic4wdb/0.1.0/p180/p18080257/84939605', 'mimic4wdb/0.1.0/p181/p18109577/82141753', 'mimic4wdb/0.1.0/p183/p18324626/86874920', 'mimic4wdb/0.1.0/p187/p18742074/84505262', 'mimic4wdb/0.1.0/p188/p18824975/86288257', 'mimic4wdb/0.1.0/p191/p19126489/89699401', 'mimic4wdb/0.1.0/p193/p19313794/88537698', 'mimic4wdb/0.1.0/p196/p19619764/83958172']\n"
     ]
    }
   ],
   "source": [
    "print(\"A total of {} out of {} records met the requirements.\".format(len(matching_recs['dir']), len(records)))\n",
    "print(\"\\nThe relevant segment names are:\")\n",
    "print(matching_recs['seg_name'])\n",
    "print(\"\\nThe corresponding directories are:\")\n",
    "print(matching_recs['dir'])\n"
   ]
  },
  {
   "cell_type": "code",
   "execution_count": null,
   "id": "79f0bc15",
   "metadata": {},
   "outputs": [],
   "source": []
  }
 ],
 "metadata": {
  "kernelspec": {
   "display_name": "Python 3",
   "language": "python",
   "name": "python3"
  },
  "language_info": {
   "codemirror_mode": {
    "name": "ipython",
    "version": 3
   },
   "file_extension": ".py",
   "mimetype": "text/x-python",
   "name": "python",
   "nbconvert_exporter": "python",
   "pygments_lexer": "ipython3",
   "version": "3.8.8"
  },
  "toc": {
   "base_numbering": 1,
   "nav_menu": {},
   "number_sections": true,
   "sideBar": true,
   "skip_h1_title": true,
   "title_cell": "Table of Contents",
   "title_sidebar": "Contents",
   "toc_cell": false,
   "toc_position": {
    "height": "calc(100% - 180px)",
    "left": "10px",
    "top": "150px",
    "width": "306px"
   },
   "toc_section_display": true,
   "toc_window_display": false
  }
 },
 "nbformat": 4,
 "nbformat_minor": 5
}
