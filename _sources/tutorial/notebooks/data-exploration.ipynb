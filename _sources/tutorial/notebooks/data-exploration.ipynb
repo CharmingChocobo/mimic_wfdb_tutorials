{
 "cells": [
  {
   "cell_type": "markdown",
   "id": "5d037743",
   "metadata": {},
   "source": [
    "# Data Exploration\n",
    "\n",
    "Exploring MIMIC waveform data.\n",
    "\n",
    "## Identify records\n",
    "\n",
    "Identify the records in the [MIMIC III Waveform Database](https://doi.org/10.13026/c2607m)\n",
    "\n",
    "### Specify the required Python packages\n",
    "- The WFDB package is imported using `import wfdb`"
   ]
  },
  {
   "cell_type": "code",
   "execution_count": 60,
   "id": "ce3cdfde",
   "metadata": {},
   "outputs": [],
   "source": [
    "# Setup\n",
    "import sys\n",
    "import wfdb # The WFDB Toolbox"
   ]
  },
  {
   "cell_type": "markdown",
   "id": "b476f9b7",
   "metadata": {},
   "source": [
    "### Get a list of records in the database\n",
    "- Use the [`get_record_list`](https://wfdb.readthedocs.io/en/latest/io.html#wfdb.io.get_record_list) function from the WFDB toolbox to get a list of records in the database."
   ]
  },
  {
   "cell_type": "code",
   "execution_count": 69,
   "id": "e2d42258",
   "metadata": {},
   "outputs": [
    {
     "name": "stdout",
     "output_type": "stream",
     "text": [
      "Done: Loaded list of 67830 records for 'mimic3wdb' database\n"
     ]
    }
   ],
   "source": [
    "database_name = 'mimic3wdb' # The name of the MIMIC III Waveform Database on Physionet (see URL: https://physionet.org/content/mimic3wdb/)\n",
    "records = wfdb.get_record_list(database_name)\n",
    "print(\"Done: Loaded list of {} records for '{}' database\".format(len(records), database_name))"
   ]
  },
  {
   "cell_type": "markdown",
   "id": "29552f5a",
   "metadata": {},
   "source": [
    "- Display the first few records"
   ]
  },
  {
   "cell_type": "code",
   "execution_count": 62,
   "id": "bb5745a7",
   "metadata": {},
   "outputs": [
    {
     "name": "stdout",
     "output_type": "stream",
     "text": [
      "First ten records: ['30/3000003/', '30/3000031/', '30/3000051/', '30/3000060/', '30/3000063/', '30/3000065/', '30/3000086/', '30/3000100/', '30/3000103/', '30/3000105/']\n"
     ]
    }
   ],
   "source": [
    "print(\"First ten records: {}\".format(records[0:10]))\n",
    "# you could also try: print(\"Last ten records: {}\".format(records[-10:]))"
   ]
  },
  {
   "cell_type": "markdown",
   "id": "30b96273",
   "metadata": {},
   "source": [
    "_Note the formatting of these records: each starts with an intermediate directory ('30' in this case), followed by a record directory._"
   ]
  },
  {
   "cell_type": "markdown",
   "id": "cb21a93b",
   "metadata": {},
   "source": [
    "## Extract metadata for a record"
   ]
  },
  {
   "cell_type": "markdown",
   "id": "c39dc9f3",
   "metadata": {},
   "source": [
    "Each record contains metadata stored in a \".hea\" file."
   ]
  },
  {
   "cell_type": "markdown",
   "id": "3b2e6adb",
   "metadata": {},
   "source": [
    "### Specify the online directory containing a record's data"
   ]
  },
  {
   "cell_type": "code",
   "execution_count": 63,
   "id": "86eed39f",
   "metadata": {},
   "outputs": [
    {
     "name": "stdout",
     "output_type": "stream",
     "text": [
      "Physionet directory specified for this record: mimic3wdb/30/3000003/\n"
     ]
    }
   ],
   "source": [
    "record_no = 0 # specify the first record (noting that in Python the first index is 0)\n",
    "record_dir = database_name + '/' + records[record_no]\n",
    "print(\"Physionet directory specified for this record: {}\".format(record_dir))"
   ]
  },
  {
   "cell_type": "markdown",
   "id": "b5220ad3",
   "metadata": {},
   "source": [
    "### Specify the name of the record"
   ]
  },
  {
   "cell_type": "code",
   "execution_count": 64,
   "id": "b4bc247b",
   "metadata": {},
   "outputs": [
    {
     "name": "stdout",
     "output_type": "stream",
     "text": [
      "Record name: 3000003\n"
     ]
    }
   ],
   "source": [
    "record_name = records[record_no].split(\"/\")[1] # This extracts the record name (e.g. '3000003') from the record\n",
    "print(\"Record name: {}\".format(record_name))"
   ]
  },
  {
   "cell_type": "markdown",
   "id": "742071da",
   "metadata": {},
   "source": [
    "### Load the metadata for this record\n",
    "- Use the [`rdheader`](https://wfdb.readthedocs.io/en/latest/io.html#wfdb.io.rdheader) function from the WFDB toolbox to load metadata from the record header file"
   ]
  },
  {
   "cell_type": "code",
   "execution_count": 65,
   "id": "c5a0afc5",
   "metadata": {},
   "outputs": [
    {
     "name": "stdout",
     "output_type": "stream",
     "text": [
      "Done: metadata loaded from header file at URL: https://physionet.org/content/mimic3wdb/1.0/30/3000003/3000003.hea\n"
     ]
    }
   ],
   "source": [
    "record_data = wfdb.rdheader(record_name, pn_dir=record_dir, rd_segments=False)\n",
    "print(\"Done: metadata loaded from header file at URL: {}\".format(\"https://physionet.org/content/\" + record_dir.replace(\"mimic3wdb/\", \"mimic3wdb/1.0/\") + record_name + \".hea\"))"
   ]
  },
  {
   "cell_type": "markdown",
   "id": "f7a4d25d",
   "metadata": {},
   "source": [
    "## Inspect details of physiological signals in this record\n",
    "- Printing a few details from the extracted metadata"
   ]
  },
  {
   "cell_type": "code",
   "execution_count": 66,
   "id": "58630149",
   "metadata": {},
   "outputs": [
    {
     "name": "stdout",
     "output_type": "stream",
     "text": [
      "- Number of signals: 5\n",
      "- Duration: 42.0 hours\n",
      "- Sampling frequency: 125 Hz\n"
     ]
    }
   ],
   "source": [
    "print(\"- Number of signals: {}\".format(record_data.n_sig))\n",
    "print(\"- Duration: {:.1f} hours\".format(record_data.sig_len/(record_data.fs*60*60))) \n",
    "print(\"- Sampling frequency: {} Hz\".format(record_data.fs))"
   ]
  },
  {
   "cell_type": "markdown",
   "id": "79df2f77",
   "metadata": {},
   "source": [
    "Note that:\n",
    "- Not all signals may be present throughout the duration of the record\n",
    "- All signals in MIMIC are sampled at 125 Hz."
   ]
  },
  {
   "cell_type": "markdown",
   "id": "7b3da17f",
   "metadata": {},
   "source": [
    "## Inspecting the segments in a record\n",
    "Each record is typically made up of several segments\n",
    "\n",
    "- Inspect the segments in this record"
   ]
  },
  {
   "cell_type": "code",
   "execution_count": 72,
   "id": "298e87ff",
   "metadata": {},
   "outputs": [
    {
     "name": "stdout",
     "output_type": "stream",
     "text": [
      "This record contains the following 22 segments:\n",
      "['3000003_layout', '3000003_0001', '3000003_0002', '3000003_0003', '3000003_0004', '3000003_0005', '3000003_0006', '3000003_0007', '~', '3000003_0008', '~', '3000003_0009', '~', '3000003_0010', '3000003_0011', '3000003_0012', '3000003_0013', '3000003_0014', '3000003_0015', '~', '3000003_0016', '3000003_0017', '~']\n"
     ]
    }
   ],
   "source": [
    "from pprint import pprint\n",
    "print(\"This record contains the following {} segments:\".format(len(record_data.seg_name)-1) ) # -1 because the first item is the layout.\n",
    "print(record_data.seg_name)"
   ]
  },
  {
   "cell_type": "markdown",
   "id": "b379eaaf",
   "metadata": {},
   "source": [
    "Note the format of the names of the segments: record directory, \"_\", segment number"
   ]
  },
  {
   "cell_type": "markdown",
   "id": "f19d231b",
   "metadata": {},
   "source": [
    "## Inspecting individual segments"
   ]
  },
  {
   "cell_type": "code",
   "execution_count": null,
   "id": "7f70d34f",
   "metadata": {},
   "outputs": [],
   "source": []
  }
 ],
 "metadata": {
  "kernelspec": {
   "display_name": "Python 3",
   "language": "python",
   "name": "python3"
  },
  "language_info": {
   "codemirror_mode": {
    "name": "ipython",
    "version": 3
   },
   "file_extension": ".py",
   "mimetype": "text/x-python",
   "name": "python",
   "nbconvert_exporter": "python",
   "pygments_lexer": "ipython3",
   "version": "3.8.8"
  },
  "toc": {
   "base_numbering": 1,
   "nav_menu": {},
   "number_sections": true,
   "sideBar": true,
   "skip_h1_title": false,
   "title_cell": "Table of Contents",
   "title_sidebar": "Contents",
   "toc_cell": false,
   "toc_position": {},
   "toc_section_display": true,
   "toc_window_display": false
  }
 },
 "nbformat": 4,
 "nbformat_minor": 5
}
