{
 "cells": [
  {
   "cell_type": "markdown",
   "id": "5d037743",
   "metadata": {},
   "source": [
    "# Data Exploration"
   ]
  },
  {
   "cell_type": "markdown",
   "id": "fbae8e9b",
   "metadata": {},
   "source": [
    "In this tutorial we will explore data in the MIMIC Waveform Database.\n",
    "\n",
    "The **objectives** are:\n",
    "- To gain an understanding of the structure of the MIMIC Database, consisting of subjects, studies, records, and segments.\n",
    "- To start using the WaveForm DataBase Toolbox to work with waveform data files\n",
    "- To understand how to find out what signals are present in a record or a segment, and how long they last."
   ]
  },
  {
   "cell_type": "markdown",
   "id": "28b8e213",
   "metadata": {},
   "source": [
    "---\n",
    "## Setup"
   ]
  },
  {
   "cell_type": "markdown",
   "id": "5dac032e",
   "metadata": {},
   "source": [
    "### Specify the required Python packages\n",
    "We'll import the following:\n",
    "- _sys_: an essential python package\n",
    "- _wfdb_: The WaveForm DataBase Toolbox package, which contains tools for processing waveform data such as those in MIMIC.\n",
    "- _pathlib_ (well a particular function from _pathlib_, called _Path_)"
   ]
  },
  {
   "cell_type": "code",
   "execution_count": 306,
   "id": "ce3cdfde",
   "metadata": {},
   "outputs": [],
   "source": [
    "import sys\n",
    "import wfdb\n",
    "from pathlib import Path"
   ]
  },
  {
   "cell_type": "markdown",
   "id": "d492e49f",
   "metadata": {},
   "source": [
    "Now that we have imported these packages (_i.e._ toolboxes) we have a set of tools (functions) ready to use."
   ]
  },
  {
   "cell_type": "markdown",
   "id": "e11ce5b6",
   "metadata": {},
   "source": [
    "<div class=\"alert alert-block alert-warning\"> <b>Resource:</b> You can find out more about the WFDB package <a href=\"https://physionet.org/content/wfdb-python/3.4.1/\">here</a>. </div>"
   ]
  },
  {
   "cell_type": "markdown",
   "id": "e7d38297",
   "metadata": {},
   "source": [
    "### Specify the version of the MIMIC Waveform Database to use\n",
    "We will use either the:\n",
    "- [MIMIC III Waveform Database](https://doi.org/10.13026/c2607m), or\n",
    "- MIMIC IV Waveform Database"
   ]
  },
  {
   "cell_type": "markdown",
   "id": "212c33c1",
   "metadata": {},
   "source": [
    "- Specify which version of the database to use:"
   ]
  },
  {
   "cell_type": "code",
   "execution_count": 307,
   "id": "b307acf2",
   "metadata": {},
   "outputs": [],
   "source": [
    "mimic_wfdb_version = 3 # either: 3 or 4"
   ]
  },
  {
   "cell_type": "markdown",
   "id": "68491718",
   "metadata": {},
   "source": [
    "- Setup for this particular version of the database:"
   ]
  },
  {
   "cell_type": "code",
   "execution_count": 308,
   "id": "982b8154",
   "metadata": {},
   "outputs": [
    {
     "name": "stdout",
     "output_type": "stream",
     "text": [
      "Using MIMIC Waveform Database version: 3\n"
     ]
    }
   ],
   "source": [
    "if mimic_wfdb_version == 3:\n",
    "    wfdb.set_db_index_url('https://physionet.org/files') # use the version of the WFDB toolbox which corresponds to MIMIC IV.\n",
    "    database_name = 'mimic3wdb/1.0' # The name of the MIMIC III Waveform Database on Physionet (see URL: https://physionet.org/content/mimic3wdb/1.0/)\n",
    "elif mimic_wfdb_version == 4:\n",
    "    wfdb.set_db_index_url('https://challenge.physionet.org/benjamin/db') # use the version of the WFDB toolbox which corresponds to MIMIC IV.\n",
    "    database_name = 'mimic4wdb/0.1.0' # The name of the MIMIC IV Waveform Demo Database on Physionet\n",
    "print(\"Using MIMIC Waveform Database version: {}\".format(mimic_wfdb_version))"
   ]
  },
  {
   "cell_type": "markdown",
   "id": "e49196a6",
   "metadata": {},
   "source": [
    "---\n",
    "## Identify the records in the database"
   ]
  },
  {
   "cell_type": "markdown",
   "id": "b476f9b7",
   "metadata": {},
   "source": [
    "### Get a list of records\n",
    "\n",
    "- Use the [`get_record_list`](https://wfdb.readthedocs.io/en/latest/io.html#wfdb.io.get_record_list) function from the WFDB toolbox to get a list of records in the database."
   ]
  },
  {
   "cell_type": "code",
   "execution_count": 309,
   "id": "2899b362",
   "metadata": {},
   "outputs": [
    {
     "name": "stdout",
     "output_type": "stream",
     "text": [
      "mimic3wdb/1.0\n",
      "mimic3wdb/1.0\n"
     ]
    }
   ],
   "source": [
    "print(database_name)\n",
    "print(f'{database_name}')"
   ]
  },
  {
   "cell_type": "code",
   "execution_count": 310,
   "id": "d91aa6a7",
   "metadata": {},
   "outputs": [
    {
     "name": "stdout",
     "output_type": "stream",
     "text": [
      "The 'mimic3wdb/1.0' database contains data from 67830 subjects\n",
      "Done: Loaded list of 19 records for 'mimic3wdb/1.0' database\n"
     ]
    }
   ],
   "source": [
    "records = []\n",
    "no_records_to_load = 10\n",
    "subjects = wfdb.get_record_list(database_name)\n",
    "print(\"The '{}' database contains data from {} subjects\".format(database_name, len(subjects)))\n",
    "finished = False\n",
    "for subject in subjects:\n",
    "    if (not finished):\n",
    "        studies = wfdb.get_record_list(f'{database_name}/{subject}')\n",
    "        for study in studies:\n",
    "            if mimic_wfdb_version == 3 & (\"_\" not in study): # This skips any files which don't contain waveform data (e.g. numerics files)\n",
    "                continue\n",
    "            records.append(Path(f'{subject}{study}'))\n",
    "            if len(records) >= no_records_to_load: # stop if we've loaded enough records\n",
    "                finished = True\n",
    "print(\"Done: Loaded list of {} records for '{}' database\".format(len(records), database_name))"
   ]
  },
  {
   "cell_type": "markdown",
   "id": "fc82d67e",
   "metadata": {},
   "source": [
    "### Look at the records"
   ]
  },
  {
   "cell_type": "markdown",
   "id": "29552f5a",
   "metadata": {},
   "source": [
    "- Display the first few records"
   ]
  },
  {
   "cell_type": "code",
   "execution_count": 311,
   "id": "bb5745a7",
   "metadata": {},
   "outputs": [
    {
     "name": "stdout",
     "output_type": "stream",
     "text": [
      "First five records: [PosixPath('30/3000003/3000003'), PosixPath('30/3000003/3000003n'), PosixPath('30/3000003/3000003_0001'), PosixPath('30/3000003/3000003_0002'), PosixPath('30/3000003/3000003_0003')]\n",
      "\n",
      "Note the formatting of these records:\n",
      " - intermediate directory ('30' in this case)\n",
      " - subject identifier ('3000003' in this case)\n",
      " - record identifier (e.g. '3000003_0001'\n"
     ]
    }
   ],
   "source": [
    "print(\"First five records: {}\".format(records[0:5]))\n",
    "if mimic_wfdb_version == 3:\n",
    "    print(\"\\nNote the formatting of these records:\\n - intermediate directory ('30' in this case)\\n - subject identifier ('3000003' in this case)\\n - record identifier (e.g. '3000003_0001'\")\n",
    "else:\n",
    "    print(\"\\nNote the formatting of these records:\\n - intermediate directory ('p100' in this case)\\n - subject identifier (e.g. 'p10014354')\\n - record identifier (e.g. '81739927'\")"
   ]
  },
  {
   "cell_type": "markdown",
   "id": "b56c29d5",
   "metadata": {},
   "source": [
    "<div class=\"alert alert-block alert-info\"> <b>Q:</b> Can you print the names of the last five records? <br> <b>Hint:</b> in Python, the last five elements can be specified using '[-5:]' </div>"
   ]
  },
  {
   "cell_type": "markdown",
   "id": "cb21a93b",
   "metadata": {},
   "source": [
    "---\n",
    "## Extract metadata for a record"
   ]
  },
  {
   "cell_type": "markdown",
   "id": "c39dc9f3",
   "metadata": {},
   "source": [
    "Each record contains metadata stored in a header file, named \"\\<record name\\>.hea\""
   ]
  },
  {
   "cell_type": "markdown",
   "id": "3b2e6adb",
   "metadata": {},
   "source": [
    "### Specify the online directory containing a record's data"
   ]
  },
  {
   "cell_type": "code",
   "execution_count": 312,
   "id": "86eed39f",
   "metadata": {},
   "outputs": [
    {
     "name": "stdout",
     "output_type": "stream",
     "text": [
      "Physionet directory specified for this record: mimic3wdb/1.0/30/3000003\n"
     ]
    }
   ],
   "source": [
    "if mimic_wfdb_version == 3:\n",
    "    no = 0\n",
    "else:\n",
    "    no = 3 # specify the fourth record (noting that in Python the first index is 0)\n",
    "record = records[no]\n",
    "record_dir = f'{database_name}/{record.parent}'\n",
    "print(\"Physionet directory specified for this record: {}\".format(record_dir))"
   ]
  },
  {
   "cell_type": "markdown",
   "id": "b5220ad3",
   "metadata": {},
   "source": [
    "### Specify the subject identifier"
   ]
  },
  {
   "cell_type": "markdown",
   "id": "d7a5bbef",
   "metadata": {},
   "source": [
    "Extract the record name (e.g. '83411188') from the record (e.g. 'p100/p10039708/83411188/83411188'):"
   ]
  },
  {
   "cell_type": "code",
   "execution_count": 313,
   "id": "b4bc247b",
   "metadata": {},
   "outputs": [
    {
     "name": "stdout",
     "output_type": "stream",
     "text": [
      "Record name: 3000003\n"
     ]
    }
   ],
   "source": [
    "record_name = record.name\n",
    "print(\"Record name: {}\".format(record_name))"
   ]
  },
  {
   "cell_type": "markdown",
   "id": "742071da",
   "metadata": {},
   "source": [
    "### Load the metadata for this record\n",
    "- Use the [`rdheader`](https://wfdb.readthedocs.io/en/latest/io.html#wfdb.io.rdheader) function from the WFDB toolbox to load metadata from the record header file"
   ]
  },
  {
   "cell_type": "code",
   "execution_count": 314,
   "id": "c5a0afc5",
   "metadata": {},
   "outputs": [
    {
     "name": "stdout",
     "output_type": "stream",
     "text": [
      "Done: metadata loaded for record '3000003' from header file at URL: https://physionet.org/content/mimic3wdb/1.0/30/3000003/3000003.hea\n"
     ]
    }
   ],
   "source": [
    "record_data = wfdb.rdheader(record_name, pn_dir=record_dir, rd_segments=True)\n",
    "print(\"Done: metadata loaded for record '{}' from header file at URL: {}\".format(record_name, \"https://physionet.org/content/\" + record_dir + \"/\" + record_name + \".hea\"))\n",
    "# NOTE \"https://physionet.org/content/\" won't be correct until the MIMIC-IV-Waveform is officially released"
   ]
  },
  {
   "cell_type": "markdown",
   "id": "f7a4d25d",
   "metadata": {},
   "source": [
    "---\n",
    "## Inspect details of physiological signals recorded in this record\n",
    "- Printing a few details of the signals from the extracted metadata"
   ]
  },
  {
   "cell_type": "code",
   "execution_count": 315,
   "id": "58630149",
   "metadata": {},
   "outputs": [
    {
     "name": "stdout",
     "output_type": "stream",
     "text": [
      "- Number of signals: 5\n",
      "- Duration: 42.0 hours\n",
      "- Sampling frequency: 125 Hz\n"
     ]
    }
   ],
   "source": [
    "print(\"- Number of signals: {}\".format(record_data.n_sig))\n",
    "print(\"- Duration: {:.1f} hours\".format(record_data.sig_len/(record_data.fs*60*60))) \n",
    "# NOTE fs isn't 125 Hz\n",
    "print(\"- Sampling frequency: {} Hz\".format(record_data.fs))"
   ]
  },
  {
   "cell_type": "markdown",
   "id": "7b3da17f",
   "metadata": {},
   "source": [
    "---\n",
    "## Inspect the segments making up a record\n",
    "Each record is typically made up of several segments"
   ]
  },
  {
   "cell_type": "markdown",
   "id": "83d789c7",
   "metadata": {},
   "source": [
    "### Inspect the files in a record"
   ]
  },
  {
   "cell_type": "code",
   "execution_count": 316,
   "id": "a93390d0",
   "metadata": {},
   "outputs": [
    {
     "name": "stdout",
     "output_type": "stream",
     "text": [
      "Done: Loaded list of 19 records for subject '3000003'\n"
     ]
    }
   ],
   "source": [
    "if mimic_wfdb_version == 3:\n",
    "    files = wfdb.get_record_list(str(Path(record_dir)))\n",
    "    print(\"Done: Loaded list of {} records for subject '{}'\".format(len(files), str(Path(record_dir).parts[-1])))\n",
    "else:\n",
    "    files = wfdb.get_record_list(str(Path(record_dir).parent))\n",
    "    print(\"Done: Loaded list of {} records for subject '{}'\".format(len(files), str(Path(record_dir).parent.parts[-1])))"
   ]
  },
  {
   "cell_type": "markdown",
   "id": "f8aae993",
   "metadata": {},
   "source": [
    "### Inspect the contents of the first two files"
   ]
  },
  {
   "cell_type": "code",
   "execution_count": 317,
   "id": "298e87ff",
   "metadata": {},
   "outputs": [
    {
     "name": "stdout",
     "output_type": "stream",
     "text": [
      "The first file is: '3000003', which provides metadata for the whole record\n",
      "The second file is: '3000003n', which contains numerics data\n"
     ]
    }
   ],
   "source": [
    "if mimic_wfdb_version == 3:\n",
    "    print(\"The first file is: '{}', which provides metadata for the whole record\".format(files[0]) )\n",
    "    print(\"The second file is: '{}', which contains numerics data\".format(files[1]) )    \n",
    "else:\n",
    "    print(\"The first file contains the first record: '{}'\".format(files[0]) )\n",
    "    print(\"The second file contains the second record: '{}'\".format(files[1]) )\n",
    "    print(\"where the number before the / is the record number and the number after is for the multi-segment header file. This multi-segment header file provides general information about the record.\")"
   ]
  },
  {
   "cell_type": "markdown",
   "id": "0f57f512",
   "metadata": {},
   "source": [
    "### Inspect the segments within a record"
   ]
  },
  {
   "cell_type": "code",
   "execution_count": 318,
   "id": "b127c857",
   "metadata": {},
   "outputs": [
    {
     "name": "stdout",
     "output_type": "stream",
     "text": [
      "The 17 segments from record 3000003 are: ['3000003_0001', '3000003_0002', '3000003_0003', '3000003_0004', '3000003_0005', '3000003_0006', '3000003_0007', '3000003_0008', '3000003_0009', '3000003_0010', '3000003_0011', '3000003_0012', '3000003_0013', '3000003_0014', '3000003_0015', '3000003_0016', '3000003_0017']\n"
     ]
    }
   ],
   "source": [
    "segments = record_data.seg_name\n",
    "# --- these lines remove non-waveform data from MIMIC III files\n",
    "for curr_seg in segments:\n",
    "    if (\"~\" in curr_seg) or (\"layout\" in curr_seg):\n",
    "        segments.remove(curr_seg)\n",
    "# ---\n",
    "print(\"The {} segments from record {} are: {}\".format(len(segments), record_name, segments) )"
   ]
  },
  {
   "cell_type": "markdown",
   "id": "b379eaaf",
   "metadata": {},
   "source": [
    "Note the format of the names of the files containing waveform data for each segment: record directory, \"_\", segment number"
   ]
  },
  {
   "cell_type": "markdown",
   "id": "f19d231b",
   "metadata": {},
   "source": [
    "---\n",
    "## Inspect an individual segment\n",
    "### Read the metadata for this segment\n",
    "- Read the metadata from the header file"
   ]
  },
  {
   "cell_type": "code",
   "execution_count": 319,
   "id": "7f70d34f",
   "metadata": {},
   "outputs": [
    {
     "name": "stdout",
     "output_type": "stream",
     "text": [
      "Header metadata loaded for the segment '3000003_0002' in study '3000003' for subject '30'\n"
     ]
    }
   ],
   "source": [
    "segment_metadata = wfdb.rdheader(record_name=segments[2], pn_dir=record_dir) \n",
    "print(\"Header metadata loaded for the segment '{}' in study '{}' for subject '{}'\".format(segments[1], record_name, str(Path(record_dir).parent.parts[-1])))"
   ]
  },
  {
   "cell_type": "markdown",
   "id": "d28771ac",
   "metadata": {},
   "source": [
    "### Find out what signals are present"
   ]
  },
  {
   "cell_type": "code",
   "execution_count": 320,
   "id": "324727df",
   "metadata": {},
   "outputs": [
    {
     "name": "stdout",
     "output_type": "stream",
     "text": [
      "This segment contains the following signals: ['II', 'V']\n",
      "The signals are measured in units of: ['mV', 'mV']\n"
     ]
    }
   ],
   "source": [
    "print(\"This segment contains the following signals: {}\".format(segment_metadata.sig_name))\n",
    "print(\"The signals are measured in units of: {}\".format(segment_metadata.units))"
   ]
  },
  {
   "cell_type": "markdown",
   "id": "f09b3f37",
   "metadata": {},
   "source": [
    "See [here](https://archive.physionet.org/mimic2/mimic2_waveform_overview.shtml#signals-125-samplessecond) for definitions of signal abbreviations."
   ]
  },
  {
   "cell_type": "markdown",
   "id": "3f56dd61",
   "metadata": {},
   "source": [
    "<div class=\"alert alert-block alert-info\"> <b>Q:</b> Which of these signals is still present in segment '3000003_0014' (for MIMIC III) or segment '83411188_0000' (for MIMIC IV)? </div>"
   ]
  },
  {
   "cell_type": "markdown",
   "id": "9f921f27",
   "metadata": {},
   "source": [
    "### Find out how long each signal lasts"
   ]
  },
  {
   "cell_type": "markdown",
   "id": "d217b764",
   "metadata": {},
   "source": [
    "All signals in a segment are time-aligned, measured at the same sampling frequency, and last the same duration:"
   ]
  },
  {
   "cell_type": "code",
   "execution_count": 321,
   "id": "c44f00a7",
   "metadata": {},
   "outputs": [
    {
     "name": "stdout",
     "output_type": "stream",
     "text": [
      "All the signals are sampled at 125 Hz\n",
      "and they last for 0.1 minutes\n"
     ]
    }
   ],
   "source": [
    "print(\"All the signals are sampled at {} Hz\".format(segment_metadata.fs))\n",
    "print(\"and they last for {:.1f} minutes\".format(segment_metadata.sig_len/(segment_metadata.fs*60)) )"
   ]
  }
 ],
 "metadata": {
  "kernelspec": {
   "display_name": "Python 3",
   "language": "python",
   "name": "python3"
  },
  "language_info": {
   "codemirror_mode": {
    "name": "ipython",
    "version": 3
   },
   "file_extension": ".py",
   "mimetype": "text/x-python",
   "name": "python",
   "nbconvert_exporter": "python",
   "pygments_lexer": "ipython3",
   "version": "3.8.8"
  },
  "toc": {
   "base_numbering": 1,
   "nav_menu": {},
   "number_sections": true,
   "sideBar": true,
   "skip_h1_title": true,
   "title_cell": "Table of Contents",
   "title_sidebar": "Contents",
   "toc_cell": false,
   "toc_position": {
    "height": "calc(100% - 180px)",
    "left": "10px",
    "top": "150px",
    "width": "306px"
   },
   "toc_section_display": true,
   "toc_window_display": true
  }
 },
 "nbformat": 4,
 "nbformat_minor": 5
}
