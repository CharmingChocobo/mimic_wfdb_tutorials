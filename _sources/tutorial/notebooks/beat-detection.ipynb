{
 "cells": [
  {
   "cell_type": "markdown",
   "id": "5d037743",
   "metadata": {},
   "source": [
    "# Detecting beats in the PPG signal\n",
    "Beats are detected in the PPG signal in order to segment individual pulse waves for analysis."
   ]
  },
  {
   "cell_type": "markdown",
   "id": "1afcdef9",
   "metadata": {},
   "source": [
    "---\n",
    "## Specify an ICU stay and segment\n",
    "\n",
    "<div class=\"alert alert-block alert-warning\"> <b>Resource:</b> These steps are taken from the <a href=\"https://wfdb.io/mimic_wfdb_tutorials/tutorial/notebooks/data-visualisation.html\">Data Visualisation</a> tutorial. </div>"
   ]
  },
  {
   "cell_type": "markdown",
   "id": "edd8e0c5",
   "metadata": {},
   "source": [
    "- Specify the required Python packages"
   ]
  },
  {
   "cell_type": "code",
   "execution_count": 19,
   "id": "ce3cdfde",
   "metadata": {},
   "outputs": [],
   "source": [
    "import sys\n",
    "import wfdb"
   ]
  },
  {
   "cell_type": "markdown",
   "id": "61a223f7",
   "metadata": {},
   "source": [
    "- Get a list of ICU stays in the database"
   ]
  },
  {
   "cell_type": "code",
   "execution_count": 20,
   "id": "ee8532b2",
   "metadata": {},
   "outputs": [
    {
     "name": "stdout",
     "output_type": "stream",
     "text": [
      "There are 67830 ICU stays in the database\n"
     ]
    }
   ],
   "source": [
    "database_name = 'mimic3wdb/1.0' # The name of the MIMIC III Waveform Database on Physionet (see URL: https://physionet.org/content/mimic3wdb/1.0/)\n",
    "icustay_records = wfdb.get_record_list(database_name)\n",
    "print(\"There are {} ICU stays in the database\".format(len(icustay_records)))"
   ]
  },
  {
   "cell_type": "markdown",
   "id": "61a9432c",
   "metadata": {},
   "source": [
    "- Specify an ICU stay"
   ]
  },
  {
   "cell_type": "code",
   "execution_count": 21,
   "id": "bb5745a7",
   "metadata": {},
   "outputs": [
    {
     "name": "stdout",
     "output_type": "stream",
     "text": [
      "Specified ICU stay: 3000125\n"
     ]
    }
   ],
   "source": [
    "icustay_no = 10 # specify the first record (noting that in Python the first index is 0)\n",
    "icustay_record = icustay_records[icustay_no]\n",
    "icustay_record_dir = database_name + '/' + icustay_record\n",
    "icustay_record_name = icustay_record.split(\"/\")[1]\n",
    "print(\"Specified ICU stay: {}\".format(icustay_record_name))"
   ]
  },
  {
   "cell_type": "markdown",
   "id": "8ed55718",
   "metadata": {},
   "source": [
    "- Specify a segment of this ICU stay"
   ]
  },
  {
   "cell_type": "code",
   "execution_count": 22,
   "id": "7dbf9e3a",
   "metadata": {},
   "outputs": [
    {
     "name": "stdout",
     "output_type": "stream",
     "text": [
      "Specified segment: '3000125_0005' within ICU stay '3000125'\n"
     ]
    }
   ],
   "source": [
    "icustay_files = wfdb.get_record_list(icustay_record_dir)\n",
    "icustay_segments = [s for s in icustay_files if \"_\" in s]\n",
    "icustay_segment_no = 4;\n",
    "icustay_segment_name = icustay_segments[icustay_segment_no]\n",
    "print(\"Specified segment: '{}' within ICU stay '{}'\".format(icustay_segment_name, icustay_record_name))"
   ]
  },
  {
   "cell_type": "markdown",
   "id": "fda3cdf7",
   "metadata": {},
   "source": [
    "---\n",
    "## Extract data for this segment\n",
    "<div class=\"alert alert-block alert-warning\"> <b>Resource:</b> These steps are taken from the <a href=\"https://wfdb.io/mimic_wfdb_tutorials/tutorial/notebooks/data-visualisation.html\">Data Visualisation</a> tutorial. </div>"
   ]
  },
  {
   "cell_type": "markdown",
   "id": "47a63ea6",
   "metadata": {},
   "source": [
    "- Specify the timings of the data to be extracted"
   ]
  },
  {
   "cell_type": "code",
   "execution_count": 23,
   "id": "75fd6b99",
   "metadata": {},
   "outputs": [],
   "source": [
    "start_seconds = 60 # time since the start of the segment at which to begin extracting data\n",
    "no_seconds_to_load = 5"
   ]
  },
  {
   "cell_type": "markdown",
   "id": "bb71616e",
   "metadata": {},
   "source": [
    "- Find out the sampling frequency of the waveform data"
   ]
  },
  {
   "cell_type": "code",
   "execution_count": 24,
   "id": "ac21feb2",
   "metadata": {},
   "outputs": [],
   "source": [
    "segment_metadata = wfdb.rdheader(record_name=icustay_segment_name, pn_dir=icustay_record_dir)\n",
    "fs = segment_metadata.fs"
   ]
  },
  {
   "cell_type": "markdown",
   "id": "cd93e67f",
   "metadata": {},
   "source": [
    "- Extract the specified data"
   ]
  },
  {
   "cell_type": "code",
   "execution_count": 25,
   "id": "8626ebac",
   "metadata": {},
   "outputs": [
    {
     "name": "stdout",
     "output_type": "stream",
     "text": [
      "5 seconds of data extracted from: 3000125_0005\n"
     ]
    }
   ],
   "source": [
    "sampfrom = fs*start_seconds\n",
    "sampto = fs*(start_seconds+no_seconds_to_load)\n",
    "segment_data = wfdb.rdrecord(record_name=icustay_segment_name, sampfrom=sampfrom, sampto=sampto, pn_dir=icustay_record_dir) \n",
    "print(\"{} seconds of data extracted from: {}\".format(no_seconds_to_load, icustay_segment_name))"
   ]
  },
  {
   "cell_type": "markdown",
   "id": "3b79a329",
   "metadata": {},
   "source": [
    "---\n",
    "## Extract the PPG signal\n",
    "<div class=\"alert alert-block alert-warning\"> <b>Resource:</b> This step is taken from the <a href=\"https://wfdb.io/mimic_wfdb_tutorials/tutorial/notebooks/differentiation.html\">Differentiation</a> tutorial. </div>"
   ]
  },
  {
   "cell_type": "markdown",
   "id": "ff1705e5",
   "metadata": {},
   "source": [
    "- Extract the PPG signal from the segment data"
   ]
  },
  {
   "cell_type": "code",
   "execution_count": 26,
   "id": "cea96b6f",
   "metadata": {},
   "outputs": [],
   "source": [
    "ppg = segment_data.p_signal[:,2]"
   ]
  },
  {
   "cell_type": "markdown",
   "id": "744b7444",
   "metadata": {},
   "source": [
    "---\n",
    "## Detect beats in the PPG signal"
   ]
  },
  {
   "cell_type": "markdown",
   "id": "e053f891",
   "metadata": {},
   "source": [
    "- Import the [HeartPy package](https://python-heart-rate-analysis-toolkit.readthedocs.io/en/latest/), which includes code for detecting beats in PPG signals."
   ]
  },
  {
   "cell_type": "code",
   "execution_count": 27,
   "id": "4327f58d",
   "metadata": {},
   "outputs": [
    {
     "name": "stdout",
     "output_type": "stream",
     "text": [
      "Requirement already satisfied: heartpy in /Users/petercharlton/anaconda3/lib/python3.8/site-packages (1.2.7)\n",
      "Requirement already satisfied: scipy in /Users/petercharlton/anaconda3/lib/python3.8/site-packages (from heartpy) (1.6.2)\n",
      "Requirement already satisfied: matplotlib in /Users/petercharlton/anaconda3/lib/python3.8/site-packages (from heartpy) (3.3.4)\n",
      "Requirement already satisfied: numpy>=1.17 in /Users/petercharlton/anaconda3/lib/python3.8/site-packages (from heartpy) (1.20.1)\n",
      "Requirement already satisfied: cycler>=0.10 in /Users/petercharlton/anaconda3/lib/python3.8/site-packages (from matplotlib->heartpy) (0.10.0)\n",
      "Requirement already satisfied: kiwisolver>=1.0.1 in /Users/petercharlton/anaconda3/lib/python3.8/site-packages (from matplotlib->heartpy) (1.3.1)\n",
      "Requirement already satisfied: python-dateutil>=2.1 in /Users/petercharlton/anaconda3/lib/python3.8/site-packages (from matplotlib->heartpy) (2.8.1)\n",
      "Requirement already satisfied: pillow>=6.2.0 in /Users/petercharlton/anaconda3/lib/python3.8/site-packages (from matplotlib->heartpy) (8.2.0)\n",
      "Requirement already satisfied: pyparsing!=2.0.4,!=2.1.2,!=2.1.6,>=2.0.3 in /Users/petercharlton/anaconda3/lib/python3.8/site-packages (from matplotlib->heartpy) (2.4.7)\n",
      "Requirement already satisfied: six in /Users/petercharlton/anaconda3/lib/python3.8/site-packages (from cycler>=0.10->matplotlib->heartpy) (1.15.0)\n",
      "Note: you may need to restart the kernel to use updated packages.\n"
     ]
    }
   ],
   "source": [
    "pip install heartpy"
   ]
  },
  {
   "cell_type": "code",
   "execution_count": 28,
   "id": "22c43f2d",
   "metadata": {},
   "outputs": [],
   "source": [
    "import heartpy as hp"
   ]
  },
  {
   "cell_type": "markdown",
   "id": "28d22e30",
   "metadata": {},
   "source": [
    "- Analyse using HeartPy"
   ]
  },
  {
   "cell_type": "code",
   "execution_count": 29,
   "id": "56aa8e61",
   "metadata": {},
   "outputs": [
    {
     "name": "stdout",
     "output_type": "stream",
     "text": [
      "HeartPy estimated the heart rate to be: 85.6 bpm\n"
     ]
    }
   ],
   "source": [
    "working_data, measures = hp.process(ppg, fs)\n",
    "print(\"HeartPy estimated the heart rate to be: {:.1f} bpm\".format(measures['bpm']))"
   ]
  },
  {
   "cell_type": "markdown",
   "id": "65a2f117",
   "metadata": {},
   "source": [
    "- Plot the results using HeartPy's plotting function"
   ]
  },
  {
   "cell_type": "code",
   "execution_count": 30,
   "id": "68af0c37",
   "metadata": {},
   "outputs": [
    {
     "name": "stderr",
     "output_type": "stream",
     "text": [
      "/Users/petercharlton/anaconda3/lib/python3.8/site-packages/heartpy/visualizeutils.py:119: UserWarning: Matplotlib is currently using module://ipykernel.pylab.backend_inline, which is a non-GUI backend, so cannot show the figure.\n",
      "  fig.show()\n"
     ]
    },
    {
     "data": {
      "image/png": "[encoded data removed]",
      "text/plain": [
       "<Figure size 432x288 with 1 Axes>"
      ]
     },
     "metadata": {
      "needs_background": "light"
     },
     "output_type": "display_data"
    }
   ],
   "source": [
    "hp.plotter(working_data, measures, title='Detecting heart beats in the PPG')"
   ]
  }
 ],
 "metadata": {
  "kernelspec": {
   "display_name": "Python 3",
   "language": "python",
   "name": "python3"
  },
  "language_info": {
   "codemirror_mode": {
    "name": "ipython",
    "version": 3
   },
   "file_extension": ".py",
   "mimetype": "text/x-python",
   "name": "python",
   "nbconvert_exporter": "python",
   "pygments_lexer": "ipython3",
   "version": "3.8.8"
  },
  "toc": {
   "base_numbering": 1,
   "nav_menu": {},
   "number_sections": true,
   "sideBar": true,
   "skip_h1_title": false,
   "title_cell": "Table of Contents",
   "title_sidebar": "Contents",
   "toc_cell": false,
   "toc_position": {},
   "toc_section_display": true,
   "toc_window_display": false
  }
 },
 "nbformat": 4,
 "nbformat_minor": 5
}
