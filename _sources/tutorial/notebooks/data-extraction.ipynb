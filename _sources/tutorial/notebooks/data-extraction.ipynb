{
 "cells": [
  {
   "cell_type": "markdown",
   "id": "5d037743",
   "metadata": {},
   "source": [
    "# Data Extraction\n",
    "\n",
    "Extract data from the MIMIC Waveform Database."
   ]
  },
  {
   "cell_type": "markdown",
   "id": "1afcdef9",
   "metadata": {},
   "source": [
    "---\n",
    "## Specify an ICU stay and segment\n",
    "\n",
    "<div class=\"alert alert-block alert-warning\"> <b>Resource:</b> These steps are taken from the <a href=\"https://wfdb.io/mimic_wfdb_tutorials/tutorial/notebooks/data-exploration.html\">Data Exploration</a> tutorial. </div>"
   ]
  },
  {
   "cell_type": "markdown",
   "id": "57a2e572",
   "metadata": {},
   "source": [
    "- Specify the required Python packages"
   ]
  },
  {
   "cell_type": "code",
   "execution_count": 1,
   "id": "ce3cdfde",
   "metadata": {},
   "outputs": [],
   "source": [
    "import sys\n",
    "import wfdb"
   ]
  },
  {
   "cell_type": "markdown",
   "id": "7b418428",
   "metadata": {},
   "source": [
    "- Get a list of ICU stays in the database"
   ]
  },
  {
   "cell_type": "code",
   "execution_count": 2,
   "id": "d50fe00a",
   "metadata": {},
   "outputs": [
    {
     "name": "stdout",
     "output_type": "stream",
     "text": [
      "There are 67830 ICU stays in the database\n"
     ]
    }
   ],
   "source": [
    "database_name = 'mimic3wdb/1.0' # The name of the MIMIC III Waveform Database on Physionet (see URL: https://physionet.org/content/mimic3wdb/1.0/)\n",
    "icustay_records = wfdb.get_record_list(database_name)\n",
    "print(\"There are {} ICU stays in the database\".format(len(icustay_records)))"
   ]
  },
  {
   "cell_type": "markdown",
   "id": "04a9036e",
   "metadata": {},
   "source": [
    "- Specify an ICU stay"
   ]
  },
  {
   "cell_type": "code",
   "execution_count": 3,
   "id": "bb5745a7",
   "metadata": {},
   "outputs": [
    {
     "name": "stdout",
     "output_type": "stream",
     "text": [
      "Specified ICU stay: 3000003\n"
     ]
    }
   ],
   "source": [
    "icustay_no = 0 # specify the first record (noting that in Python the first index is 0)\n",
    "icustay_record = icustay_records[icustay_no]\n",
    "icustay_record_dir = database_name + '/' + icustay_record\n",
    "icustay_record_name = icustay_record.split(\"/\")[1]\n",
    "print(\"Specified ICU stay: {}\".format(icustay_record_name))"
   ]
  },
  {
   "cell_type": "markdown",
   "id": "742fff16",
   "metadata": {},
   "source": [
    "- Specify a segment of this ICU stay"
   ]
  },
  {
   "cell_type": "code",
   "execution_count": 4,
   "id": "b9a1d523",
   "metadata": {},
   "outputs": [
    {
     "name": "stdout",
     "output_type": "stream",
     "text": [
      "Specified segment: '3000003_0001' within ICU stay '3000003'\n"
     ]
    }
   ],
   "source": [
    "icustay_files = wfdb.get_record_list(icustay_record_dir)\n",
    "icustay_segments = [s for s in icustay_files if \"_\" in s]\n",
    "icustay_segment_no = 0;\n",
    "icustay_segment_name = icustay_segments[icustay_segment_no]\n",
    "print(\"Specified segment: '{}' within ICU stay '{}'\".format(icustay_segment_name, icustay_record_name))"
   ]
  },
  {
   "cell_type": "markdown",
   "id": "3b2e6adb",
   "metadata": {},
   "source": [
    "---\n",
    "## Extract data for this segment"
   ]
  },
  {
   "cell_type": "markdown",
   "id": "e8810358",
   "metadata": {},
   "source": [
    "- Use the [`rdrecord`](https://wfdb.readthedocs.io/en/latest/io.html#wfdb.io.rdrecord) function from the WFDB toolbox to read the data for this segment."
   ]
  },
  {
   "cell_type": "code",
   "execution_count": 5,
   "id": "8626ebac",
   "metadata": {},
   "outputs": [
    {
     "name": "stdout",
     "output_type": "stream",
     "text": [
      "Data loaded from segment: 3000003_0001\n"
     ]
    }
   ],
   "source": [
    "record_data = wfdb.rdrecord(record_name=icustay_segment_name, pn_dir=icustay_record_dir) \n",
    "print(\"Data loaded from segment: {}\".format(icustay_segment_name))"
   ]
  },
  {
   "cell_type": "markdown",
   "id": "5032d6c4",
   "metadata": {},
   "source": [
    "- Look at class type of the object in which the data are stored:"
   ]
  },
  {
   "cell_type": "code",
   "execution_count": 6,
   "id": "967fa4ef",
   "metadata": {},
   "outputs": [
    {
     "name": "stdout",
     "output_type": "stream",
     "text": [
      "Data stored in class of type: <class 'wfdb.io.record.Record'>\n"
     ]
    }
   ],
   "source": [
    "print(\"Data stored in class of type: {}\".format(type(record_data)))"
   ]
  },
  {
   "cell_type": "markdown",
   "id": "cf2d5ed7",
   "metadata": {},
   "source": [
    "<div class=\"alert alert-block alert-warning\"> <b>Resource:</b> You can find out more about the class representing single segment WFDB records <a href=\"https://wfdb.readthedocs.io/en/stable/io.html?highlight=class#wfdb.io.Record\">here</a>. </div>"
   ]
  },
  {
   "cell_type": "markdown",
   "id": "85a0d656",
   "metadata": {},
   "source": [
    "- Find out about the signals which have been extracted"
   ]
  },
  {
   "cell_type": "code",
   "execution_count": 7,
   "id": "6d5416b6",
   "metadata": {},
   "outputs": [
    {
     "name": "stdout",
     "output_type": "stream",
     "text": [
      "This segment contains waveform data for the following 2 signals: ['II', 'V']\n",
      "The signals are sampled at 125 Hz\n",
      "They last for 2.3 minutes\n"
     ]
    }
   ],
   "source": [
    "print(\"This segment contains waveform data for the following {} signals: {}\".format(record_data.n_sig, record_data.sig_name))\n",
    "print(\"The signals are sampled at {} Hz\".format(record_data.fs))\n",
    "print(\"They last for {:.1f} minutes\".format(record_data.sig_len/(60*record_data.fs)))"
   ]
  },
  {
   "cell_type": "code",
   "execution_count": null,
   "id": "19dd1a42",
   "metadata": {},
   "outputs": [],
   "source": []
  }
 ],
 "metadata": {
  "kernelspec": {
   "display_name": "Python 3",
   "language": "python",
   "name": "python3"
  },
  "language_info": {
   "codemirror_mode": {
    "name": "ipython",
    "version": 3
   },
   "file_extension": ".py",
   "mimetype": "text/x-python",
   "name": "python",
   "nbconvert_exporter": "python",
   "pygments_lexer": "ipython3",
   "version": "3.8.8"
  },
  "toc": {
   "base_numbering": 1,
   "nav_menu": {},
   "number_sections": true,
   "sideBar": true,
   "skip_h1_title": false,
   "title_cell": "Table of Contents",
   "title_sidebar": "Contents",
   "toc_cell": false,
   "toc_position": {},
   "toc_section_display": true,
   "toc_window_display": false
  }
 },
 "nbformat": 4,
 "nbformat_minor": 5
}
